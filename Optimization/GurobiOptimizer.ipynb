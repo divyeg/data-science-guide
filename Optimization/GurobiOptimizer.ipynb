{
 "cells": [
  {
   "cell_type": "code",
   "execution_count": 1,
   "metadata": {},
   "outputs": [],
   "source": [
    "# %pip install gurobipy\n",
    "# %conda install -c fico-xpress xpress -y"
   ]
  },
  {
   "cell_type": "code",
   "execution_count": 2,
   "metadata": {},
   "outputs": [],
   "source": [
    "import numpy as np\n",
    "import pandas as pd\n",
    "import gurobipy as gp\n",
    "from gurobipy import GRB\n",
    "import xpress as xp\n",
    "from loguru import logger\n",
    "\n",
    "np.random.seed(12)"
   ]
  },
  {
   "cell_type": "code",
   "execution_count": 3,
   "metadata": {},
   "outputs": [
    {
     "name": "stdout",
     "output_type": "stream",
     "text": [
      "dsp : ['GAZL', 'DOBU', 'GODL', 'AMZL', 'AMXL', 'DTUY', 'FREZ', 'CORP', 'WADL', 'MITF']\n",
      "station : ['BFI5', 'DTE6', 'DXT7', 'DEB8', 'DBU9']\n"
     ]
    }
   ],
   "source": [
    "# Let's say we have 5 stations and each station has 2 DSPs\n",
    "stations = [\"BFI5\", \"DTE6\", \"DXT7\", \"DEB8\", \"DBU9\"]\n",
    "dsps = [\"GAZL\", \"DOBU\", \"GODL\", \"AMZL\", \"AMXL\", \"DTUY\", \"FREZ\", \"CORP\", \"WADL\", \"MITF\"]\n",
    "\n",
    "print(f\"dsp : {dsps}\")\n",
    "print(f\"station : {stations}\")"
   ]
  },
  {
   "cell_type": "code",
   "execution_count": 4,
   "metadata": {},
   "outputs": [],
   "source": [
    "# station_volume_forecast = dict(\n",
    "#     zip(stations, np.random.normal(loc=1000, scale=50, size=5).clip(800.0, 1200.0))\n",
    "# )\n",
    "\n",
    "# station_spr_forecast = dict(\n",
    "#     zip(stations, np.random.normal(loc=25.0, scale=10.0, size=5).clip(15.0, 50.0))\n",
    "# )\n",
    "\n",
    "# dsp_capacity_forecast = dict(\n",
    "#     zip(dsps, np.random.normal(loc=25.0, scale=10.0, size=10).clip(15.0, 50.0))\n",
    "# )"
   ]
  },
  {
   "cell_type": "code",
   "execution_count": 5,
   "metadata": {},
   "outputs": [
    {
     "name": "stderr",
     "output_type": "stream",
     "text": [
      "2024-02-11 15:01:09.189 | DEBUG    | __main__:<module>:54 - code completed for week 1\n",
      "2024-02-11 15:01:09.198 | DEBUG    | __main__:<module>:54 - code completed for week 2\n",
      "2024-02-11 15:01:09.205 | DEBUG    | __main__:<module>:54 - code completed for week 3\n",
      "2024-02-11 15:01:09.212 | DEBUG    | __main__:<module>:54 - code completed for week 4\n",
      "2024-02-11 15:01:09.219 | DEBUG    | __main__:<module>:54 - code completed for week 5\n",
      "2024-02-11 15:01:09.225 | DEBUG    | __main__:<module>:54 - code completed for week 6\n",
      "2024-02-11 15:01:09.230 | DEBUG    | __main__:<module>:54 - code completed for week 7\n",
      "2024-02-11 15:01:09.236 | DEBUG    | __main__:<module>:54 - code completed for week 8\n",
      "2024-02-11 15:01:09.241 | DEBUG    | __main__:<module>:54 - code completed for week 9\n",
      "2024-02-11 15:01:09.245 | DEBUG    | __main__:<module>:54 - code completed for week 10\n",
      "2024-02-11 15:01:09.251 | DEBUG    | __main__:<module>:54 - code completed for week 11\n",
      "2024-02-11 15:01:09.255 | DEBUG    | __main__:<module>:54 - code completed for week 12\n",
      "2024-02-11 15:01:09.260 | DEBUG    | __main__:<module>:54 - code completed for week 13\n"
     ]
    },
    {
     "data": {
      "text/html": [
       "<div>\n",
       "<style scoped>\n",
       "    .dataframe tbody tr th:only-of-type {\n",
       "        vertical-align: middle;\n",
       "    }\n",
       "\n",
       "    .dataframe tbody tr th {\n",
       "        vertical-align: top;\n",
       "    }\n",
       "\n",
       "    .dataframe thead th {\n",
       "        text-align: right;\n",
       "    }\n",
       "</style>\n",
       "<table border=\"1\" class=\"dataframe\">\n",
       "  <thead>\n",
       "    <tr style=\"text-align: right;\">\n",
       "      <th></th>\n",
       "      <th>week</th>\n",
       "      <th>stations</th>\n",
       "      <th>dsp</th>\n",
       "      <th>volume_forecast</th>\n",
       "      <th>spr_forecast</th>\n",
       "      <th>routes_demand</th>\n",
       "      <th>dsp_capacity</th>\n",
       "      <th>volume_share</th>\n",
       "      <th>dsp_routes_demand</th>\n",
       "      <th>is_elligible_target</th>\n",
       "      <th>station_capacity</th>\n",
       "      <th>cap_gap_station</th>\n",
       "      <th>is_under_solved</th>\n",
       "    </tr>\n",
       "  </thead>\n",
       "  <tbody>\n",
       "    <tr>\n",
       "      <th>0</th>\n",
       "      <td>1</td>\n",
       "      <td>BFI5</td>\n",
       "      <td>DTUY</td>\n",
       "      <td>1023</td>\n",
       "      <td>15</td>\n",
       "      <td>68</td>\n",
       "      <td>23</td>\n",
       "      <td>0.3</td>\n",
       "      <td>20.4</td>\n",
       "      <td>0</td>\n",
       "      <td>42</td>\n",
       "      <td>-26</td>\n",
       "      <td>1</td>\n",
       "    </tr>\n",
       "    <tr>\n",
       "      <th>1</th>\n",
       "      <td>2</td>\n",
       "      <td>BFI5</td>\n",
       "      <td>DTUY</td>\n",
       "      <td>1025</td>\n",
       "      <td>15</td>\n",
       "      <td>68</td>\n",
       "      <td>25</td>\n",
       "      <td>0.3</td>\n",
       "      <td>20.4</td>\n",
       "      <td>0</td>\n",
       "      <td>44</td>\n",
       "      <td>-24</td>\n",
       "      <td>1</td>\n",
       "    </tr>\n",
       "    <tr>\n",
       "      <th>2</th>\n",
       "      <td>3</td>\n",
       "      <td>BFI5</td>\n",
       "      <td>DTUY</td>\n",
       "      <td>971</td>\n",
       "      <td>19</td>\n",
       "      <td>51</td>\n",
       "      <td>24</td>\n",
       "      <td>0.3</td>\n",
       "      <td>15.3</td>\n",
       "      <td>1</td>\n",
       "      <td>51</td>\n",
       "      <td>0</td>\n",
       "      <td>0</td>\n",
       "    </tr>\n",
       "    <tr>\n",
       "      <th>3</th>\n",
       "      <td>4</td>\n",
       "      <td>BFI5</td>\n",
       "      <td>DTUY</td>\n",
       "      <td>1047</td>\n",
       "      <td>27</td>\n",
       "      <td>38</td>\n",
       "      <td>41</td>\n",
       "      <td>0.3</td>\n",
       "      <td>11.4</td>\n",
       "      <td>1</td>\n",
       "      <td>64</td>\n",
       "      <td>26</td>\n",
       "      <td>0</td>\n",
       "    </tr>\n",
       "    <tr>\n",
       "      <th>4</th>\n",
       "      <td>5</td>\n",
       "      <td>BFI5</td>\n",
       "      <td>DTUY</td>\n",
       "      <td>933</td>\n",
       "      <td>15</td>\n",
       "      <td>62</td>\n",
       "      <td>15</td>\n",
       "      <td>0.3</td>\n",
       "      <td>18.6</td>\n",
       "      <td>0</td>\n",
       "      <td>36</td>\n",
       "      <td>-26</td>\n",
       "      <td>1</td>\n",
       "    </tr>\n",
       "    <tr>\n",
       "      <th>...</th>\n",
       "      <td>...</td>\n",
       "      <td>...</td>\n",
       "      <td>...</td>\n",
       "      <td>...</td>\n",
       "      <td>...</td>\n",
       "      <td>...</td>\n",
       "      <td>...</td>\n",
       "      <td>...</td>\n",
       "      <td>...</td>\n",
       "      <td>...</td>\n",
       "      <td>...</td>\n",
       "      <td>...</td>\n",
       "      <td>...</td>\n",
       "    </tr>\n",
       "    <tr>\n",
       "      <th>125</th>\n",
       "      <td>9</td>\n",
       "      <td>DXT7</td>\n",
       "      <td>GODL</td>\n",
       "      <td>1029</td>\n",
       "      <td>18</td>\n",
       "      <td>57</td>\n",
       "      <td>22</td>\n",
       "      <td>0.2</td>\n",
       "      <td>11.4</td>\n",
       "      <td>0</td>\n",
       "      <td>43</td>\n",
       "      <td>-14</td>\n",
       "      <td>1</td>\n",
       "    </tr>\n",
       "    <tr>\n",
       "      <th>126</th>\n",
       "      <td>10</td>\n",
       "      <td>DXT7</td>\n",
       "      <td>GODL</td>\n",
       "      <td>1038</td>\n",
       "      <td>35</td>\n",
       "      <td>29</td>\n",
       "      <td>15</td>\n",
       "      <td>0.2</td>\n",
       "      <td>5.8</td>\n",
       "      <td>1</td>\n",
       "      <td>43</td>\n",
       "      <td>14</td>\n",
       "      <td>0</td>\n",
       "    </tr>\n",
       "    <tr>\n",
       "      <th>127</th>\n",
       "      <td>11</td>\n",
       "      <td>DXT7</td>\n",
       "      <td>GODL</td>\n",
       "      <td>1039</td>\n",
       "      <td>31</td>\n",
       "      <td>33</td>\n",
       "      <td>32</td>\n",
       "      <td>0.2</td>\n",
       "      <td>6.6</td>\n",
       "      <td>1</td>\n",
       "      <td>62</td>\n",
       "      <td>29</td>\n",
       "      <td>0</td>\n",
       "    </tr>\n",
       "    <tr>\n",
       "      <th>128</th>\n",
       "      <td>12</td>\n",
       "      <td>DXT7</td>\n",
       "      <td>GODL</td>\n",
       "      <td>1019</td>\n",
       "      <td>19</td>\n",
       "      <td>53</td>\n",
       "      <td>36</td>\n",
       "      <td>0.2</td>\n",
       "      <td>10.6</td>\n",
       "      <td>1</td>\n",
       "      <td>72</td>\n",
       "      <td>19</td>\n",
       "      <td>0</td>\n",
       "    </tr>\n",
       "    <tr>\n",
       "      <th>129</th>\n",
       "      <td>13</td>\n",
       "      <td>DXT7</td>\n",
       "      <td>GODL</td>\n",
       "      <td>849</td>\n",
       "      <td>24</td>\n",
       "      <td>35</td>\n",
       "      <td>19</td>\n",
       "      <td>0.2</td>\n",
       "      <td>7.0</td>\n",
       "      <td>1</td>\n",
       "      <td>35</td>\n",
       "      <td>0</td>\n",
       "      <td>0</td>\n",
       "    </tr>\n",
       "  </tbody>\n",
       "</table>\n",
       "<p>130 rows × 13 columns</p>\n",
       "</div>"
      ],
      "text/plain": [
       "     week stations   dsp  volume_forecast  spr_forecast  routes_demand  \\\n",
       "0       1     BFI5  DTUY             1023            15             68   \n",
       "1       2     BFI5  DTUY             1025            15             68   \n",
       "2       3     BFI5  DTUY              971            19             51   \n",
       "3       4     BFI5  DTUY             1047            27             38   \n",
       "4       5     BFI5  DTUY              933            15             62   \n",
       "..    ...      ...   ...              ...           ...            ...   \n",
       "125     9     DXT7  GODL             1029            18             57   \n",
       "126    10     DXT7  GODL             1038            35             29   \n",
       "127    11     DXT7  GODL             1039            31             33   \n",
       "128    12     DXT7  GODL             1019            19             53   \n",
       "129    13     DXT7  GODL              849            24             35   \n",
       "\n",
       "     dsp_capacity  volume_share  dsp_routes_demand  is_elligible_target  \\\n",
       "0              23           0.3               20.4                    0   \n",
       "1              25           0.3               20.4                    0   \n",
       "2              24           0.3               15.3                    1   \n",
       "3              41           0.3               11.4                    1   \n",
       "4              15           0.3               18.6                    0   \n",
       "..            ...           ...                ...                  ...   \n",
       "125            22           0.2               11.4                    0   \n",
       "126            15           0.2                5.8                    1   \n",
       "127            32           0.2                6.6                    1   \n",
       "128            36           0.2               10.6                    1   \n",
       "129            19           0.2                7.0                    1   \n",
       "\n",
       "     station_capacity  cap_gap_station  is_under_solved  \n",
       "0                  42              -26                1  \n",
       "1                  44              -24                1  \n",
       "2                  51                0                0  \n",
       "3                  64               26                0  \n",
       "4                  36              -26                1  \n",
       "..                ...              ...              ...  \n",
       "125                43              -14                1  \n",
       "126                43               14                0  \n",
       "127                62               29                0  \n",
       "128                72               19                0  \n",
       "129                35                0                0  \n",
       "\n",
       "[130 rows x 13 columns]"
      ]
     },
     "execution_count": 5,
     "metadata": {},
     "output_type": "execute_result"
    }
   ],
   "source": [
    "final_data = pd.DataFrame()\n",
    "for week in range(1, 14):\n",
    "    station_volume_forecast = dict(\n",
    "        zip(stations, np.random.normal(loc=1000, scale=50, size=5).clip(800.0, 1200.0))\n",
    "    )\n",
    "\n",
    "    station_spr_forecast = dict(\n",
    "        zip(stations, np.random.normal(loc=25.0, scale=10.0, size=5).clip(15.0, 50.0))\n",
    "    )\n",
    "\n",
    "    dsp_capacity_forecast = dict(\n",
    "        zip(dsps, np.random.normal(loc=25.0, scale=10.0, size=10).clip(15.0, 50.0))\n",
    "    )\n",
    "    data = {\"week\": np.repeat(week, 10), \"stations\": stations + stations, \"dsp\": dsps}\n",
    "    station_dsp = pd.DataFrame(data=data)\n",
    "    station_dsp = station_dsp.sort_values(by=[\"stations\", \"dsp\", \"week\"]).reset_index(\n",
    "        drop=True\n",
    "    )\n",
    "    station_dsp[\"volume_forecast\"] = (\n",
    "        station_dsp[\"stations\"].map(station_volume_forecast).astype(\"int32\")\n",
    "    )\n",
    "    station_dsp[\"spr_forecast\"] = (\n",
    "        station_dsp[\"stations\"].map(station_spr_forecast).astype(\"int32\")\n",
    "    )\n",
    "    station_dsp[\"routes_demand\"] = (\n",
    "        station_dsp.volume_forecast / station_dsp.spr_forecast\n",
    "    ).astype(\"int32\")\n",
    "    station_dsp[\"dsp_capacity\"] = (\n",
    "        station_dsp[\"dsp\"].map(dsp_capacity_forecast).astype(\"int32\")\n",
    "    )\n",
    "    station_dsp[\"volume_share\"] = [0.3, 0.7, 0.6, 0.4, 0.5, 0.5, 0.6, 0.4, 0.8, 0.2]\n",
    "    station_dsp[\"dsp_routes_demand\"] = (\n",
    "        station_dsp.routes_demand * station_dsp.volume_share\n",
    "    )\n",
    "    station_dsp[\"is_elligible_target\"] = np.where(\n",
    "        station_dsp.dsp_routes_demand < station_dsp.dsp_capacity, 1, 0\n",
    "    )\n",
    "    station_cap = (\n",
    "        station_dsp.groupby([\"stations\"])[\"dsp_capacity\"]\n",
    "        .sum()\n",
    "        .astype(\"int32\")\n",
    "        .reset_index()\n",
    "    )\n",
    "    station_cap.rename(columns={\"dsp_capacity\": \"station_capacity\"}, inplace=True)\n",
    "    station_dsp = station_dsp.merge(station_cap, on=\"stations\", how=\"left\")\n",
    "    station_dsp[\"cap_gap_station\"] = (\n",
    "        station_dsp[\"station_capacity\"] - station_dsp[\"routes_demand\"]\n",
    "    )\n",
    "    station_dsp[\"is_under_solved\"] = np.where(station_dsp.cap_gap_station < 0, 1, 0)\n",
    "    station_dsp[\"is_elligible_target\"] = (\n",
    "        station_dsp.is_elligible_target - station_dsp.is_under_solved\n",
    "    ) * station_dsp.is_elligible_target\n",
    "    final_data = pd.concat([station_dsp, final_data])\n",
    "    logger.debug(f\"code completed for week {week}\")\n",
    "\n",
    "station_dsp = final_data.copy()\n",
    "station_dsp = station_dsp.sort_values(by=[\"stations\", \"dsp\", \"week\"]).reset_index(\n",
    "    drop=True\n",
    ")\n",
    "station_dsp"
   ]
  },
  {
   "cell_type": "code",
   "execution_count": 6,
   "metadata": {},
   "outputs": [
    {
     "name": "stdout",
     "output_type": "stream",
     "text": [
      "2600\n"
     ]
    }
   ],
   "source": [
    "undersolved_stations = list(\n",
    "    station_dsp[station_dsp.is_under_solved == 1].stations.unique()\n",
    ")\n",
    "eligible_targets = list(station_dsp[station_dsp.is_elligible_target == 1].dsp.unique())\n",
    "roles = [\"popup\", \"pinnacle\", \"transfer\", \"newdsp\"]\n",
    "launch_time = range(1, 14)\n",
    "\n",
    "# dsp_roles = []\n",
    "# for d in eligible_targets:\n",
    "#     for role in roles:\n",
    "#         if dsp_roles:\n",
    "#             dsp_roles.append((d, role))\n",
    "#         else:\n",
    "#             dsp_roles = [(d, role)]\n",
    "\n",
    "# dsp_role_stations = []\n",
    "# for d in eligible_targets:\n",
    "#     for r in roles:\n",
    "#         for s in undersolved_stations:\n",
    "#             if dsp_role_stations:\n",
    "#                 dsp_role_stations.append((d, r, s))\n",
    "#             else:\n",
    "#                 dsp_role_stations = [(d, r, s)]\n",
    "\n",
    "dsp_role_station_launches = []\n",
    "for d in eligible_targets:\n",
    "    for r in roles:\n",
    "        for s in undersolved_stations:\n",
    "            for t in launch_time:\n",
    "                if dsp_role_station_launches:\n",
    "                    dsp_role_station_launches.append((d, r, s, t))\n",
    "                else:\n",
    "                    dsp_role_station_launches = [(d, r, s, t)]\n",
    "\n",
    "# print(len(dsp_role_stations))\n",
    "print(len(dsp_role_station_launches))"
   ]
  },
  {
   "cell_type": "code",
   "execution_count": 7,
   "metadata": {},
   "outputs": [
    {
     "name": "stdout",
     "output_type": "stream",
     "text": [
      "2600\n"
     ]
    }
   ],
   "source": [
    "deployment_fixed_cost = (\n",
    "    np.random.normal(loc=3.0, scale=1.0, size=len(dsp_role_station_launches)).clip(\n",
    "        1.0, 5.0\n",
    "    )\n",
    ").tolist()\n",
    "\n",
    "print(len(deployment_fixed_cost))"
   ]
  },
  {
   "cell_type": "code",
   "execution_count": null,
   "metadata": {},
   "outputs": [],
   "source": [
    "combinations, deployment_fixed_cost = gp.multidict(\n",
    "    dict(\n",
    "        zip(\n",
    "            dsp_role_station_launches,\n",
    "            np.array(deployment_fixed_cost),\n",
    "        )\n",
    "    )\n",
    ")\n",
    "\n",
    "# dsp_role_station_combo, capacity_projection = gp.multidict(\n",
    "#     dict(\n",
    "#         zip(\n",
    "#             dsp_role_stations,\n",
    "#             np.random.normal(loc=7.0, scale=2.5, size=len(dsp_role_stations)).clip(\n",
    "#                 5.0, 10.0\n",
    "#             ),\n",
    "#         )\n",
    "#     )\n",
    "# )\n",
    "\n",
    "combinations, temporal_capacity_projections = gp.multidict(\n",
    "    dict(\n",
    "        zip(\n",
    "            dsp_role_station_launches,\n",
    "            np.random.normal(\n",
    "                loc=20.0, scale=10.0, size=len(dsp_role_station_launches)\n",
    "            ).clip(5.0, 35.0),\n",
    "        )\n",
    "    )\n",
    ")\n",
    "\n",
    "print(len(dsp_role_station_launches))"
   ]
  },
  {
   "cell_type": "code",
   "execution_count": null,
   "metadata": {},
   "outputs": [],
   "source": [
    "combinations[0:5]"
   ]
  },
  {
   "cell_type": "code",
   "execution_count": null,
   "metadata": {},
   "outputs": [],
   "source": [
    "for i in (x.sum(D, \"*\", \"*\", T) <= 1 for D in eligible_targets for T in launch_time):\n",
    "    print(i)\n",
    "    break"
   ]
  },
  {
   "cell_type": "markdown",
   "metadata": {},
   "source": [
    "# Gurobi Model"
   ]
  },
  {
   "cell_type": "code",
   "execution_count": null,
   "metadata": {},
   "outputs": [],
   "source": [
    "# Initiate the model\n",
    "m = gp.Model(\"Detor\")\n",
    "\n",
    "# Define Variables\n",
    "x = m.addVars(\n",
    "    combinations,\n",
    "    vtype=GRB.BINARY,\n",
    "    name=\"target_deployment\",\n",
    ")\n",
    "\n",
    "# Define Constraints\n",
    "# A DSP target combination can be assigned to only one station\n",
    "station_assignment_constraint = m.addConstrs(\n",
    "    (x.sum(D, \"*\", \"*\", T) <= 1 for D in eligible_targets for T in launch_time),\n",
    "    name=\"target_station\",\n",
    ")\n",
    "\n",
    "# # Sum of target capacity at a station shouldn't exceed its capacity gap\n",
    "# station_capacity_gap_constraint = m.addConstrs(\n",
    "#     (x.prod(capacity_projections, S) == [26, 27] for S in undersolved_stations),\n",
    "#     name=\"cap_gap_station\",\n",
    "# )\n",
    "\n",
    "# A DSP can assume only one role at a station\n",
    "# dsp_role_constraint = m.addConstrs(\n",
    "#     (y.sum(T, \"*\") <= 1 for T in eligible_targets), name=\"dsp_role\"\n",
    "# )\n",
    "\n",
    "\n",
    "# Define Objective Function\n",
    "m.setObjective(\n",
    "    5 * 53 - 2 * x.prod(temporal_capacity_projections) + x.prod(deployment_fixed_cost),\n",
    "    GRB.MINIMIZE,\n",
    ")\n",
    "\n",
    "\n",
    "# Run Optimization\n",
    "m.optimize()"
   ]
  },
  {
   "cell_type": "code",
   "execution_count": null,
   "metadata": {},
   "outputs": [],
   "source": [
    "m.write(\"Detor_single_week.lp\")"
   ]
  },
  {
   "cell_type": "markdown",
   "metadata": {},
   "source": [
    "# Xpress Model"
   ]
  },
  {
   "cell_type": "code",
   "execution_count": 14,
   "metadata": {},
   "outputs": [],
   "source": [
    "from xpress import *"
   ]
  },
  {
   "cell_type": "code",
   "execution_count": 15,
   "metadata": {},
   "outputs": [
    {
     "name": "stdout",
     "output_type": "stream",
     "text": [
      "Using the Community license in this session. If you have a full Xpress license, pass the full path to your license file to xpress.init(). If you want to use the FICO Community license and no longer want to see this message, use the following code before using the xpress module:\n",
      "  xpress.init('/Users/divye/opt/anaconda3/envs/ml39/lib/python3.9/site-packages/xpress/license/community-xpauth.xpr')\n"
     ]
    }
   ],
   "source": [
    "detor = xp.problem(name=\"DSP Target Deployment Optimizer\", sense=xp.minimize)"
   ]
  },
  {
   "cell_type": "code",
   "execution_count": 19,
   "metadata": {},
   "outputs": [
    {
     "name": "stdout",
     "output_type": "stream",
     "text": [
      "?120 Error: Problem has too many rows and columns. The maximum is 5000\n"
     ]
    },
    {
     "ename": "SolverError",
     "evalue": "?120 Error: Problem has too many rows and columns. The maximum is 5000",
     "output_type": "error",
     "traceback": [
      "\u001b[0;31m---------------------------------------------------------------------------\u001b[0m",
      "\u001b[0;31mSolverError\u001b[0m                               Traceback (most recent call last)",
      "Cell \u001b[0;32mIn[19], line 2\u001b[0m\n\u001b[1;32m      1\u001b[0m x \u001b[39m=\u001b[39m xp\u001b[39m.\u001b[39mvars(dsp_role_station_launches, vartype\u001b[39m=\u001b[39mxp\u001b[39m.\u001b[39mbinary, name\u001b[39m=\u001b[39m\u001b[39m\"\u001b[39m\u001b[39mtarget_deployment\u001b[39m\u001b[39m\"\u001b[39m)\n\u001b[0;32m----> 2\u001b[0m detor\u001b[39m.\u001b[39;49maddVariable(x)\n\u001b[1;32m      3\u001b[0m \u001b[39mtype\u001b[39m(x)\n",
      "\u001b[0;31mSolverError\u001b[0m: ?120 Error: Problem has too many rows and columns. The maximum is 5000"
     ]
    }
   ],
   "source": [
    "x = xp.vars(dsp_role_station_launches, vartype=xp.binary, name=\"target_deployment\")\n",
    "detor.addVariable(x)\n",
    "type(x)"
   ]
  },
  {
   "cell_type": "code",
   "execution_count": 12,
   "metadata": {},
   "outputs": [
    {
     "data": {
      "text/plain": [
       "dict_keys([('DTUY', 'popup', 'BFI5', 1), ('DTUY', 'popup', 'BFI5', 2), ('DTUY', 'popup', 'BFI5', 3), ('DTUY', 'popup', 'BFI5', 4), ('DTUY', 'popup', 'BFI5', 5), ('DTUY', 'popup', 'BFI5', 6), ('DTUY', 'popup', 'BFI5', 7), ('DTUY', 'popup', 'BFI5', 8), ('DTUY', 'popup', 'BFI5', 9), ('DTUY', 'popup', 'BFI5', 10), ('DTUY', 'popup', 'BFI5', 11), ('DTUY', 'popup', 'BFI5', 12), ('DTUY', 'popup', 'BFI5', 13), ('DTUY', 'popup', 'DBU9', 1), ('DTUY', 'popup', 'DBU9', 2), ('DTUY', 'popup', 'DBU9', 3), ('DTUY', 'popup', 'DBU9', 4), ('DTUY', 'popup', 'DBU9', 5), ('DTUY', 'popup', 'DBU9', 6), ('DTUY', 'popup', 'DBU9', 7), ('DTUY', 'popup', 'DBU9', 8), ('DTUY', 'popup', 'DBU9', 9), ('DTUY', 'popup', 'DBU9', 10), ('DTUY', 'popup', 'DBU9', 11), ('DTUY', 'popup', 'DBU9', 12), ('DTUY', 'popup', 'DBU9', 13), ('DTUY', 'popup', 'DEB8', 1), ('DTUY', 'popup', 'DEB8', 2), ('DTUY', 'popup', 'DEB8', 3), ('DTUY', 'popup', 'DEB8', 4), ('DTUY', 'popup', 'DEB8', 5), ('DTUY', 'popup', 'DEB8', 6), ('DTUY', 'popup', 'DEB8', 7), ('DTUY', 'popup', 'DEB8', 8), ('DTUY', 'popup', 'DEB8', 9), ('DTUY', 'popup', 'DEB8', 10), ('DTUY', 'popup', 'DEB8', 11), ('DTUY', 'popup', 'DEB8', 12), ('DTUY', 'popup', 'DEB8', 13), ('DTUY', 'popup', 'DTE6', 1), ('DTUY', 'popup', 'DTE6', 2), ('DTUY', 'popup', 'DTE6', 3), ('DTUY', 'popup', 'DTE6', 4), ('DTUY', 'popup', 'DTE6', 5), ('DTUY', 'popup', 'DTE6', 6), ('DTUY', 'popup', 'DTE6', 7), ('DTUY', 'popup', 'DTE6', 8), ('DTUY', 'popup', 'DTE6', 9), ('DTUY', 'popup', 'DTE6', 10), ('DTUY', 'popup', 'DTE6', 11), ('DTUY', 'popup', 'DTE6', 12), ('DTUY', 'popup', 'DTE6', 13), ('DTUY', 'popup', 'DXT7', 1), ('DTUY', 'popup', 'DXT7', 2), ('DTUY', 'popup', 'DXT7', 3), ('DTUY', 'popup', 'DXT7', 4), ('DTUY', 'popup', 'DXT7', 5), ('DTUY', 'popup', 'DXT7', 6), ('DTUY', 'popup', 'DXT7', 7), ('DTUY', 'popup', 'DXT7', 8), ('DTUY', 'popup', 'DXT7', 9), ('DTUY', 'popup', 'DXT7', 10), ('DTUY', 'popup', 'DXT7', 11), ('DTUY', 'popup', 'DXT7', 12), ('DTUY', 'popup', 'DXT7', 13), ('DTUY', 'pinnacle', 'BFI5', 1), ('DTUY', 'pinnacle', 'BFI5', 2), ('DTUY', 'pinnacle', 'BFI5', 3), ('DTUY', 'pinnacle', 'BFI5', 4), ('DTUY', 'pinnacle', 'BFI5', 5), ('DTUY', 'pinnacle', 'BFI5', 6), ('DTUY', 'pinnacle', 'BFI5', 7), ('DTUY', 'pinnacle', 'BFI5', 8), ('DTUY', 'pinnacle', 'BFI5', 9), ('DTUY', 'pinnacle', 'BFI5', 10), ('DTUY', 'pinnacle', 'BFI5', 11), ('DTUY', 'pinnacle', 'BFI5', 12), ('DTUY', 'pinnacle', 'BFI5', 13), ('DTUY', 'pinnacle', 'DBU9', 1), ('DTUY', 'pinnacle', 'DBU9', 2), ('DTUY', 'pinnacle', 'DBU9', 3), ('DTUY', 'pinnacle', 'DBU9', 4), ('DTUY', 'pinnacle', 'DBU9', 5), ('DTUY', 'pinnacle', 'DBU9', 6), ('DTUY', 'pinnacle', 'DBU9', 7), ('DTUY', 'pinnacle', 'DBU9', 8), ('DTUY', 'pinnacle', 'DBU9', 9), ('DTUY', 'pinnacle', 'DBU9', 10), ('DTUY', 'pinnacle', 'DBU9', 11), ('DTUY', 'pinnacle', 'DBU9', 12), ('DTUY', 'pinnacle', 'DBU9', 13), ('DTUY', 'pinnacle', 'DEB8', 1), ('DTUY', 'pinnacle', 'DEB8', 2), ('DTUY', 'pinnacle', 'DEB8', 3), ('DTUY', 'pinnacle', 'DEB8', 4), ('DTUY', 'pinnacle', 'DEB8', 5), ('DTUY', 'pinnacle', 'DEB8', 6), ('DTUY', 'pinnacle', 'DEB8', 7), ('DTUY', 'pinnacle', 'DEB8', 8), ('DTUY', 'pinnacle', 'DEB8', 9), ('DTUY', 'pinnacle', 'DEB8', 10), ('DTUY', 'pinnacle', 'DEB8', 11), ('DTUY', 'pinnacle', 'DEB8', 12), ('DTUY', 'pinnacle', 'DEB8', 13), ('DTUY', 'pinnacle', 'DTE6', 1), ('DTUY', 'pinnacle', 'DTE6', 2), ('DTUY', 'pinnacle', 'DTE6', 3), ('DTUY', 'pinnacle', 'DTE6', 4), ('DTUY', 'pinnacle', 'DTE6', 5), ('DTUY', 'pinnacle', 'DTE6', 6), ('DTUY', 'pinnacle', 'DTE6', 7), ('DTUY', 'pinnacle', 'DTE6', 8), ('DTUY', 'pinnacle', 'DTE6', 9), ('DTUY', 'pinnacle', 'DTE6', 10), ('DTUY', 'pinnacle', 'DTE6', 11), ('DTUY', 'pinnacle', 'DTE6', 12), ('DTUY', 'pinnacle', 'DTE6', 13), ('DTUY', 'pinnacle', 'DXT7', 1), ('DTUY', 'pinnacle', 'DXT7', 2), ('DTUY', 'pinnacle', 'DXT7', 3), ('DTUY', 'pinnacle', 'DXT7', 4), ('DTUY', 'pinnacle', 'DXT7', 5), ('DTUY', 'pinnacle', 'DXT7', 6), ('DTUY', 'pinnacle', 'DXT7', 7), ('DTUY', 'pinnacle', 'DXT7', 8), ('DTUY', 'pinnacle', 'DXT7', 9), ('DTUY', 'pinnacle', 'DXT7', 10), ('DTUY', 'pinnacle', 'DXT7', 11), ('DTUY', 'pinnacle', 'DXT7', 12), ('DTUY', 'pinnacle', 'DXT7', 13), ('DTUY', 'transfer', 'BFI5', 1), ('DTUY', 'transfer', 'BFI5', 2), ('DTUY', 'transfer', 'BFI5', 3), ('DTUY', 'transfer', 'BFI5', 4), ('DTUY', 'transfer', 'BFI5', 5), ('DTUY', 'transfer', 'BFI5', 6), ('DTUY', 'transfer', 'BFI5', 7), ('DTUY', 'transfer', 'BFI5', 8), ('DTUY', 'transfer', 'BFI5', 9), ('DTUY', 'transfer', 'BFI5', 10), ('DTUY', 'transfer', 'BFI5', 11), ('DTUY', 'transfer', 'BFI5', 12), ('DTUY', 'transfer', 'BFI5', 13), ('DTUY', 'transfer', 'DBU9', 1), ('DTUY', 'transfer', 'DBU9', 2), ('DTUY', 'transfer', 'DBU9', 3), ('DTUY', 'transfer', 'DBU9', 4), ('DTUY', 'transfer', 'DBU9', 5), ('DTUY', 'transfer', 'DBU9', 6), ('DTUY', 'transfer', 'DBU9', 7), ('DTUY', 'transfer', 'DBU9', 8), ('DTUY', 'transfer', 'DBU9', 9), ('DTUY', 'transfer', 'DBU9', 10), ('DTUY', 'transfer', 'DBU9', 11), ('DTUY', 'transfer', 'DBU9', 12), ('DTUY', 'transfer', 'DBU9', 13), ('DTUY', 'transfer', 'DEB8', 1), ('DTUY', 'transfer', 'DEB8', 2), ('DTUY', 'transfer', 'DEB8', 3), ('DTUY', 'transfer', 'DEB8', 4), ('DTUY', 'transfer', 'DEB8', 5), ('DTUY', 'transfer', 'DEB8', 6), ('DTUY', 'transfer', 'DEB8', 7), ('DTUY', 'transfer', 'DEB8', 8), ('DTUY', 'transfer', 'DEB8', 9), ('DTUY', 'transfer', 'DEB8', 10), ('DTUY', 'transfer', 'DEB8', 11), ('DTUY', 'transfer', 'DEB8', 12), ('DTUY', 'transfer', 'DEB8', 13), ('DTUY', 'transfer', 'DTE6', 1), ('DTUY', 'transfer', 'DTE6', 2), ('DTUY', 'transfer', 'DTE6', 3), ('DTUY', 'transfer', 'DTE6', 4), ('DTUY', 'transfer', 'DTE6', 5), ('DTUY', 'transfer', 'DTE6', 6), ('DTUY', 'transfer', 'DTE6', 7), ('DTUY', 'transfer', 'DTE6', 8), ('DTUY', 'transfer', 'DTE6', 9), ('DTUY', 'transfer', 'DTE6', 10), ('DTUY', 'transfer', 'DTE6', 11), ('DTUY', 'transfer', 'DTE6', 12), ('DTUY', 'transfer', 'DTE6', 13), ('DTUY', 'transfer', 'DXT7', 1), ('DTUY', 'transfer', 'DXT7', 2), ('DTUY', 'transfer', 'DXT7', 3), ('DTUY', 'transfer', 'DXT7', 4), ('DTUY', 'transfer', 'DXT7', 5), ('DTUY', 'transfer', 'DXT7', 6), ('DTUY', 'transfer', 'DXT7', 7), ('DTUY', 'transfer', 'DXT7', 8), ('DTUY', 'transfer', 'DXT7', 9), ('DTUY', 'transfer', 'DXT7', 10), ('DTUY', 'transfer', 'DXT7', 11), ('DTUY', 'transfer', 'DXT7', 12), ('DTUY', 'transfer', 'DXT7', 13), ('DTUY', 'newdsp', 'BFI5', 1), ('DTUY', 'newdsp', 'BFI5', 2), ('DTUY', 'newdsp', 'BFI5', 3), ('DTUY', 'newdsp', 'BFI5', 4), ('DTUY', 'newdsp', 'BFI5', 5), ('DTUY', 'newdsp', 'BFI5', 6), ('DTUY', 'newdsp', 'BFI5', 7), ('DTUY', 'newdsp', 'BFI5', 8), ('DTUY', 'newdsp', 'BFI5', 9), ('DTUY', 'newdsp', 'BFI5', 10), ('DTUY', 'newdsp', 'BFI5', 11), ('DTUY', 'newdsp', 'BFI5', 12), ('DTUY', 'newdsp', 'BFI5', 13), ('DTUY', 'newdsp', 'DBU9', 1), ('DTUY', 'newdsp', 'DBU9', 2), ('DTUY', 'newdsp', 'DBU9', 3), ('DTUY', 'newdsp', 'DBU9', 4), ('DTUY', 'newdsp', 'DBU9', 5), ('DTUY', 'newdsp', 'DBU9', 6), ('DTUY', 'newdsp', 'DBU9', 7), ('DTUY', 'newdsp', 'DBU9', 8), ('DTUY', 'newdsp', 'DBU9', 9), ('DTUY', 'newdsp', 'DBU9', 10), ('DTUY', 'newdsp', 'DBU9', 11), ('DTUY', 'newdsp', 'DBU9', 12), ('DTUY', 'newdsp', 'DBU9', 13), ('DTUY', 'newdsp', 'DEB8', 1), ('DTUY', 'newdsp', 'DEB8', 2), ('DTUY', 'newdsp', 'DEB8', 3), ('DTUY', 'newdsp', 'DEB8', 4), ('DTUY', 'newdsp', 'DEB8', 5), ('DTUY', 'newdsp', 'DEB8', 6), ('DTUY', 'newdsp', 'DEB8', 7), ('DTUY', 'newdsp', 'DEB8', 8), ('DTUY', 'newdsp', 'DEB8', 9), ('DTUY', 'newdsp', 'DEB8', 10), ('DTUY', 'newdsp', 'DEB8', 11), ('DTUY', 'newdsp', 'DEB8', 12), ('DTUY', 'newdsp', 'DEB8', 13), ('DTUY', 'newdsp', 'DTE6', 1), ('DTUY', 'newdsp', 'DTE6', 2), ('DTUY', 'newdsp', 'DTE6', 3), ('DTUY', 'newdsp', 'DTE6', 4), ('DTUY', 'newdsp', 'DTE6', 5), ('DTUY', 'newdsp', 'DTE6', 6), ('DTUY', 'newdsp', 'DTE6', 7), ('DTUY', 'newdsp', 'DTE6', 8), ('DTUY', 'newdsp', 'DTE6', 9), ('DTUY', 'newdsp', 'DTE6', 10), ('DTUY', 'newdsp', 'DTE6', 11), ('DTUY', 'newdsp', 'DTE6', 12), ('DTUY', 'newdsp', 'DTE6', 13), ('DTUY', 'newdsp', 'DXT7', 1), ('DTUY', 'newdsp', 'DXT7', 2), ('DTUY', 'newdsp', 'DXT7', 3), ('DTUY', 'newdsp', 'DXT7', 4), ('DTUY', 'newdsp', 'DXT7', 5), ('DTUY', 'newdsp', 'DXT7', 6), ('DTUY', 'newdsp', 'DXT7', 7), ('DTUY', 'newdsp', 'DXT7', 8), ('DTUY', 'newdsp', 'DXT7', 9), ('DTUY', 'newdsp', 'DXT7', 10), ('DTUY', 'newdsp', 'DXT7', 11), ('DTUY', 'newdsp', 'DXT7', 12), ('DTUY', 'newdsp', 'DXT7', 13), ('GAZL', 'popup', 'BFI5', 1), ('GAZL', 'popup', 'BFI5', 2), ('GAZL', 'popup', 'BFI5', 3), ('GAZL', 'popup', 'BFI5', 4), ('GAZL', 'popup', 'BFI5', 5), ('GAZL', 'popup', 'BFI5', 6), ('GAZL', 'popup', 'BFI5', 7), ('GAZL', 'popup', 'BFI5', 8), ('GAZL', 'popup', 'BFI5', 9), ('GAZL', 'popup', 'BFI5', 10), ('GAZL', 'popup', 'BFI5', 11), ('GAZL', 'popup', 'BFI5', 12), ('GAZL', 'popup', 'BFI5', 13), ('GAZL', 'popup', 'DBU9', 1), ('GAZL', 'popup', 'DBU9', 2), ('GAZL', 'popup', 'DBU9', 3), ('GAZL', 'popup', 'DBU9', 4), ('GAZL', 'popup', 'DBU9', 5), ('GAZL', 'popup', 'DBU9', 6), ('GAZL', 'popup', 'DBU9', 7), ('GAZL', 'popup', 'DBU9', 8), ('GAZL', 'popup', 'DBU9', 9), ('GAZL', 'popup', 'DBU9', 10), ('GAZL', 'popup', 'DBU9', 11), ('GAZL', 'popup', 'DBU9', 12), ('GAZL', 'popup', 'DBU9', 13), ('GAZL', 'popup', 'DEB8', 1), ('GAZL', 'popup', 'DEB8', 2), ('GAZL', 'popup', 'DEB8', 3), ('GAZL', 'popup', 'DEB8', 4), ('GAZL', 'popup', 'DEB8', 5), ('GAZL', 'popup', 'DEB8', 6), ('GAZL', 'popup', 'DEB8', 7), ('GAZL', 'popup', 'DEB8', 8), ('GAZL', 'popup', 'DEB8', 9), ('GAZL', 'popup', 'DEB8', 10), ('GAZL', 'popup', 'DEB8', 11), ('GAZL', 'popup', 'DEB8', 12), ('GAZL', 'popup', 'DEB8', 13), ('GAZL', 'popup', 'DTE6', 1), ('GAZL', 'popup', 'DTE6', 2), ('GAZL', 'popup', 'DTE6', 3), ('GAZL', 'popup', 'DTE6', 4), ('GAZL', 'popup', 'DTE6', 5), ('GAZL', 'popup', 'DTE6', 6), ('GAZL', 'popup', 'DTE6', 7), ('GAZL', 'popup', 'DTE6', 8), ('GAZL', 'popup', 'DTE6', 9), ('GAZL', 'popup', 'DTE6', 10), ('GAZL', 'popup', 'DTE6', 11), ('GAZL', 'popup', 'DTE6', 12), ('GAZL', 'popup', 'DTE6', 13), ('GAZL', 'popup', 'DXT7', 1), ('GAZL', 'popup', 'DXT7', 2), ('GAZL', 'popup', 'DXT7', 3), ('GAZL', 'popup', 'DXT7', 4), ('GAZL', 'popup', 'DXT7', 5), ('GAZL', 'popup', 'DXT7', 6), ('GAZL', 'popup', 'DXT7', 7), ('GAZL', 'popup', 'DXT7', 8), ('GAZL', 'popup', 'DXT7', 9), ('GAZL', 'popup', 'DXT7', 10), ('GAZL', 'popup', 'DXT7', 11), ('GAZL', 'popup', 'DXT7', 12), ('GAZL', 'popup', 'DXT7', 13), ('GAZL', 'pinnacle', 'BFI5', 1), ('GAZL', 'pinnacle', 'BFI5', 2), ('GAZL', 'pinnacle', 'BFI5', 3), ('GAZL', 'pinnacle', 'BFI5', 4), ('GAZL', 'pinnacle', 'BFI5', 5), ('GAZL', 'pinnacle', 'BFI5', 6), ('GAZL', 'pinnacle', 'BFI5', 7), ('GAZL', 'pinnacle', 'BFI5', 8), ('GAZL', 'pinnacle', 'BFI5', 9), ('GAZL', 'pinnacle', 'BFI5', 10), ('GAZL', 'pinnacle', 'BFI5', 11), ('GAZL', 'pinnacle', 'BFI5', 12), ('GAZL', 'pinnacle', 'BFI5', 13), ('GAZL', 'pinnacle', 'DBU9', 1), ('GAZL', 'pinnacle', 'DBU9', 2), ('GAZL', 'pinnacle', 'DBU9', 3), ('GAZL', 'pinnacle', 'DBU9', 4), ('GAZL', 'pinnacle', 'DBU9', 5), ('GAZL', 'pinnacle', 'DBU9', 6), ('GAZL', 'pinnacle', 'DBU9', 7), ('GAZL', 'pinnacle', 'DBU9', 8), ('GAZL', 'pinnacle', 'DBU9', 9), ('GAZL', 'pinnacle', 'DBU9', 10), ('GAZL', 'pinnacle', 'DBU9', 11), ('GAZL', 'pinnacle', 'DBU9', 12), ('GAZL', 'pinnacle', 'DBU9', 13), ('GAZL', 'pinnacle', 'DEB8', 1), ('GAZL', 'pinnacle', 'DEB8', 2), ('GAZL', 'pinnacle', 'DEB8', 3), ('GAZL', 'pinnacle', 'DEB8', 4), ('GAZL', 'pinnacle', 'DEB8', 5), ('GAZL', 'pinnacle', 'DEB8', 6), ('GAZL', 'pinnacle', 'DEB8', 7), ('GAZL', 'pinnacle', 'DEB8', 8), ('GAZL', 'pinnacle', 'DEB8', 9), ('GAZL', 'pinnacle', 'DEB8', 10), ('GAZL', 'pinnacle', 'DEB8', 11), ('GAZL', 'pinnacle', 'DEB8', 12), ('GAZL', 'pinnacle', 'DEB8', 13), ('GAZL', 'pinnacle', 'DTE6', 1), ('GAZL', 'pinnacle', 'DTE6', 2), ('GAZL', 'pinnacle', 'DTE6', 3), ('GAZL', 'pinnacle', 'DTE6', 4), ('GAZL', 'pinnacle', 'DTE6', 5), ('GAZL', 'pinnacle', 'DTE6', 6), ('GAZL', 'pinnacle', 'DTE6', 7), ('GAZL', 'pinnacle', 'DTE6', 8), ('GAZL', 'pinnacle', 'DTE6', 9), ('GAZL', 'pinnacle', 'DTE6', 10), ('GAZL', 'pinnacle', 'DTE6', 11), ('GAZL', 'pinnacle', 'DTE6', 12), ('GAZL', 'pinnacle', 'DTE6', 13), ('GAZL', 'pinnacle', 'DXT7', 1), ('GAZL', 'pinnacle', 'DXT7', 2), ('GAZL', 'pinnacle', 'DXT7', 3), ('GAZL', 'pinnacle', 'DXT7', 4), ('GAZL', 'pinnacle', 'DXT7', 5), ('GAZL', 'pinnacle', 'DXT7', 6), ('GAZL', 'pinnacle', 'DXT7', 7), ('GAZL', 'pinnacle', 'DXT7', 8), ('GAZL', 'pinnacle', 'DXT7', 9), ('GAZL', 'pinnacle', 'DXT7', 10), ('GAZL', 'pinnacle', 'DXT7', 11), ('GAZL', 'pinnacle', 'DXT7', 12), ('GAZL', 'pinnacle', 'DXT7', 13), ('GAZL', 'transfer', 'BFI5', 1), ('GAZL', 'transfer', 'BFI5', 2), ('GAZL', 'transfer', 'BFI5', 3), ('GAZL', 'transfer', 'BFI5', 4), ('GAZL', 'transfer', 'BFI5', 5), ('GAZL', 'transfer', 'BFI5', 6), ('GAZL', 'transfer', 'BFI5', 7), ('GAZL', 'transfer', 'BFI5', 8), ('GAZL', 'transfer', 'BFI5', 9), ('GAZL', 'transfer', 'BFI5', 10), ('GAZL', 'transfer', 'BFI5', 11), ('GAZL', 'transfer', 'BFI5', 12), ('GAZL', 'transfer', 'BFI5', 13), ('GAZL', 'transfer', 'DBU9', 1), ('GAZL', 'transfer', 'DBU9', 2), ('GAZL', 'transfer', 'DBU9', 3), ('GAZL', 'transfer', 'DBU9', 4), ('GAZL', 'transfer', 'DBU9', 5), ('GAZL', 'transfer', 'DBU9', 6), ('GAZL', 'transfer', 'DBU9', 7), ('GAZL', 'transfer', 'DBU9', 8), ('GAZL', 'transfer', 'DBU9', 9), ('GAZL', 'transfer', 'DBU9', 10), ('GAZL', 'transfer', 'DBU9', 11), ('GAZL', 'transfer', 'DBU9', 12), ('GAZL', 'transfer', 'DBU9', 13), ('GAZL', 'transfer', 'DEB8', 1), ('GAZL', 'transfer', 'DEB8', 2), ('GAZL', 'transfer', 'DEB8', 3), ('GAZL', 'transfer', 'DEB8', 4), ('GAZL', 'transfer', 'DEB8', 5), ('GAZL', 'transfer', 'DEB8', 6), ('GAZL', 'transfer', 'DEB8', 7), ('GAZL', 'transfer', 'DEB8', 8), ('GAZL', 'transfer', 'DEB8', 9), ('GAZL', 'transfer', 'DEB8', 10), ('GAZL', 'transfer', 'DEB8', 11), ('GAZL', 'transfer', 'DEB8', 12), ('GAZL', 'transfer', 'DEB8', 13), ('GAZL', 'transfer', 'DTE6', 1), ('GAZL', 'transfer', 'DTE6', 2), ('GAZL', 'transfer', 'DTE6', 3), ('GAZL', 'transfer', 'DTE6', 4), ('GAZL', 'transfer', 'DTE6', 5), ('GAZL', 'transfer', 'DTE6', 6), ('GAZL', 'transfer', 'DTE6', 7), ('GAZL', 'transfer', 'DTE6', 8), ('GAZL', 'transfer', 'DTE6', 9), ('GAZL', 'transfer', 'DTE6', 10), ('GAZL', 'transfer', 'DTE6', 11), ('GAZL', 'transfer', 'DTE6', 12), ('GAZL', 'transfer', 'DTE6', 13), ('GAZL', 'transfer', 'DXT7', 1), ('GAZL', 'transfer', 'DXT7', 2), ('GAZL', 'transfer', 'DXT7', 3), ('GAZL', 'transfer', 'DXT7', 4), ('GAZL', 'transfer', 'DXT7', 5), ('GAZL', 'transfer', 'DXT7', 6), ('GAZL', 'transfer', 'DXT7', 7), ('GAZL', 'transfer', 'DXT7', 8), ('GAZL', 'transfer', 'DXT7', 9), ('GAZL', 'transfer', 'DXT7', 10), ('GAZL', 'transfer', 'DXT7', 11), ('GAZL', 'transfer', 'DXT7', 12), ('GAZL', 'transfer', 'DXT7', 13), ('GAZL', 'newdsp', 'BFI5', 1), ('GAZL', 'newdsp', 'BFI5', 2), ('GAZL', 'newdsp', 'BFI5', 3), ('GAZL', 'newdsp', 'BFI5', 4), ('GAZL', 'newdsp', 'BFI5', 5), ('GAZL', 'newdsp', 'BFI5', 6), ('GAZL', 'newdsp', 'BFI5', 7), ('GAZL', 'newdsp', 'BFI5', 8), ('GAZL', 'newdsp', 'BFI5', 9), ('GAZL', 'newdsp', 'BFI5', 10), ('GAZL', 'newdsp', 'BFI5', 11), ('GAZL', 'newdsp', 'BFI5', 12), ('GAZL', 'newdsp', 'BFI5', 13), ('GAZL', 'newdsp', 'DBU9', 1), ('GAZL', 'newdsp', 'DBU9', 2), ('GAZL', 'newdsp', 'DBU9', 3), ('GAZL', 'newdsp', 'DBU9', 4), ('GAZL', 'newdsp', 'DBU9', 5), ('GAZL', 'newdsp', 'DBU9', 6), ('GAZL', 'newdsp', 'DBU9', 7), ('GAZL', 'newdsp', 'DBU9', 8), ('GAZL', 'newdsp', 'DBU9', 9), ('GAZL', 'newdsp', 'DBU9', 10), ('GAZL', 'newdsp', 'DBU9', 11), ('GAZL', 'newdsp', 'DBU9', 12), ('GAZL', 'newdsp', 'DBU9', 13), ('GAZL', 'newdsp', 'DEB8', 1), ('GAZL', 'newdsp', 'DEB8', 2), ('GAZL', 'newdsp', 'DEB8', 3), ('GAZL', 'newdsp', 'DEB8', 4), ('GAZL', 'newdsp', 'DEB8', 5), ('GAZL', 'newdsp', 'DEB8', 6), ('GAZL', 'newdsp', 'DEB8', 7), ('GAZL', 'newdsp', 'DEB8', 8), ('GAZL', 'newdsp', 'DEB8', 9), ('GAZL', 'newdsp', 'DEB8', 10), ('GAZL', 'newdsp', 'DEB8', 11), ('GAZL', 'newdsp', 'DEB8', 12), ('GAZL', 'newdsp', 'DEB8', 13), ('GAZL', 'newdsp', 'DTE6', 1), ('GAZL', 'newdsp', 'DTE6', 2), ('GAZL', 'newdsp', 'DTE6', 3), ('GAZL', 'newdsp', 'DTE6', 4), ('GAZL', 'newdsp', 'DTE6', 5), ('GAZL', 'newdsp', 'DTE6', 6), ('GAZL', 'newdsp', 'DTE6', 7), ('GAZL', 'newdsp', 'DTE6', 8), ('GAZL', 'newdsp', 'DTE6', 9), ('GAZL', 'newdsp', 'DTE6', 10), ('GAZL', 'newdsp', 'DTE6', 11), ('GAZL', 'newdsp', 'DTE6', 12), ('GAZL', 'newdsp', 'DTE6', 13), ('GAZL', 'newdsp', 'DXT7', 1), ('GAZL', 'newdsp', 'DXT7', 2), ('GAZL', 'newdsp', 'DXT7', 3), ('GAZL', 'newdsp', 'DXT7', 4), ('GAZL', 'newdsp', 'DXT7', 5), ('GAZL', 'newdsp', 'DXT7', 6), ('GAZL', 'newdsp', 'DXT7', 7), ('GAZL', 'newdsp', 'DXT7', 8), ('GAZL', 'newdsp', 'DXT7', 9), ('GAZL', 'newdsp', 'DXT7', 10), ('GAZL', 'newdsp', 'DXT7', 11), ('GAZL', 'newdsp', 'DXT7', 12), ('GAZL', 'newdsp', 'DXT7', 13), ('AMXL', 'popup', 'BFI5', 1), ('AMXL', 'popup', 'BFI5', 2), ('AMXL', 'popup', 'BFI5', 3), ('AMXL', 'popup', 'BFI5', 4), ('AMXL', 'popup', 'BFI5', 5), ('AMXL', 'popup', 'BFI5', 6), ('AMXL', 'popup', 'BFI5', 7), ('AMXL', 'popup', 'BFI5', 8), ('AMXL', 'popup', 'BFI5', 9), ('AMXL', 'popup', 'BFI5', 10), ('AMXL', 'popup', 'BFI5', 11), ('AMXL', 'popup', 'BFI5', 12), ('AMXL', 'popup', 'BFI5', 13), ('AMXL', 'popup', 'DBU9', 1), ('AMXL', 'popup', 'DBU9', 2), ('AMXL', 'popup', 'DBU9', 3), ('AMXL', 'popup', 'DBU9', 4), ('AMXL', 'popup', 'DBU9', 5), ('AMXL', 'popup', 'DBU9', 6), ('AMXL', 'popup', 'DBU9', 7), ('AMXL', 'popup', 'DBU9', 8), ('AMXL', 'popup', 'DBU9', 9), ('AMXL', 'popup', 'DBU9', 10), ('AMXL', 'popup', 'DBU9', 11), ('AMXL', 'popup', 'DBU9', 12), ('AMXL', 'popup', 'DBU9', 13), ('AMXL', 'popup', 'DEB8', 1), ('AMXL', 'popup', 'DEB8', 2), ('AMXL', 'popup', 'DEB8', 3), ('AMXL', 'popup', 'DEB8', 4), ('AMXL', 'popup', 'DEB8', 5), ('AMXL', 'popup', 'DEB8', 6), ('AMXL', 'popup', 'DEB8', 7), ('AMXL', 'popup', 'DEB8', 8), ('AMXL', 'popup', 'DEB8', 9), ('AMXL', 'popup', 'DEB8', 10), ('AMXL', 'popup', 'DEB8', 11), ('AMXL', 'popup', 'DEB8', 12), ('AMXL', 'popup', 'DEB8', 13), ('AMXL', 'popup', 'DTE6', 1), ('AMXL', 'popup', 'DTE6', 2), ('AMXL', 'popup', 'DTE6', 3), ('AMXL', 'popup', 'DTE6', 4), ('AMXL', 'popup', 'DTE6', 5), ('AMXL', 'popup', 'DTE6', 6), ('AMXL', 'popup', 'DTE6', 7), ('AMXL', 'popup', 'DTE6', 8), ('AMXL', 'popup', 'DTE6', 9), ('AMXL', 'popup', 'DTE6', 10), ('AMXL', 'popup', 'DTE6', 11), ('AMXL', 'popup', 'DTE6', 12), ('AMXL', 'popup', 'DTE6', 13), ('AMXL', 'popup', 'DXT7', 1), ('AMXL', 'popup', 'DXT7', 2), ('AMXL', 'popup', 'DXT7', 3), ('AMXL', 'popup', 'DXT7', 4), ('AMXL', 'popup', 'DXT7', 5), ('AMXL', 'popup', 'DXT7', 6), ('AMXL', 'popup', 'DXT7', 7), ('AMXL', 'popup', 'DXT7', 8), ('AMXL', 'popup', 'DXT7', 9), ('AMXL', 'popup', 'DXT7', 10), ('AMXL', 'popup', 'DXT7', 11), ('AMXL', 'popup', 'DXT7', 12), ('AMXL', 'popup', 'DXT7', 13), ('AMXL', 'pinnacle', 'BFI5', 1), ('AMXL', 'pinnacle', 'BFI5', 2), ('AMXL', 'pinnacle', 'BFI5', 3), ('AMXL', 'pinnacle', 'BFI5', 4), ('AMXL', 'pinnacle', 'BFI5', 5), ('AMXL', 'pinnacle', 'BFI5', 6), ('AMXL', 'pinnacle', 'BFI5', 7), ('AMXL', 'pinnacle', 'BFI5', 8), ('AMXL', 'pinnacle', 'BFI5', 9), ('AMXL', 'pinnacle', 'BFI5', 10), ('AMXL', 'pinnacle', 'BFI5', 11), ('AMXL', 'pinnacle', 'BFI5', 12), ('AMXL', 'pinnacle', 'BFI5', 13), ('AMXL', 'pinnacle', 'DBU9', 1), ('AMXL', 'pinnacle', 'DBU9', 2), ('AMXL', 'pinnacle', 'DBU9', 3), ('AMXL', 'pinnacle', 'DBU9', 4), ('AMXL', 'pinnacle', 'DBU9', 5), ('AMXL', 'pinnacle', 'DBU9', 6), ('AMXL', 'pinnacle', 'DBU9', 7), ('AMXL', 'pinnacle', 'DBU9', 8), ('AMXL', 'pinnacle', 'DBU9', 9), ('AMXL', 'pinnacle', 'DBU9', 10), ('AMXL', 'pinnacle', 'DBU9', 11), ('AMXL', 'pinnacle', 'DBU9', 12), ('AMXL', 'pinnacle', 'DBU9', 13), ('AMXL', 'pinnacle', 'DEB8', 1), ('AMXL', 'pinnacle', 'DEB8', 2), ('AMXL', 'pinnacle', 'DEB8', 3), ('AMXL', 'pinnacle', 'DEB8', 4), ('AMXL', 'pinnacle', 'DEB8', 5), ('AMXL', 'pinnacle', 'DEB8', 6), ('AMXL', 'pinnacle', 'DEB8', 7), ('AMXL', 'pinnacle', 'DEB8', 8), ('AMXL', 'pinnacle', 'DEB8', 9), ('AMXL', 'pinnacle', 'DEB8', 10), ('AMXL', 'pinnacle', 'DEB8', 11), ('AMXL', 'pinnacle', 'DEB8', 12), ('AMXL', 'pinnacle', 'DEB8', 13), ('AMXL', 'pinnacle', 'DTE6', 1), ('AMXL', 'pinnacle', 'DTE6', 2), ('AMXL', 'pinnacle', 'DTE6', 3), ('AMXL', 'pinnacle', 'DTE6', 4), ('AMXL', 'pinnacle', 'DTE6', 5), ('AMXL', 'pinnacle', 'DTE6', 6), ('AMXL', 'pinnacle', 'DTE6', 7), ('AMXL', 'pinnacle', 'DTE6', 8), ('AMXL', 'pinnacle', 'DTE6', 9), ('AMXL', 'pinnacle', 'DTE6', 10), ('AMXL', 'pinnacle', 'DTE6', 11), ('AMXL', 'pinnacle', 'DTE6', 12), ('AMXL', 'pinnacle', 'DTE6', 13), ('AMXL', 'pinnacle', 'DXT7', 1), ('AMXL', 'pinnacle', 'DXT7', 2), ('AMXL', 'pinnacle', 'DXT7', 3), ('AMXL', 'pinnacle', 'DXT7', 4), ('AMXL', 'pinnacle', 'DXT7', 5), ('AMXL', 'pinnacle', 'DXT7', 6), ('AMXL', 'pinnacle', 'DXT7', 7), ('AMXL', 'pinnacle', 'DXT7', 8), ('AMXL', 'pinnacle', 'DXT7', 9), ('AMXL', 'pinnacle', 'DXT7', 10), ('AMXL', 'pinnacle', 'DXT7', 11), ('AMXL', 'pinnacle', 'DXT7', 12), ('AMXL', 'pinnacle', 'DXT7', 13), ('AMXL', 'transfer', 'BFI5', 1), ('AMXL', 'transfer', 'BFI5', 2), ('AMXL', 'transfer', 'BFI5', 3), ('AMXL', 'transfer', 'BFI5', 4), ('AMXL', 'transfer', 'BFI5', 5), ('AMXL', 'transfer', 'BFI5', 6), ('AMXL', 'transfer', 'BFI5', 7), ('AMXL', 'transfer', 'BFI5', 8), ('AMXL', 'transfer', 'BFI5', 9), ('AMXL', 'transfer', 'BFI5', 10), ('AMXL', 'transfer', 'BFI5', 11), ('AMXL', 'transfer', 'BFI5', 12), ('AMXL', 'transfer', 'BFI5', 13), ('AMXL', 'transfer', 'DBU9', 1), ('AMXL', 'transfer', 'DBU9', 2), ('AMXL', 'transfer', 'DBU9', 3), ('AMXL', 'transfer', 'DBU9', 4), ('AMXL', 'transfer', 'DBU9', 5), ('AMXL', 'transfer', 'DBU9', 6), ('AMXL', 'transfer', 'DBU9', 7), ('AMXL', 'transfer', 'DBU9', 8), ('AMXL', 'transfer', 'DBU9', 9), ('AMXL', 'transfer', 'DBU9', 10), ('AMXL', 'transfer', 'DBU9', 11), ('AMXL', 'transfer', 'DBU9', 12), ('AMXL', 'transfer', 'DBU9', 13), ('AMXL', 'transfer', 'DEB8', 1), ('AMXL', 'transfer', 'DEB8', 2), ('AMXL', 'transfer', 'DEB8', 3), ('AMXL', 'transfer', 'DEB8', 4), ('AMXL', 'transfer', 'DEB8', 5), ('AMXL', 'transfer', 'DEB8', 6), ('AMXL', 'transfer', 'DEB8', 7), ('AMXL', 'transfer', 'DEB8', 8), ('AMXL', 'transfer', 'DEB8', 9), ('AMXL', 'transfer', 'DEB8', 10), ('AMXL', 'transfer', 'DEB8', 11), ('AMXL', 'transfer', 'DEB8', 12), ('AMXL', 'transfer', 'DEB8', 13), ('AMXL', 'transfer', 'DTE6', 1), ('AMXL', 'transfer', 'DTE6', 2), ('AMXL', 'transfer', 'DTE6', 3), ('AMXL', 'transfer', 'DTE6', 4), ('AMXL', 'transfer', 'DTE6', 5), ('AMXL', 'transfer', 'DTE6', 6), ('AMXL', 'transfer', 'DTE6', 7), ('AMXL', 'transfer', 'DTE6', 8), ('AMXL', 'transfer', 'DTE6', 9), ('AMXL', 'transfer', 'DTE6', 10), ('AMXL', 'transfer', 'DTE6', 11), ('AMXL', 'transfer', 'DTE6', 12), ('AMXL', 'transfer', 'DTE6', 13), ('AMXL', 'transfer', 'DXT7', 1), ('AMXL', 'transfer', 'DXT7', 2), ('AMXL', 'transfer', 'DXT7', 3), ('AMXL', 'transfer', 'DXT7', 4), ('AMXL', 'transfer', 'DXT7', 5), ('AMXL', 'transfer', 'DXT7', 6), ('AMXL', 'transfer', 'DXT7', 7), ('AMXL', 'transfer', 'DXT7', 8), ('AMXL', 'transfer', 'DXT7', 9), ('AMXL', 'transfer', 'DXT7', 10), ('AMXL', 'transfer', 'DXT7', 11), ('AMXL', 'transfer', 'DXT7', 12), ('AMXL', 'transfer', 'DXT7', 13), ('AMXL', 'newdsp', 'BFI5', 1), ('AMXL', 'newdsp', 'BFI5', 2), ('AMXL', 'newdsp', 'BFI5', 3), ('AMXL', 'newdsp', 'BFI5', 4), ('AMXL', 'newdsp', 'BFI5', 5), ('AMXL', 'newdsp', 'BFI5', 6), ('AMXL', 'newdsp', 'BFI5', 7), ('AMXL', 'newdsp', 'BFI5', 8), ('AMXL', 'newdsp', 'BFI5', 9), ('AMXL', 'newdsp', 'BFI5', 10), ('AMXL', 'newdsp', 'BFI5', 11), ('AMXL', 'newdsp', 'BFI5', 12), ('AMXL', 'newdsp', 'BFI5', 13), ('AMXL', 'newdsp', 'DBU9', 1), ('AMXL', 'newdsp', 'DBU9', 2), ('AMXL', 'newdsp', 'DBU9', 3), ('AMXL', 'newdsp', 'DBU9', 4), ('AMXL', 'newdsp', 'DBU9', 5), ('AMXL', 'newdsp', 'DBU9', 6), ('AMXL', 'newdsp', 'DBU9', 7), ('AMXL', 'newdsp', 'DBU9', 8), ('AMXL', 'newdsp', 'DBU9', 9), ('AMXL', 'newdsp', 'DBU9', 10), ('AMXL', 'newdsp', 'DBU9', 11), ('AMXL', 'newdsp', 'DBU9', 12), ('AMXL', 'newdsp', 'DBU9', 13), ('AMXL', 'newdsp', 'DEB8', 1), ('AMXL', 'newdsp', 'DEB8', 2), ('AMXL', 'newdsp', 'DEB8', 3), ('AMXL', 'newdsp', 'DEB8', 4), ('AMXL', 'newdsp', 'DEB8', 5), ('AMXL', 'newdsp', 'DEB8', 6), ('AMXL', 'newdsp', 'DEB8', 7), ('AMXL', 'newdsp', 'DEB8', 8), ('AMXL', 'newdsp', 'DEB8', 9), ('AMXL', 'newdsp', 'DEB8', 10), ('AMXL', 'newdsp', 'DEB8', 11), ('AMXL', 'newdsp', 'DEB8', 12), ('AMXL', 'newdsp', 'DEB8', 13), ('AMXL', 'newdsp', 'DTE6', 1), ('AMXL', 'newdsp', 'DTE6', 2), ('AMXL', 'newdsp', 'DTE6', 3), ('AMXL', 'newdsp', 'DTE6', 4), ('AMXL', 'newdsp', 'DTE6', 5), ('AMXL', 'newdsp', 'DTE6', 6), ('AMXL', 'newdsp', 'DTE6', 7), ('AMXL', 'newdsp', 'DTE6', 8), ('AMXL', 'newdsp', 'DTE6', 9), ('AMXL', 'newdsp', 'DTE6', 10), ('AMXL', 'newdsp', 'DTE6', 11), ('AMXL', 'newdsp', 'DTE6', 12), ('AMXL', 'newdsp', 'DTE6', 13), ('AMXL', 'newdsp', 'DXT7', 1), ('AMXL', 'newdsp', 'DXT7', 2), ('AMXL', 'newdsp', 'DXT7', 3), ('AMXL', 'newdsp', 'DXT7', 4), ('AMXL', 'newdsp', 'DXT7', 5), ('AMXL', 'newdsp', 'DXT7', 6), ('AMXL', 'newdsp', 'DXT7', 7), ('AMXL', 'newdsp', 'DXT7', 8), ('AMXL', 'newdsp', 'DXT7', 9), ('AMXL', 'newdsp', 'DXT7', 10), ('AMXL', 'newdsp', 'DXT7', 11), ('AMXL', 'newdsp', 'DXT7', 12), ('AMXL', 'newdsp', 'DXT7', 13), ('MITF', 'popup', 'BFI5', 1), ('MITF', 'popup', 'BFI5', 2), ('MITF', 'popup', 'BFI5', 3), ('MITF', 'popup', 'BFI5', 4), ('MITF', 'popup', 'BFI5', 5), ('MITF', 'popup', 'BFI5', 6), ('MITF', 'popup', 'BFI5', 7), ('MITF', 'popup', 'BFI5', 8), ('MITF', 'popup', 'BFI5', 9), ('MITF', 'popup', 'BFI5', 10), ('MITF', 'popup', 'BFI5', 11), ('MITF', 'popup', 'BFI5', 12), ('MITF', 'popup', 'BFI5', 13), ('MITF', 'popup', 'DBU9', 1), ('MITF', 'popup', 'DBU9', 2), ('MITF', 'popup', 'DBU9', 3), ('MITF', 'popup', 'DBU9', 4), ('MITF', 'popup', 'DBU9', 5), ('MITF', 'popup', 'DBU9', 6), ('MITF', 'popup', 'DBU9', 7), ('MITF', 'popup', 'DBU9', 8), ('MITF', 'popup', 'DBU9', 9), ('MITF', 'popup', 'DBU9', 10), ('MITF', 'popup', 'DBU9', 11), ('MITF', 'popup', 'DBU9', 12), ('MITF', 'popup', 'DBU9', 13), ('MITF', 'popup', 'DEB8', 1), ('MITF', 'popup', 'DEB8', 2), ('MITF', 'popup', 'DEB8', 3), ('MITF', 'popup', 'DEB8', 4), ('MITF', 'popup', 'DEB8', 5), ('MITF', 'popup', 'DEB8', 6), ('MITF', 'popup', 'DEB8', 7), ('MITF', 'popup', 'DEB8', 8), ('MITF', 'popup', 'DEB8', 9), ('MITF', 'popup', 'DEB8', 10), ('MITF', 'popup', 'DEB8', 11), ('MITF', 'popup', 'DEB8', 12), ('MITF', 'popup', 'DEB8', 13), ('MITF', 'popup', 'DTE6', 1), ('MITF', 'popup', 'DTE6', 2), ('MITF', 'popup', 'DTE6', 3), ('MITF', 'popup', 'DTE6', 4), ('MITF', 'popup', 'DTE6', 5), ('MITF', 'popup', 'DTE6', 6), ('MITF', 'popup', 'DTE6', 7), ('MITF', 'popup', 'DTE6', 8), ('MITF', 'popup', 'DTE6', 9), ('MITF', 'popup', 'DTE6', 10), ('MITF', 'popup', 'DTE6', 11), ('MITF', 'popup', 'DTE6', 12), ('MITF', 'popup', 'DTE6', 13), ('MITF', 'popup', 'DXT7', 1), ('MITF', 'popup', 'DXT7', 2), ('MITF', 'popup', 'DXT7', 3), ('MITF', 'popup', 'DXT7', 4), ('MITF', 'popup', 'DXT7', 5), ('MITF', 'popup', 'DXT7', 6), ('MITF', 'popup', 'DXT7', 7), ('MITF', 'popup', 'DXT7', 8), ('MITF', 'popup', 'DXT7', 9), ('MITF', 'popup', 'DXT7', 10), ('MITF', 'popup', 'DXT7', 11), ('MITF', 'popup', 'DXT7', 12), ('MITF', 'popup', 'DXT7', 13), ('MITF', 'pinnacle', 'BFI5', 1), ('MITF', 'pinnacle', 'BFI5', 2), ('MITF', 'pinnacle', 'BFI5', 3), ('MITF', 'pinnacle', 'BFI5', 4), ('MITF', 'pinnacle', 'BFI5', 5), ('MITF', 'pinnacle', 'BFI5', 6), ('MITF', 'pinnacle', 'BFI5', 7), ('MITF', 'pinnacle', 'BFI5', 8), ('MITF', 'pinnacle', 'BFI5', 9), ('MITF', 'pinnacle', 'BFI5', 10), ('MITF', 'pinnacle', 'BFI5', 11), ('MITF', 'pinnacle', 'BFI5', 12), ('MITF', 'pinnacle', 'BFI5', 13), ('MITF', 'pinnacle', 'DBU9', 1), ('MITF', 'pinnacle', 'DBU9', 2), ('MITF', 'pinnacle', 'DBU9', 3), ('MITF', 'pinnacle', 'DBU9', 4), ('MITF', 'pinnacle', 'DBU9', 5), ('MITF', 'pinnacle', 'DBU9', 6), ('MITF', 'pinnacle', 'DBU9', 7), ('MITF', 'pinnacle', 'DBU9', 8), ('MITF', 'pinnacle', 'DBU9', 9), ('MITF', 'pinnacle', 'DBU9', 10), ('MITF', 'pinnacle', 'DBU9', 11), ('MITF', 'pinnacle', 'DBU9', 12), ('MITF', 'pinnacle', 'DBU9', 13), ('MITF', 'pinnacle', 'DEB8', 1), ('MITF', 'pinnacle', 'DEB8', 2), ('MITF', 'pinnacle', 'DEB8', 3), ('MITF', 'pinnacle', 'DEB8', 4), ('MITF', 'pinnacle', 'DEB8', 5), ('MITF', 'pinnacle', 'DEB8', 6), ('MITF', 'pinnacle', 'DEB8', 7), ('MITF', 'pinnacle', 'DEB8', 8), ('MITF', 'pinnacle', 'DEB8', 9), ('MITF', 'pinnacle', 'DEB8', 10), ('MITF', 'pinnacle', 'DEB8', 11), ('MITF', 'pinnacle', 'DEB8', 12), ('MITF', 'pinnacle', 'DEB8', 13), ('MITF', 'pinnacle', 'DTE6', 1), ('MITF', 'pinnacle', 'DTE6', 2), ('MITF', 'pinnacle', 'DTE6', 3), ('MITF', 'pinnacle', 'DTE6', 4), ('MITF', 'pinnacle', 'DTE6', 5), ('MITF', 'pinnacle', 'DTE6', 6), ('MITF', 'pinnacle', 'DTE6', 7), ('MITF', 'pinnacle', 'DTE6', 8), ('MITF', 'pinnacle', 'DTE6', 9), ('MITF', 'pinnacle', 'DTE6', 10), ('MITF', 'pinnacle', 'DTE6', 11), ('MITF', 'pinnacle', 'DTE6', 12), ('MITF', 'pinnacle', 'DTE6', 13), ('MITF', 'pinnacle', 'DXT7', 1), ('MITF', 'pinnacle', 'DXT7', 2), ('MITF', 'pinnacle', 'DXT7', 3), ('MITF', 'pinnacle', 'DXT7', 4), ('MITF', 'pinnacle', 'DXT7', 5), ('MITF', 'pinnacle', 'DXT7', 6), ('MITF', 'pinnacle', 'DXT7', 7), ('MITF', 'pinnacle', 'DXT7', 8), ('MITF', 'pinnacle', 'DXT7', 9), ('MITF', 'pinnacle', 'DXT7', 10), ('MITF', 'pinnacle', 'DXT7', 11), ('MITF', 'pinnacle', 'DXT7', 12), ('MITF', 'pinnacle', 'DXT7', 13), ('MITF', 'transfer', 'BFI5', 1), ('MITF', 'transfer', 'BFI5', 2), ('MITF', 'transfer', 'BFI5', 3), ('MITF', 'transfer', 'BFI5', 4), ('MITF', 'transfer', 'BFI5', 5), ('MITF', 'transfer', 'BFI5', 6), ('MITF', 'transfer', 'BFI5', 7), ('MITF', 'transfer', 'BFI5', 8), ('MITF', 'transfer', 'BFI5', 9), ('MITF', 'transfer', 'BFI5', 10), ('MITF', 'transfer', 'BFI5', 11), ('MITF', 'transfer', 'BFI5', 12), ('MITF', 'transfer', 'BFI5', 13), ('MITF', 'transfer', 'DBU9', 1), ('MITF', 'transfer', 'DBU9', 2), ('MITF', 'transfer', 'DBU9', 3), ('MITF', 'transfer', 'DBU9', 4), ('MITF', 'transfer', 'DBU9', 5), ('MITF', 'transfer', 'DBU9', 6), ('MITF', 'transfer', 'DBU9', 7), ('MITF', 'transfer', 'DBU9', 8), ('MITF', 'transfer', 'DBU9', 9), ('MITF', 'transfer', 'DBU9', 10), ('MITF', 'transfer', 'DBU9', 11), ('MITF', 'transfer', 'DBU9', 12), ('MITF', 'transfer', 'DBU9', 13), ('MITF', 'transfer', 'DEB8', 1), ('MITF', 'transfer', 'DEB8', 2), ('MITF', 'transfer', 'DEB8', 3), ('MITF', 'transfer', 'DEB8', 4), ('MITF', 'transfer', 'DEB8', 5), ('MITF', 'transfer', 'DEB8', 6), ('MITF', 'transfer', 'DEB8', 7), ('MITF', 'transfer', 'DEB8', 8), ('MITF', 'transfer', 'DEB8', 9), ('MITF', 'transfer', 'DEB8', 10), ('MITF', 'transfer', 'DEB8', 11), ('MITF', 'transfer', 'DEB8', 12), ('MITF', 'transfer', 'DEB8', 13), ('MITF', 'transfer', 'DTE6', 1), ('MITF', 'transfer', 'DTE6', 2), ('MITF', 'transfer', 'DTE6', 3), ('MITF', 'transfer', 'DTE6', 4), ('MITF', 'transfer', 'DTE6', 5), ('MITF', 'transfer', 'DTE6', 6), ('MITF', 'transfer', 'DTE6', 7), ('MITF', 'transfer', 'DTE6', 8), ('MITF', 'transfer', 'DTE6', 9), ('MITF', 'transfer', 'DTE6', 10), ('MITF', 'transfer', 'DTE6', 11), ('MITF', 'transfer', 'DTE6', 12), ('MITF', 'transfer', 'DTE6', 13), ('MITF', 'transfer', 'DXT7', 1), ('MITF', 'transfer', 'DXT7', 2), ('MITF', 'transfer', 'DXT7', 3), ('MITF', 'transfer', 'DXT7', 4), ('MITF', 'transfer', 'DXT7', 5), ('MITF', 'transfer', 'DXT7', 6), ('MITF', 'transfer', 'DXT7', 7), ('MITF', 'transfer', 'DXT7', 8), ('MITF', 'transfer', 'DXT7', 9), ('MITF', 'transfer', 'DXT7', 10), ('MITF', 'transfer', 'DXT7', 11), ('MITF', 'transfer', 'DXT7', 12), ('MITF', 'transfer', 'DXT7', 13), ('MITF', 'newdsp', 'BFI5', 1), ('MITF', 'newdsp', 'BFI5', 2), ('MITF', 'newdsp', 'BFI5', 3), ('MITF', 'newdsp', 'BFI5', 4), ('MITF', 'newdsp', 'BFI5', 5), ('MITF', 'newdsp', 'BFI5', 6), ('MITF', 'newdsp', 'BFI5', 7), ('MITF', 'newdsp', 'BFI5', 8), ('MITF', 'newdsp', 'BFI5', 9), ('MITF', 'newdsp', 'BFI5', 10), ('MITF', 'newdsp', 'BFI5', 11), ('MITF', 'newdsp', 'BFI5', 12), ('MITF', 'newdsp', 'BFI5', 13), ('MITF', 'newdsp', 'DBU9', 1), ('MITF', 'newdsp', 'DBU9', 2), ('MITF', 'newdsp', 'DBU9', 3), ('MITF', 'newdsp', 'DBU9', 4), ('MITF', 'newdsp', 'DBU9', 5), ('MITF', 'newdsp', 'DBU9', 6), ('MITF', 'newdsp', 'DBU9', 7), ('MITF', 'newdsp', 'DBU9', 8), ('MITF', 'newdsp', 'DBU9', 9), ('MITF', 'newdsp', 'DBU9', 10), ('MITF', 'newdsp', 'DBU9', 11), ('MITF', 'newdsp', 'DBU9', 12), ('MITF', 'newdsp', 'DBU9', 13), ('MITF', 'newdsp', 'DEB8', 1), ('MITF', 'newdsp', 'DEB8', 2), ('MITF', 'newdsp', 'DEB8', 3), ('MITF', 'newdsp', 'DEB8', 4), ('MITF', 'newdsp', 'DEB8', 5), ('MITF', 'newdsp', 'DEB8', 6), ('MITF', 'newdsp', 'DEB8', 7), ('MITF', 'newdsp', 'DEB8', 8), ('MITF', 'newdsp', 'DEB8', 9), ('MITF', 'newdsp', 'DEB8', 10), ('MITF', 'newdsp', 'DEB8', 11), ('MITF', 'newdsp', 'DEB8', 12), ('MITF', 'newdsp', 'DEB8', 13), ('MITF', 'newdsp', 'DTE6', 1), ('MITF', 'newdsp', 'DTE6', 2), ('MITF', 'newdsp', 'DTE6', 3), ('MITF', 'newdsp', 'DTE6', 4), ('MITF', 'newdsp', 'DTE6', 5), ('MITF', 'newdsp', 'DTE6', 6), ('MITF', 'newdsp', 'DTE6', 7), ('MITF', 'newdsp', 'DTE6', 8), ('MITF', 'newdsp', 'DTE6', 9), ('MITF', 'newdsp', 'DTE6', 10), ('MITF', 'newdsp', 'DTE6', 11), ('MITF', 'newdsp', 'DTE6', 12), ('MITF', 'newdsp', 'DTE6', 13), ('MITF', 'newdsp', 'DXT7', 1), ('MITF', 'newdsp', 'DXT7', 2), ('MITF', 'newdsp', 'DXT7', 3), ('MITF', 'newdsp', 'DXT7', 4), ('MITF', 'newdsp', 'DXT7', 5), ('MITF', 'newdsp', 'DXT7', 6), ('MITF', 'newdsp', 'DXT7', 7), ('MITF', 'newdsp', 'DXT7', 8), ('MITF', 'newdsp', 'DXT7', 9), ('MITF', 'newdsp', 'DXT7', 10), ('MITF', 'newdsp', 'DXT7', 11), ('MITF', 'newdsp', 'DXT7', 12), ('MITF', 'newdsp', 'DXT7', 13), ('AMZL', 'popup', 'BFI5', 1), ('AMZL', 'popup', 'BFI5', 2), ('AMZL', 'popup', 'BFI5', 3), ('AMZL', 'popup', 'BFI5', 4), ('AMZL', 'popup', 'BFI5', 5), ('AMZL', 'popup', 'BFI5', 6), ('AMZL', 'popup', 'BFI5', 7), ('AMZL', 'popup', 'BFI5', 8), ('AMZL', 'popup', 'BFI5', 9), ('AMZL', 'popup', 'BFI5', 10), ('AMZL', 'popup', 'BFI5', 11), ('AMZL', 'popup', 'BFI5', 12), ('AMZL', 'popup', 'BFI5', 13), ('AMZL', 'popup', 'DBU9', 1), ('AMZL', 'popup', 'DBU9', 2), ('AMZL', 'popup', 'DBU9', 3), ('AMZL', 'popup', 'DBU9', 4), ('AMZL', 'popup', 'DBU9', 5), ('AMZL', 'popup', 'DBU9', 6), ('AMZL', 'popup', 'DBU9', 7), ('AMZL', 'popup', 'DBU9', 8), ('AMZL', 'popup', 'DBU9', 9), ('AMZL', 'popup', 'DBU9', 10), ('AMZL', 'popup', 'DBU9', 11), ('AMZL', 'popup', 'DBU9', 12), ('AMZL', 'popup', 'DBU9', 13), ('AMZL', 'popup', 'DEB8', 1), ('AMZL', 'popup', 'DEB8', 2), ('AMZL', 'popup', 'DEB8', 3), ('AMZL', 'popup', 'DEB8', 4), ('AMZL', 'popup', 'DEB8', 5), ('AMZL', 'popup', 'DEB8', 6), ('AMZL', 'popup', 'DEB8', 7), ('AMZL', 'popup', 'DEB8', 8), ('AMZL', 'popup', 'DEB8', 9), ('AMZL', 'popup', 'DEB8', 10), ('AMZL', 'popup', 'DEB8', 11), ('AMZL', 'popup', 'DEB8', 12), ('AMZL', 'popup', 'DEB8', 13), ('AMZL', 'popup', 'DTE6', 1), ('AMZL', 'popup', 'DTE6', 2), ('AMZL', 'popup', 'DTE6', 3), ('AMZL', 'popup', 'DTE6', 4), ('AMZL', 'popup', 'DTE6', 5), ('AMZL', 'popup', 'DTE6', 6), ('AMZL', 'popup', 'DTE6', 7), ('AMZL', 'popup', 'DTE6', 8), ('AMZL', 'popup', 'DTE6', 9), ('AMZL', 'popup', 'DTE6', 10), ('AMZL', 'popup', 'DTE6', 11), ('AMZL', 'popup', 'DTE6', 12), ('AMZL', 'popup', 'DTE6', 13), ('AMZL', 'popup', 'DXT7', 1), ('AMZL', 'popup', 'DXT7', 2), ('AMZL', 'popup', 'DXT7', 3), ('AMZL', 'popup', 'DXT7', 4), ('AMZL', 'popup', 'DXT7', 5), ('AMZL', 'popup', 'DXT7', 6), ('AMZL', 'popup', 'DXT7', 7), ('AMZL', 'popup', 'DXT7', 8), ('AMZL', 'popup', 'DXT7', 9), ('AMZL', 'popup', 'DXT7', 10), ('AMZL', 'popup', 'DXT7', 11), ('AMZL', 'popup', 'DXT7', 12), ('AMZL', 'popup', 'DXT7', 13), ('AMZL', 'pinnacle', 'BFI5', 1), ('AMZL', 'pinnacle', 'BFI5', 2), ('AMZL', 'pinnacle', 'BFI5', 3), ('AMZL', 'pinnacle', 'BFI5', 4), ('AMZL', 'pinnacle', 'BFI5', 5), ('AMZL', 'pinnacle', 'BFI5', 6), ('AMZL', 'pinnacle', 'BFI5', 7), ('AMZL', 'pinnacle', 'BFI5', 8), ('AMZL', 'pinnacle', 'BFI5', 9), ('AMZL', 'pinnacle', 'BFI5', 10), ('AMZL', 'pinnacle', 'BFI5', 11), ('AMZL', 'pinnacle', 'BFI5', 12), ('AMZL', 'pinnacle', 'BFI5', 13), ('AMZL', 'pinnacle', 'DBU9', 1), ('AMZL', 'pinnacle', 'DBU9', 2), ('AMZL', 'pinnacle', 'DBU9', 3), ('AMZL', 'pinnacle', 'DBU9', 4), ('AMZL', 'pinnacle', 'DBU9', 5), ('AMZL', 'pinnacle', 'DBU9', 6), ('AMZL', 'pinnacle', 'DBU9', 7), ('AMZL', 'pinnacle', 'DBU9', 8), ('AMZL', 'pinnacle', 'DBU9', 9), ('AMZL', 'pinnacle', 'DBU9', 10), ('AMZL', 'pinnacle', 'DBU9', 11), ('AMZL', 'pinnacle', 'DBU9', 12), ('AMZL', 'pinnacle', 'DBU9', 13), ('AMZL', 'pinnacle', 'DEB8', 1), ('AMZL', 'pinnacle', 'DEB8', 2), ('AMZL', 'pinnacle', 'DEB8', 3), ('AMZL', 'pinnacle', 'DEB8', 4), ('AMZL', 'pinnacle', 'DEB8', 5), ('AMZL', 'pinnacle', 'DEB8', 6), ('AMZL', 'pinnacle', 'DEB8', 7), ('AMZL', 'pinnacle', 'DEB8', 8), ('AMZL', 'pinnacle', 'DEB8', 9), ('AMZL', 'pinnacle', 'DEB8', 10), ('AMZL', 'pinnacle', 'DEB8', 11), ('AMZL', 'pinnacle', 'DEB8', 12), ('AMZL', 'pinnacle', 'DEB8', 13), ('AMZL', 'pinnacle', 'DTE6', 1), ('AMZL', 'pinnacle', 'DTE6', 2), ('AMZL', 'pinnacle', 'DTE6', 3), ('AMZL', 'pinnacle', 'DTE6', 4), ('AMZL', 'pinnacle', 'DTE6', 5), ('AMZL', 'pinnacle', 'DTE6', 6), ('AMZL', 'pinnacle', 'DTE6', 7), ('AMZL', 'pinnacle', 'DTE6', 8), ('AMZL', 'pinnacle', 'DTE6', 9), ('AMZL', 'pinnacle', 'DTE6', 10), ('AMZL', 'pinnacle', 'DTE6', 11), ('AMZL', 'pinnacle', 'DTE6', 12), ('AMZL', 'pinnacle', 'DTE6', 13), ('AMZL', 'pinnacle', 'DXT7', 1), ('AMZL', 'pinnacle', 'DXT7', 2), ('AMZL', 'pinnacle', 'DXT7', 3), ('AMZL', 'pinnacle', 'DXT7', 4), ('AMZL', 'pinnacle', 'DXT7', 5), ('AMZL', 'pinnacle', 'DXT7', 6), ('AMZL', 'pinnacle', 'DXT7', 7), ('AMZL', 'pinnacle', 'DXT7', 8), ('AMZL', 'pinnacle', 'DXT7', 9), ('AMZL', 'pinnacle', 'DXT7', 10), ('AMZL', 'pinnacle', 'DXT7', 11), ('AMZL', 'pinnacle', 'DXT7', 12), ('AMZL', 'pinnacle', 'DXT7', 13), ('AMZL', 'transfer', 'BFI5', 1), ('AMZL', 'transfer', 'BFI5', 2), ('AMZL', 'transfer', 'BFI5', 3), ('AMZL', 'transfer', 'BFI5', 4), ('AMZL', 'transfer', 'BFI5', 5), ('AMZL', 'transfer', 'BFI5', 6), ('AMZL', 'transfer', 'BFI5', 7), ('AMZL', 'transfer', 'BFI5', 8), ('AMZL', 'transfer', 'BFI5', 9), ('AMZL', 'transfer', 'BFI5', 10), ('AMZL', 'transfer', 'BFI5', 11), ('AMZL', 'transfer', 'BFI5', 12), ('AMZL', 'transfer', 'BFI5', 13), ('AMZL', 'transfer', 'DBU9', 1), ('AMZL', 'transfer', 'DBU9', 2), ('AMZL', 'transfer', 'DBU9', 3), ('AMZL', 'transfer', 'DBU9', 4), ('AMZL', 'transfer', 'DBU9', 5), ('AMZL', 'transfer', 'DBU9', 6), ('AMZL', 'transfer', 'DBU9', 7), ('AMZL', 'transfer', 'DBU9', 8), ('AMZL', 'transfer', 'DBU9', 9), ('AMZL', 'transfer', 'DBU9', 10), ('AMZL', 'transfer', 'DBU9', 11), ('AMZL', 'transfer', 'DBU9', 12), ('AMZL', 'transfer', 'DBU9', 13), ('AMZL', 'transfer', 'DEB8', 1), ('AMZL', 'transfer', 'DEB8', 2), ('AMZL', 'transfer', 'DEB8', 3), ('AMZL', 'transfer', 'DEB8', 4), ('AMZL', 'transfer', 'DEB8', 5), ('AMZL', 'transfer', 'DEB8', 6), ('AMZL', 'transfer', 'DEB8', 7), ('AMZL', 'transfer', 'DEB8', 8), ('AMZL', 'transfer', 'DEB8', 9), ('AMZL', 'transfer', 'DEB8', 10), ('AMZL', 'transfer', 'DEB8', 11), ('AMZL', 'transfer', 'DEB8', 12), ('AMZL', 'transfer', 'DEB8', 13), ('AMZL', 'transfer', 'DTE6', 1), ('AMZL', 'transfer', 'DTE6', 2), ('AMZL', 'transfer', 'DTE6', 3), ('AMZL', 'transfer', 'DTE6', 4), ('AMZL', 'transfer', 'DTE6', 5), ('AMZL', 'transfer', 'DTE6', 6), ('AMZL', 'transfer', 'DTE6', 7), ('AMZL', 'transfer', 'DTE6', 8), ('AMZL', 'transfer', 'DTE6', 9), ('AMZL', 'transfer', 'DTE6', 10), ('AMZL', 'transfer', 'DTE6', 11), ('AMZL', 'transfer', 'DTE6', 12), ('AMZL', 'transfer', 'DTE6', 13), ('AMZL', 'transfer', 'DXT7', 1), ('AMZL', 'transfer', 'DXT7', 2), ('AMZL', 'transfer', 'DXT7', 3), ('AMZL', 'transfer', 'DXT7', 4), ('AMZL', 'transfer', 'DXT7', 5), ('AMZL', 'transfer', 'DXT7', 6), ('AMZL', 'transfer', 'DXT7', 7), ('AMZL', 'transfer', 'DXT7', 8), ('AMZL', 'transfer', 'DXT7', 9), ('AMZL', 'transfer', 'DXT7', 10), ('AMZL', 'transfer', 'DXT7', 11), ('AMZL', 'transfer', 'DXT7', 12), ('AMZL', 'transfer', 'DXT7', 13), ('AMZL', 'newdsp', 'BFI5', 1), ('AMZL', 'newdsp', 'BFI5', 2), ('AMZL', 'newdsp', 'BFI5', 3), ('AMZL', 'newdsp', 'BFI5', 4), ('AMZL', 'newdsp', 'BFI5', 5), ('AMZL', 'newdsp', 'BFI5', 6), ('AMZL', 'newdsp', 'BFI5', 7), ('AMZL', 'newdsp', 'BFI5', 8), ('AMZL', 'newdsp', 'BFI5', 9), ('AMZL', 'newdsp', 'BFI5', 10), ('AMZL', 'newdsp', 'BFI5', 11), ('AMZL', 'newdsp', 'BFI5', 12), ('AMZL', 'newdsp', 'BFI5', 13), ('AMZL', 'newdsp', 'DBU9', 1), ('AMZL', 'newdsp', 'DBU9', 2), ('AMZL', 'newdsp', 'DBU9', 3), ('AMZL', 'newdsp', 'DBU9', 4), ('AMZL', 'newdsp', 'DBU9', 5), ('AMZL', 'newdsp', 'DBU9', 6), ('AMZL', 'newdsp', 'DBU9', 7), ('AMZL', 'newdsp', 'DBU9', 8), ('AMZL', 'newdsp', 'DBU9', 9), ('AMZL', 'newdsp', 'DBU9', 10), ('AMZL', 'newdsp', 'DBU9', 11), ('AMZL', 'newdsp', 'DBU9', 12), ('AMZL', 'newdsp', 'DBU9', 13), ('AMZL', 'newdsp', 'DEB8', 1), ('AMZL', 'newdsp', 'DEB8', 2), ('AMZL', 'newdsp', 'DEB8', 3), ('AMZL', 'newdsp', 'DEB8', 4), ('AMZL', 'newdsp', 'DEB8', 5), ('AMZL', 'newdsp', 'DEB8', 6), ('AMZL', 'newdsp', 'DEB8', 7), ('AMZL', 'newdsp', 'DEB8', 8), ('AMZL', 'newdsp', 'DEB8', 9), ('AMZL', 'newdsp', 'DEB8', 10), ('AMZL', 'newdsp', 'DEB8', 11), ('AMZL', 'newdsp', 'DEB8', 12), ('AMZL', 'newdsp', 'DEB8', 13), ('AMZL', 'newdsp', 'DTE6', 1), ('AMZL', 'newdsp', 'DTE6', 2), ('AMZL', 'newdsp', 'DTE6', 3), ('AMZL', 'newdsp', 'DTE6', 4), ('AMZL', 'newdsp', 'DTE6', 5), ('AMZL', 'newdsp', 'DTE6', 6), ('AMZL', 'newdsp', 'DTE6', 7), ('AMZL', 'newdsp', 'DTE6', 8), ('AMZL', 'newdsp', 'DTE6', 9), ('AMZL', 'newdsp', 'DTE6', 10), ('AMZL', 'newdsp', 'DTE6', 11), ('AMZL', 'newdsp', 'DTE6', 12), ('AMZL', 'newdsp', 'DTE6', 13), ('AMZL', 'newdsp', 'DXT7', 1), ('AMZL', 'newdsp', 'DXT7', 2), ('AMZL', 'newdsp', 'DXT7', 3), ('AMZL', 'newdsp', 'DXT7', 4), ('AMZL', 'newdsp', 'DXT7', 5), ('AMZL', 'newdsp', 'DXT7', 6), ('AMZL', 'newdsp', 'DXT7', 7), ('AMZL', 'newdsp', 'DXT7', 8), ('AMZL', 'newdsp', 'DXT7', 9), ('AMZL', 'newdsp', 'DXT7', 10), ('AMZL', 'newdsp', 'DXT7', 11), ('AMZL', 'newdsp', 'DXT7', 12), ('AMZL', 'newdsp', 'DXT7', 13), ('WADL', 'popup', 'BFI5', 1), ('WADL', 'popup', 'BFI5', 2), ('WADL', 'popup', 'BFI5', 3), ('WADL', 'popup', 'BFI5', 4), ('WADL', 'popup', 'BFI5', 5), ('WADL', 'popup', 'BFI5', 6), ('WADL', 'popup', 'BFI5', 7), ('WADL', 'popup', 'BFI5', 8), ('WADL', 'popup', 'BFI5', 9), ('WADL', 'popup', 'BFI5', 10), ('WADL', 'popup', 'BFI5', 11), ('WADL', 'popup', 'BFI5', 12), ('WADL', 'popup', 'BFI5', 13), ('WADL', 'popup', 'DBU9', 1), ('WADL', 'popup', 'DBU9', 2), ('WADL', 'popup', 'DBU9', 3), ('WADL', 'popup', 'DBU9', 4), ('WADL', 'popup', 'DBU9', 5), ('WADL', 'popup', 'DBU9', 6), ('WADL', 'popup', 'DBU9', 7), ('WADL', 'popup', 'DBU9', 8), ('WADL', 'popup', 'DBU9', 9), ('WADL', 'popup', 'DBU9', 10), ('WADL', 'popup', 'DBU9', 11), ('WADL', 'popup', 'DBU9', 12), ('WADL', 'popup', 'DBU9', 13), ('WADL', 'popup', 'DEB8', 1), ('WADL', 'popup', 'DEB8', 2), ('WADL', 'popup', 'DEB8', 3), ('WADL', 'popup', 'DEB8', 4), ('WADL', 'popup', 'DEB8', 5), ('WADL', 'popup', 'DEB8', 6), ('WADL', 'popup', 'DEB8', 7), ('WADL', 'popup', 'DEB8', 8), ('WADL', 'popup', 'DEB8', 9), ('WADL', 'popup', 'DEB8', 10), ('WADL', 'popup', 'DEB8', 11), ('WADL', 'popup', 'DEB8', 12), ('WADL', 'popup', 'DEB8', 13), ('WADL', 'popup', 'DTE6', 1), ('WADL', 'popup', 'DTE6', 2), ('WADL', 'popup', 'DTE6', 3), ('WADL', 'popup', 'DTE6', 4), ('WADL', 'popup', 'DTE6', 5), ('WADL', 'popup', 'DTE6', 6), ('WADL', 'popup', 'DTE6', 7), ('WADL', 'popup', 'DTE6', 8), ('WADL', 'popup', 'DTE6', 9), ('WADL', 'popup', 'DTE6', 10), ('WADL', 'popup', 'DTE6', 11), ('WADL', 'popup', 'DTE6', 12), ('WADL', 'popup', 'DTE6', 13), ('WADL', 'popup', 'DXT7', 1), ('WADL', 'popup', 'DXT7', 2), ('WADL', 'popup', 'DXT7', 3), ('WADL', 'popup', 'DXT7', 4), ('WADL', 'popup', 'DXT7', 5), ('WADL', 'popup', 'DXT7', 6), ('WADL', 'popup', 'DXT7', 7), ('WADL', 'popup', 'DXT7', 8), ('WADL', 'popup', 'DXT7', 9), ('WADL', 'popup', 'DXT7', 10), ('WADL', 'popup', 'DXT7', 11), ('WADL', 'popup', 'DXT7', 12), ('WADL', 'popup', 'DXT7', 13), ('WADL', 'pinnacle', 'BFI5', 1), ('WADL', 'pinnacle', 'BFI5', 2), ('WADL', 'pinnacle', 'BFI5', 3), ('WADL', 'pinnacle', 'BFI5', 4), ('WADL', 'pinnacle', 'BFI5', 5), ('WADL', 'pinnacle', 'BFI5', 6), ('WADL', 'pinnacle', 'BFI5', 7), ('WADL', 'pinnacle', 'BFI5', 8), ('WADL', 'pinnacle', 'BFI5', 9), ('WADL', 'pinnacle', 'BFI5', 10), ('WADL', 'pinnacle', 'BFI5', 11), ('WADL', 'pinnacle', 'BFI5', 12), ('WADL', 'pinnacle', 'BFI5', 13), ('WADL', 'pinnacle', 'DBU9', 1), ('WADL', 'pinnacle', 'DBU9', 2), ('WADL', 'pinnacle', 'DBU9', 3), ('WADL', 'pinnacle', 'DBU9', 4), ('WADL', 'pinnacle', 'DBU9', 5), ('WADL', 'pinnacle', 'DBU9', 6), ('WADL', 'pinnacle', 'DBU9', 7), ('WADL', 'pinnacle', 'DBU9', 8), ('WADL', 'pinnacle', 'DBU9', 9), ('WADL', 'pinnacle', 'DBU9', 10), ('WADL', 'pinnacle', 'DBU9', 11), ('WADL', 'pinnacle', 'DBU9', 12), ('WADL', 'pinnacle', 'DBU9', 13), ('WADL', 'pinnacle', 'DEB8', 1), ('WADL', 'pinnacle', 'DEB8', 2), ('WADL', 'pinnacle', 'DEB8', 3), ('WADL', 'pinnacle', 'DEB8', 4), ('WADL', 'pinnacle', 'DEB8', 5), ('WADL', 'pinnacle', 'DEB8', 6), ('WADL', 'pinnacle', 'DEB8', 7), ('WADL', 'pinnacle', 'DEB8', 8), ('WADL', 'pinnacle', 'DEB8', 9), ('WADL', 'pinnacle', 'DEB8', 10), ('WADL', 'pinnacle', 'DEB8', 11), ('WADL', 'pinnacle', 'DEB8', 12), ('WADL', 'pinnacle', 'DEB8', 13), ('WADL', 'pinnacle', 'DTE6', 1), ('WADL', 'pinnacle', 'DTE6', 2), ('WADL', 'pinnacle', 'DTE6', 3), ('WADL', 'pinnacle', 'DTE6', 4), ('WADL', 'pinnacle', 'DTE6', 5), ('WADL', 'pinnacle', 'DTE6', 6), ('WADL', 'pinnacle', 'DTE6', 7), ('WADL', 'pinnacle', 'DTE6', 8), ('WADL', 'pinnacle', 'DTE6', 9), ('WADL', 'pinnacle', 'DTE6', 10), ('WADL', 'pinnacle', 'DTE6', 11), ('WADL', 'pinnacle', 'DTE6', 12), ('WADL', 'pinnacle', 'DTE6', 13), ('WADL', 'pinnacle', 'DXT7', 1), ('WADL', 'pinnacle', 'DXT7', 2), ('WADL', 'pinnacle', 'DXT7', 3), ('WADL', 'pinnacle', 'DXT7', 4), ('WADL', 'pinnacle', 'DXT7', 5), ('WADL', 'pinnacle', 'DXT7', 6), ('WADL', 'pinnacle', 'DXT7', 7), ('WADL', 'pinnacle', 'DXT7', 8), ('WADL', 'pinnacle', 'DXT7', 9), ('WADL', 'pinnacle', 'DXT7', 10), ('WADL', 'pinnacle', 'DXT7', 11), ('WADL', 'pinnacle', 'DXT7', 12), ('WADL', 'pinnacle', 'DXT7', 13), ('WADL', 'transfer', 'BFI5', 1), ('WADL', 'transfer', 'BFI5', 2), ('WADL', 'transfer', 'BFI5', 3), ('WADL', 'transfer', 'BFI5', 4), ('WADL', 'transfer', 'BFI5', 5), ('WADL', 'transfer', 'BFI5', 6), ('WADL', 'transfer', 'BFI5', 7), ('WADL', 'transfer', 'BFI5', 8), ('WADL', 'transfer', 'BFI5', 9), ('WADL', 'transfer', 'BFI5', 10), ('WADL', 'transfer', 'BFI5', 11), ('WADL', 'transfer', 'BFI5', 12), ('WADL', 'transfer', 'BFI5', 13), ('WADL', 'transfer', 'DBU9', 1), ('WADL', 'transfer', 'DBU9', 2), ('WADL', 'transfer', 'DBU9', 3), ('WADL', 'transfer', 'DBU9', 4), ('WADL', 'transfer', 'DBU9', 5), ('WADL', 'transfer', 'DBU9', 6), ('WADL', 'transfer', 'DBU9', 7), ('WADL', 'transfer', 'DBU9', 8), ('WADL', 'transfer', 'DBU9', 9), ('WADL', 'transfer', 'DBU9', 10), ('WADL', 'transfer', 'DBU9', 11), ('WADL', 'transfer', 'DBU9', 12), ('WADL', 'transfer', 'DBU9', 13), ('WADL', 'transfer', 'DEB8', 1), ('WADL', 'transfer', 'DEB8', 2), ('WADL', 'transfer', 'DEB8', 3), ('WADL', 'transfer', 'DEB8', 4), ('WADL', 'transfer', 'DEB8', 5), ('WADL', 'transfer', 'DEB8', 6), ('WADL', 'transfer', 'DEB8', 7), ('WADL', 'transfer', 'DEB8', 8), ('WADL', 'transfer', 'DEB8', 9), ('WADL', 'transfer', 'DEB8', 10), ('WADL', 'transfer', 'DEB8', 11), ('WADL', 'transfer', 'DEB8', 12), ('WADL', 'transfer', 'DEB8', 13), ('WADL', 'transfer', 'DTE6', 1), ('WADL', 'transfer', 'DTE6', 2), ('WADL', 'transfer', 'DTE6', 3), ('WADL', 'transfer', 'DTE6', 4), ('WADL', 'transfer', 'DTE6', 5), ('WADL', 'transfer', 'DTE6', 6), ('WADL', 'transfer', 'DTE6', 7), ('WADL', 'transfer', 'DTE6', 8), ('WADL', 'transfer', 'DTE6', 9), ('WADL', 'transfer', 'DTE6', 10), ('WADL', 'transfer', 'DTE6', 11), ('WADL', 'transfer', 'DTE6', 12), ('WADL', 'transfer', 'DTE6', 13), ('WADL', 'transfer', 'DXT7', 1), ('WADL', 'transfer', 'DXT7', 2), ('WADL', 'transfer', 'DXT7', 3), ('WADL', 'transfer', 'DXT7', 4), ('WADL', 'transfer', 'DXT7', 5), ('WADL', 'transfer', 'DXT7', 6), ('WADL', 'transfer', 'DXT7', 7), ('WADL', 'transfer', 'DXT7', 8), ('WADL', 'transfer', 'DXT7', 9), ('WADL', 'transfer', 'DXT7', 10), ('WADL', 'transfer', 'DXT7', 11), ('WADL', 'transfer', 'DXT7', 12), ('WADL', 'transfer', 'DXT7', 13), ('WADL', 'newdsp', 'BFI5', 1), ('WADL', 'newdsp', 'BFI5', 2), ('WADL', 'newdsp', 'BFI5', 3), ('WADL', 'newdsp', 'BFI5', 4), ('WADL', 'newdsp', 'BFI5', 5), ('WADL', 'newdsp', 'BFI5', 6), ('WADL', 'newdsp', 'BFI5', 7), ('WADL', 'newdsp', 'BFI5', 8), ('WADL', 'newdsp', 'BFI5', 9), ('WADL', 'newdsp', 'BFI5', 10), ('WADL', 'newdsp', 'BFI5', 11), ('WADL', 'newdsp', 'BFI5', 12), ('WADL', 'newdsp', 'BFI5', 13), ('WADL', 'newdsp', 'DBU9', 1), ('WADL', 'newdsp', 'DBU9', 2), ('WADL', 'newdsp', 'DBU9', 3), ('WADL', 'newdsp', 'DBU9', 4), ('WADL', 'newdsp', 'DBU9', 5), ('WADL', 'newdsp', 'DBU9', 6), ('WADL', 'newdsp', 'DBU9', 7), ('WADL', 'newdsp', 'DBU9', 8), ('WADL', 'newdsp', 'DBU9', 9), ('WADL', 'newdsp', 'DBU9', 10), ('WADL', 'newdsp', 'DBU9', 11), ('WADL', 'newdsp', 'DBU9', 12), ('WADL', 'newdsp', 'DBU9', 13), ('WADL', 'newdsp', 'DEB8', 1), ('WADL', 'newdsp', 'DEB8', 2), ('WADL', 'newdsp', 'DEB8', 3), ('WADL', 'newdsp', 'DEB8', 4), ('WADL', 'newdsp', 'DEB8', 5), ('WADL', 'newdsp', 'DEB8', 6), ('WADL', 'newdsp', 'DEB8', 7), ('WADL', 'newdsp', 'DEB8', 8), ('WADL', 'newdsp', 'DEB8', 9), ('WADL', 'newdsp', 'DEB8', 10), ('WADL', 'newdsp', 'DEB8', 11), ('WADL', 'newdsp', 'DEB8', 12), ('WADL', 'newdsp', 'DEB8', 13), ('WADL', 'newdsp', 'DTE6', 1), ('WADL', 'newdsp', 'DTE6', 2), ('WADL', 'newdsp', 'DTE6', 3), ('WADL', 'newdsp', 'DTE6', 4), ('WADL', 'newdsp', 'DTE6', 5), ('WADL', 'newdsp', 'DTE6', 6), ('WADL', 'newdsp', 'DTE6', 7), ('WADL', 'newdsp', 'DTE6', 8), ('WADL', 'newdsp', 'DTE6', 9), ('WADL', 'newdsp', 'DTE6', 10), ('WADL', 'newdsp', 'DTE6', 11), ('WADL', 'newdsp', 'DTE6', 12), ('WADL', 'newdsp', 'DTE6', 13), ('WADL', 'newdsp', 'DXT7', 1), ('WADL', 'newdsp', 'DXT7', 2), ('WADL', 'newdsp', 'DXT7', 3), ('WADL', 'newdsp', 'DXT7', 4), ('WADL', 'newdsp', 'DXT7', 5), ('WADL', 'newdsp', 'DXT7', 6), ('WADL', 'newdsp', 'DXT7', 7), ('WADL', 'newdsp', 'DXT7', 8), ('WADL', 'newdsp', 'DXT7', 9), ('WADL', 'newdsp', 'DXT7', 10), ('WADL', 'newdsp', 'DXT7', 11), ('WADL', 'newdsp', 'DXT7', 12), ('WADL', 'newdsp', 'DXT7', 13), ('DOBU', 'popup', 'BFI5', 1), ('DOBU', 'popup', 'BFI5', 2), ('DOBU', 'popup', 'BFI5', 3), ('DOBU', 'popup', 'BFI5', 4), ('DOBU', 'popup', 'BFI5', 5), ('DOBU', 'popup', 'BFI5', 6), ('DOBU', 'popup', 'BFI5', 7), ('DOBU', 'popup', 'BFI5', 8), ('DOBU', 'popup', 'BFI5', 9), ('DOBU', 'popup', 'BFI5', 10), ('DOBU', 'popup', 'BFI5', 11), ('DOBU', 'popup', 'BFI5', 12), ('DOBU', 'popup', 'BFI5', 13), ('DOBU', 'popup', 'DBU9', 1), ('DOBU', 'popup', 'DBU9', 2), ('DOBU', 'popup', 'DBU9', 3), ('DOBU', 'popup', 'DBU9', 4), ('DOBU', 'popup', 'DBU9', 5), ('DOBU', 'popup', 'DBU9', 6), ('DOBU', 'popup', 'DBU9', 7), ('DOBU', 'popup', 'DBU9', 8), ('DOBU', 'popup', 'DBU9', 9), ('DOBU', 'popup', 'DBU9', 10), ('DOBU', 'popup', 'DBU9', 11), ('DOBU', 'popup', 'DBU9', 12), ('DOBU', 'popup', 'DBU9', 13), ('DOBU', 'popup', 'DEB8', 1), ('DOBU', 'popup', 'DEB8', 2), ('DOBU', 'popup', 'DEB8', 3), ('DOBU', 'popup', 'DEB8', 4), ('DOBU', 'popup', 'DEB8', 5), ('DOBU', 'popup', 'DEB8', 6), ('DOBU', 'popup', 'DEB8', 7), ('DOBU', 'popup', 'DEB8', 8), ('DOBU', 'popup', 'DEB8', 9), ('DOBU', 'popup', 'DEB8', 10), ('DOBU', 'popup', 'DEB8', 11), ('DOBU', 'popup', 'DEB8', 12), ('DOBU', 'popup', 'DEB8', 13), ('DOBU', 'popup', 'DTE6', 1), ('DOBU', 'popup', 'DTE6', 2), ('DOBU', 'popup', 'DTE6', 3), ('DOBU', 'popup', 'DTE6', 4), ('DOBU', 'popup', 'DTE6', 5), ('DOBU', 'popup', 'DTE6', 6), ('DOBU', 'popup', 'DTE6', 7), ('DOBU', 'popup', 'DTE6', 8), ('DOBU', 'popup', 'DTE6', 9), ('DOBU', 'popup', 'DTE6', 10), ('DOBU', 'popup', 'DTE6', 11), ('DOBU', 'popup', 'DTE6', 12), ('DOBU', 'popup', 'DTE6', 13), ('DOBU', 'popup', 'DXT7', 1), ('DOBU', 'popup', 'DXT7', 2), ('DOBU', 'popup', 'DXT7', 3), ('DOBU', 'popup', 'DXT7', 4), ('DOBU', 'popup', 'DXT7', 5), ('DOBU', 'popup', 'DXT7', 6), ('DOBU', 'popup', 'DXT7', 7), ('DOBU', 'popup', 'DXT7', 8), ('DOBU', 'popup', 'DXT7', 9), ('DOBU', 'popup', 'DXT7', 10), ('DOBU', 'popup', 'DXT7', 11), ('DOBU', 'popup', 'DXT7', 12), ('DOBU', 'popup', 'DXT7', 13), ('DOBU', 'pinnacle', 'BFI5', 1), ('DOBU', 'pinnacle', 'BFI5', 2), ('DOBU', 'pinnacle', 'BFI5', 3), ('DOBU', 'pinnacle', 'BFI5', 4), ('DOBU', 'pinnacle', 'BFI5', 5), ('DOBU', 'pinnacle', 'BFI5', 6), ('DOBU', 'pinnacle', 'BFI5', 7), ('DOBU', 'pinnacle', 'BFI5', 8), ('DOBU', 'pinnacle', 'BFI5', 9), ('DOBU', 'pinnacle', 'BFI5', 10), ('DOBU', 'pinnacle', 'BFI5', 11), ('DOBU', 'pinnacle', 'BFI5', 12), ('DOBU', 'pinnacle', 'BFI5', 13), ('DOBU', 'pinnacle', 'DBU9', 1), ('DOBU', 'pinnacle', 'DBU9', 2), ('DOBU', 'pinnacle', 'DBU9', 3), ('DOBU', 'pinnacle', 'DBU9', 4), ('DOBU', 'pinnacle', 'DBU9', 5), ('DOBU', 'pinnacle', 'DBU9', 6), ('DOBU', 'pinnacle', 'DBU9', 7), ('DOBU', 'pinnacle', 'DBU9', 8), ('DOBU', 'pinnacle', 'DBU9', 9), ('DOBU', 'pinnacle', 'DBU9', 10), ('DOBU', 'pinnacle', 'DBU9', 11), ('DOBU', 'pinnacle', 'DBU9', 12), ('DOBU', 'pinnacle', 'DBU9', 13), ('DOBU', 'pinnacle', 'DEB8', 1), ('DOBU', 'pinnacle', 'DEB8', 2), ('DOBU', 'pinnacle', 'DEB8', 3), ('DOBU', 'pinnacle', 'DEB8', 4), ('DOBU', 'pinnacle', 'DEB8', 5), ('DOBU', 'pinnacle', 'DEB8', 6), ('DOBU', 'pinnacle', 'DEB8', 7), ('DOBU', 'pinnacle', 'DEB8', 8), ('DOBU', 'pinnacle', 'DEB8', 9), ('DOBU', 'pinnacle', 'DEB8', 10), ('DOBU', 'pinnacle', 'DEB8', 11), ('DOBU', 'pinnacle', 'DEB8', 12), ('DOBU', 'pinnacle', 'DEB8', 13), ('DOBU', 'pinnacle', 'DTE6', 1), ('DOBU', 'pinnacle', 'DTE6', 2), ('DOBU', 'pinnacle', 'DTE6', 3), ('DOBU', 'pinnacle', 'DTE6', 4), ('DOBU', 'pinnacle', 'DTE6', 5), ('DOBU', 'pinnacle', 'DTE6', 6), ('DOBU', 'pinnacle', 'DTE6', 7), ('DOBU', 'pinnacle', 'DTE6', 8), ('DOBU', 'pinnacle', 'DTE6', 9), ('DOBU', 'pinnacle', 'DTE6', 10), ('DOBU', 'pinnacle', 'DTE6', 11), ('DOBU', 'pinnacle', 'DTE6', 12), ('DOBU', 'pinnacle', 'DTE6', 13), ('DOBU', 'pinnacle', 'DXT7', 1), ('DOBU', 'pinnacle', 'DXT7', 2), ('DOBU', 'pinnacle', 'DXT7', 3), ('DOBU', 'pinnacle', 'DXT7', 4), ('DOBU', 'pinnacle', 'DXT7', 5), ('DOBU', 'pinnacle', 'DXT7', 6), ('DOBU', 'pinnacle', 'DXT7', 7), ('DOBU', 'pinnacle', 'DXT7', 8), ('DOBU', 'pinnacle', 'DXT7', 9), ('DOBU', 'pinnacle', 'DXT7', 10), ('DOBU', 'pinnacle', 'DXT7', 11), ('DOBU', 'pinnacle', 'DXT7', 12), ('DOBU', 'pinnacle', 'DXT7', 13), ('DOBU', 'transfer', 'BFI5', 1), ('DOBU', 'transfer', 'BFI5', 2), ('DOBU', 'transfer', 'BFI5', 3), ('DOBU', 'transfer', 'BFI5', 4), ('DOBU', 'transfer', 'BFI5', 5), ('DOBU', 'transfer', 'BFI5', 6), ('DOBU', 'transfer', 'BFI5', 7), ('DOBU', 'transfer', 'BFI5', 8), ('DOBU', 'transfer', 'BFI5', 9), ('DOBU', 'transfer', 'BFI5', 10), ('DOBU', 'transfer', 'BFI5', 11), ('DOBU', 'transfer', 'BFI5', 12), ('DOBU', 'transfer', 'BFI5', 13), ('DOBU', 'transfer', 'DBU9', 1), ('DOBU', 'transfer', 'DBU9', 2), ('DOBU', 'transfer', 'DBU9', 3), ('DOBU', 'transfer', 'DBU9', 4), ('DOBU', 'transfer', 'DBU9', 5), ('DOBU', 'transfer', 'DBU9', 6), ('DOBU', 'transfer', 'DBU9', 7), ('DOBU', 'transfer', 'DBU9', 8), ('DOBU', 'transfer', 'DBU9', 9), ('DOBU', 'transfer', 'DBU9', 10), ('DOBU', 'transfer', 'DBU9', 11), ('DOBU', 'transfer', 'DBU9', 12), ('DOBU', 'transfer', 'DBU9', 13), ('DOBU', 'transfer', 'DEB8', 1), ('DOBU', 'transfer', 'DEB8', 2), ('DOBU', 'transfer', 'DEB8', 3), ('DOBU', 'transfer', 'DEB8', 4), ('DOBU', 'transfer', 'DEB8', 5), ('DOBU', 'transfer', 'DEB8', 6), ('DOBU', 'transfer', 'DEB8', 7), ('DOBU', 'transfer', 'DEB8', 8), ('DOBU', 'transfer', 'DEB8', 9), ('DOBU', 'transfer', 'DEB8', 10), ('DOBU', 'transfer', 'DEB8', 11), ('DOBU', 'transfer', 'DEB8', 12), ('DOBU', 'transfer', 'DEB8', 13), ('DOBU', 'transfer', 'DTE6', 1), ('DOBU', 'transfer', 'DTE6', 2), ('DOBU', 'transfer', 'DTE6', 3), ('DOBU', 'transfer', 'DTE6', 4), ('DOBU', 'transfer', 'DTE6', 5), ('DOBU', 'transfer', 'DTE6', 6), ('DOBU', 'transfer', 'DTE6', 7), ('DOBU', 'transfer', 'DTE6', 8), ('DOBU', 'transfer', 'DTE6', 9), ('DOBU', 'transfer', 'DTE6', 10), ('DOBU', 'transfer', 'DTE6', 11), ('DOBU', 'transfer', 'DTE6', 12), ('DOBU', 'transfer', 'DTE6', 13), ('DOBU', 'transfer', 'DXT7', 1), ('DOBU', 'transfer', 'DXT7', 2), ('DOBU', 'transfer', 'DXT7', 3), ('DOBU', 'transfer', 'DXT7', 4), ('DOBU', 'transfer', 'DXT7', 5), ('DOBU', 'transfer', 'DXT7', 6), ('DOBU', 'transfer', 'DXT7', 7), ('DOBU', 'transfer', 'DXT7', 8), ('DOBU', 'transfer', 'DXT7', 9), ('DOBU', 'transfer', 'DXT7', 10), ('DOBU', 'transfer', 'DXT7', 11), ('DOBU', 'transfer', 'DXT7', 12), ('DOBU', 'transfer', 'DXT7', 13), ('DOBU', 'newdsp', 'BFI5', 1), ('DOBU', 'newdsp', 'BFI5', 2), ('DOBU', 'newdsp', 'BFI5', 3), ('DOBU', 'newdsp', 'BFI5', 4), ('DOBU', 'newdsp', 'BFI5', 5), ('DOBU', 'newdsp', 'BFI5', 6), ('DOBU', 'newdsp', 'BFI5', 7), ('DOBU', 'newdsp', 'BFI5', 8), ('DOBU', 'newdsp', 'BFI5', 9), ('DOBU', 'newdsp', 'BFI5', 10), ('DOBU', 'newdsp', 'BFI5', 11), ('DOBU', 'newdsp', 'BFI5', 12), ('DOBU', 'newdsp', 'BFI5', 13), ('DOBU', 'newdsp', 'DBU9', 1), ('DOBU', 'newdsp', 'DBU9', 2), ('DOBU', 'newdsp', 'DBU9', 3), ('DOBU', 'newdsp', 'DBU9', 4), ('DOBU', 'newdsp', 'DBU9', 5), ('DOBU', 'newdsp', 'DBU9', 6), ('DOBU', 'newdsp', 'DBU9', 7), ('DOBU', 'newdsp', 'DBU9', 8), ('DOBU', 'newdsp', 'DBU9', 9), ('DOBU', 'newdsp', 'DBU9', 10), ('DOBU', 'newdsp', 'DBU9', 11), ('DOBU', 'newdsp', 'DBU9', 12), ('DOBU', 'newdsp', 'DBU9', 13), ('DOBU', 'newdsp', 'DEB8', 1), ('DOBU', 'newdsp', 'DEB8', 2), ('DOBU', 'newdsp', 'DEB8', 3), ('DOBU', 'newdsp', 'DEB8', 4), ('DOBU', 'newdsp', 'DEB8', 5), ('DOBU', 'newdsp', 'DEB8', 6), ('DOBU', 'newdsp', 'DEB8', 7), ('DOBU', 'newdsp', 'DEB8', 8), ('DOBU', 'newdsp', 'DEB8', 9), ('DOBU', 'newdsp', 'DEB8', 10), ('DOBU', 'newdsp', 'DEB8', 11), ('DOBU', 'newdsp', 'DEB8', 12), ('DOBU', 'newdsp', 'DEB8', 13), ('DOBU', 'newdsp', 'DTE6', 1), ('DOBU', 'newdsp', 'DTE6', 2), ('DOBU', 'newdsp', 'DTE6', 3), ('DOBU', 'newdsp', 'DTE6', 4), ('DOBU', 'newdsp', 'DTE6', 5), ('DOBU', 'newdsp', 'DTE6', 6), ('DOBU', 'newdsp', 'DTE6', 7), ('DOBU', 'newdsp', 'DTE6', 8), ('DOBU', 'newdsp', 'DTE6', 9), ('DOBU', 'newdsp', 'DTE6', 10), ('DOBU', 'newdsp', 'DTE6', 11), ('DOBU', 'newdsp', 'DTE6', 12), ('DOBU', 'newdsp', 'DTE6', 13), ('DOBU', 'newdsp', 'DXT7', 1), ('DOBU', 'newdsp', 'DXT7', 2), ('DOBU', 'newdsp', 'DXT7', 3), ('DOBU', 'newdsp', 'DXT7', 4), ('DOBU', 'newdsp', 'DXT7', 5), ('DOBU', 'newdsp', 'DXT7', 6), ('DOBU', 'newdsp', 'DXT7', 7), ('DOBU', 'newdsp', 'DXT7', 8), ('DOBU', 'newdsp', 'DXT7', 9), ('DOBU', 'newdsp', 'DXT7', 10), ('DOBU', 'newdsp', 'DXT7', 11), ('DOBU', 'newdsp', 'DXT7', 12), ('DOBU', 'newdsp', 'DXT7', 13), ('FREZ', 'popup', 'BFI5', 1), ('FREZ', 'popup', 'BFI5', 2), ('FREZ', 'popup', 'BFI5', 3), ('FREZ', 'popup', 'BFI5', 4), ('FREZ', 'popup', 'BFI5', 5), ('FREZ', 'popup', 'BFI5', 6), ('FREZ', 'popup', 'BFI5', 7), ('FREZ', 'popup', 'BFI5', 8), ('FREZ', 'popup', 'BFI5', 9), ('FREZ', 'popup', 'BFI5', 10), ('FREZ', 'popup', 'BFI5', 11), ('FREZ', 'popup', 'BFI5', 12), ('FREZ', 'popup', 'BFI5', 13), ('FREZ', 'popup', 'DBU9', 1), ('FREZ', 'popup', 'DBU9', 2), ('FREZ', 'popup', 'DBU9', 3), ('FREZ', 'popup', 'DBU9', 4), ('FREZ', 'popup', 'DBU9', 5), ('FREZ', 'popup', 'DBU9', 6), ('FREZ', 'popup', 'DBU9', 7), ('FREZ', 'popup', 'DBU9', 8), ('FREZ', 'popup', 'DBU9', 9), ('FREZ', 'popup', 'DBU9', 10), ('FREZ', 'popup', 'DBU9', 11), ('FREZ', 'popup', 'DBU9', 12), ('FREZ', 'popup', 'DBU9', 13), ('FREZ', 'popup', 'DEB8', 1), ('FREZ', 'popup', 'DEB8', 2), ('FREZ', 'popup', 'DEB8', 3), ('FREZ', 'popup', 'DEB8', 4), ('FREZ', 'popup', 'DEB8', 5), ('FREZ', 'popup', 'DEB8', 6), ('FREZ', 'popup', 'DEB8', 7), ('FREZ', 'popup', 'DEB8', 8), ('FREZ', 'popup', 'DEB8', 9), ('FREZ', 'popup', 'DEB8', 10), ('FREZ', 'popup', 'DEB8', 11), ('FREZ', 'popup', 'DEB8', 12), ('FREZ', 'popup', 'DEB8', 13), ('FREZ', 'popup', 'DTE6', 1), ('FREZ', 'popup', 'DTE6', 2), ('FREZ', 'popup', 'DTE6', 3), ('FREZ', 'popup', 'DTE6', 4), ('FREZ', 'popup', 'DTE6', 5), ('FREZ', 'popup', 'DTE6', 6), ('FREZ', 'popup', 'DTE6', 7), ('FREZ', 'popup', 'DTE6', 8), ('FREZ', 'popup', 'DTE6', 9), ('FREZ', 'popup', 'DTE6', 10), ('FREZ', 'popup', 'DTE6', 11), ('FREZ', 'popup', 'DTE6', 12), ('FREZ', 'popup', 'DTE6', 13), ('FREZ', 'popup', 'DXT7', 1), ('FREZ', 'popup', 'DXT7', 2), ('FREZ', 'popup', 'DXT7', 3), ('FREZ', 'popup', 'DXT7', 4), ('FREZ', 'popup', 'DXT7', 5), ('FREZ', 'popup', 'DXT7', 6), ('FREZ', 'popup', 'DXT7', 7), ('FREZ', 'popup', 'DXT7', 8), ('FREZ', 'popup', 'DXT7', 9), ('FREZ', 'popup', 'DXT7', 10), ('FREZ', 'popup', 'DXT7', 11), ('FREZ', 'popup', 'DXT7', 12), ('FREZ', 'popup', 'DXT7', 13), ('FREZ', 'pinnacle', 'BFI5', 1), ('FREZ', 'pinnacle', 'BFI5', 2), ('FREZ', 'pinnacle', 'BFI5', 3), ('FREZ', 'pinnacle', 'BFI5', 4), ('FREZ', 'pinnacle', 'BFI5', 5), ('FREZ', 'pinnacle', 'BFI5', 6), ('FREZ', 'pinnacle', 'BFI5', 7), ('FREZ', 'pinnacle', 'BFI5', 8), ('FREZ', 'pinnacle', 'BFI5', 9), ('FREZ', 'pinnacle', 'BFI5', 10), ('FREZ', 'pinnacle', 'BFI5', 11), ('FREZ', 'pinnacle', 'BFI5', 12), ('FREZ', 'pinnacle', 'BFI5', 13), ('FREZ', 'pinnacle', 'DBU9', 1), ('FREZ', 'pinnacle', 'DBU9', 2), ('FREZ', 'pinnacle', 'DBU9', 3), ('FREZ', 'pinnacle', 'DBU9', 4), ('FREZ', 'pinnacle', 'DBU9', 5), ('FREZ', 'pinnacle', 'DBU9', 6), ('FREZ', 'pinnacle', 'DBU9', 7), ('FREZ', 'pinnacle', 'DBU9', 8), ('FREZ', 'pinnacle', 'DBU9', 9), ('FREZ', 'pinnacle', 'DBU9', 10), ('FREZ', 'pinnacle', 'DBU9', 11), ('FREZ', 'pinnacle', 'DBU9', 12), ('FREZ', 'pinnacle', 'DBU9', 13), ('FREZ', 'pinnacle', 'DEB8', 1), ('FREZ', 'pinnacle', 'DEB8', 2), ('FREZ', 'pinnacle', 'DEB8', 3), ('FREZ', 'pinnacle', 'DEB8', 4), ('FREZ', 'pinnacle', 'DEB8', 5), ('FREZ', 'pinnacle', 'DEB8', 6), ('FREZ', 'pinnacle', 'DEB8', 7), ('FREZ', 'pinnacle', 'DEB8', 8), ('FREZ', 'pinnacle', 'DEB8', 9), ('FREZ', 'pinnacle', 'DEB8', 10), ('FREZ', 'pinnacle', 'DEB8', 11), ('FREZ', 'pinnacle', 'DEB8', 12), ('FREZ', 'pinnacle', 'DEB8', 13), ('FREZ', 'pinnacle', 'DTE6', 1), ('FREZ', 'pinnacle', 'DTE6', 2), ('FREZ', 'pinnacle', 'DTE6', 3), ('FREZ', 'pinnacle', 'DTE6', 4), ('FREZ', 'pinnacle', 'DTE6', 5), ('FREZ', 'pinnacle', 'DTE6', 6), ('FREZ', 'pinnacle', 'DTE6', 7), ('FREZ', 'pinnacle', 'DTE6', 8), ('FREZ', 'pinnacle', 'DTE6', 9), ('FREZ', 'pinnacle', 'DTE6', 10), ('FREZ', 'pinnacle', 'DTE6', 11), ('FREZ', 'pinnacle', 'DTE6', 12), ('FREZ', 'pinnacle', 'DTE6', 13), ('FREZ', 'pinnacle', 'DXT7', 1), ('FREZ', 'pinnacle', 'DXT7', 2), ('FREZ', 'pinnacle', 'DXT7', 3), ('FREZ', 'pinnacle', 'DXT7', 4), ('FREZ', 'pinnacle', 'DXT7', 5), ('FREZ', 'pinnacle', 'DXT7', 6), ('FREZ', 'pinnacle', 'DXT7', 7), ('FREZ', 'pinnacle', 'DXT7', 8), ('FREZ', 'pinnacle', 'DXT7', 9), ('FREZ', 'pinnacle', 'DXT7', 10), ('FREZ', 'pinnacle', 'DXT7', 11), ('FREZ', 'pinnacle', 'DXT7', 12), ('FREZ', 'pinnacle', 'DXT7', 13), ('FREZ', 'transfer', 'BFI5', 1), ('FREZ', 'transfer', 'BFI5', 2), ('FREZ', 'transfer', 'BFI5', 3), ('FREZ', 'transfer', 'BFI5', 4), ('FREZ', 'transfer', 'BFI5', 5), ('FREZ', 'transfer', 'BFI5', 6), ('FREZ', 'transfer', 'BFI5', 7), ('FREZ', 'transfer', 'BFI5', 8), ('FREZ', 'transfer', 'BFI5', 9), ('FREZ', 'transfer', 'BFI5', 10), ('FREZ', 'transfer', 'BFI5', 11), ('FREZ', 'transfer', 'BFI5', 12), ('FREZ', 'transfer', 'BFI5', 13), ('FREZ', 'transfer', 'DBU9', 1), ('FREZ', 'transfer', 'DBU9', 2), ('FREZ', 'transfer', 'DBU9', 3), ('FREZ', 'transfer', 'DBU9', 4), ('FREZ', 'transfer', 'DBU9', 5), ('FREZ', 'transfer', 'DBU9', 6), ('FREZ', 'transfer', 'DBU9', 7), ('FREZ', 'transfer', 'DBU9', 8), ('FREZ', 'transfer', 'DBU9', 9), ('FREZ', 'transfer', 'DBU9', 10), ('FREZ', 'transfer', 'DBU9', 11), ('FREZ', 'transfer', 'DBU9', 12), ('FREZ', 'transfer', 'DBU9', 13), ('FREZ', 'transfer', 'DEB8', 1), ('FREZ', 'transfer', 'DEB8', 2), ('FREZ', 'transfer', 'DEB8', 3), ('FREZ', 'transfer', 'DEB8', 4), ('FREZ', 'transfer', 'DEB8', 5), ('FREZ', 'transfer', 'DEB8', 6), ('FREZ', 'transfer', 'DEB8', 7), ('FREZ', 'transfer', 'DEB8', 8), ('FREZ', 'transfer', 'DEB8', 9), ('FREZ', 'transfer', 'DEB8', 10), ('FREZ', 'transfer', 'DEB8', 11), ('FREZ', 'transfer', 'DEB8', 12), ('FREZ', 'transfer', 'DEB8', 13), ('FREZ', 'transfer', 'DTE6', 1), ('FREZ', 'transfer', 'DTE6', 2), ('FREZ', 'transfer', 'DTE6', 3), ('FREZ', 'transfer', 'DTE6', 4), ('FREZ', 'transfer', 'DTE6', 5), ('FREZ', 'transfer', 'DTE6', 6), ('FREZ', 'transfer', 'DTE6', 7), ('FREZ', 'transfer', 'DTE6', 8), ('FREZ', 'transfer', 'DTE6', 9), ('FREZ', 'transfer', 'DTE6', 10), ('FREZ', 'transfer', 'DTE6', 11), ('FREZ', 'transfer', 'DTE6', 12), ('FREZ', 'transfer', 'DTE6', 13), ('FREZ', 'transfer', 'DXT7', 1), ('FREZ', 'transfer', 'DXT7', 2), ('FREZ', 'transfer', 'DXT7', 3), ('FREZ', 'transfer', 'DXT7', 4), ('FREZ', 'transfer', 'DXT7', 5), ('FREZ', 'transfer', 'DXT7', 6), ('FREZ', 'transfer', 'DXT7', 7), ('FREZ', 'transfer', 'DXT7', 8), ('FREZ', 'transfer', 'DXT7', 9), ('FREZ', 'transfer', 'DXT7', 10), ('FREZ', 'transfer', 'DXT7', 11), ('FREZ', 'transfer', 'DXT7', 12), ('FREZ', 'transfer', 'DXT7', 13), ('FREZ', 'newdsp', 'BFI5', 1), ('FREZ', 'newdsp', 'BFI5', 2), ('FREZ', 'newdsp', 'BFI5', 3), ('FREZ', 'newdsp', 'BFI5', 4), ('FREZ', 'newdsp', 'BFI5', 5), ('FREZ', 'newdsp', 'BFI5', 6), ('FREZ', 'newdsp', 'BFI5', 7), ('FREZ', 'newdsp', 'BFI5', 8), ('FREZ', 'newdsp', 'BFI5', 9), ('FREZ', 'newdsp', 'BFI5', 10), ('FREZ', 'newdsp', 'BFI5', 11), ('FREZ', 'newdsp', 'BFI5', 12), ('FREZ', 'newdsp', 'BFI5', 13), ('FREZ', 'newdsp', 'DBU9', 1), ('FREZ', 'newdsp', 'DBU9', 2), ('FREZ', 'newdsp', 'DBU9', 3), ('FREZ', 'newdsp', 'DBU9', 4), ('FREZ', 'newdsp', 'DBU9', 5), ('FREZ', 'newdsp', 'DBU9', 6), ('FREZ', 'newdsp', 'DBU9', 7), ('FREZ', 'newdsp', 'DBU9', 8), ('FREZ', 'newdsp', 'DBU9', 9), ('FREZ', 'newdsp', 'DBU9', 10), ('FREZ', 'newdsp', 'DBU9', 11), ('FREZ', 'newdsp', 'DBU9', 12), ('FREZ', 'newdsp', 'DBU9', 13), ('FREZ', 'newdsp', 'DEB8', 1), ('FREZ', 'newdsp', 'DEB8', 2), ('FREZ', 'newdsp', 'DEB8', 3), ('FREZ', 'newdsp', 'DEB8', 4), ('FREZ', 'newdsp', 'DEB8', 5), ('FREZ', 'newdsp', 'DEB8', 6), ('FREZ', 'newdsp', 'DEB8', 7), ('FREZ', 'newdsp', 'DEB8', 8), ('FREZ', 'newdsp', 'DEB8', 9), ('FREZ', 'newdsp', 'DEB8', 10), ('FREZ', 'newdsp', 'DEB8', 11), ('FREZ', 'newdsp', 'DEB8', 12), ('FREZ', 'newdsp', 'DEB8', 13), ('FREZ', 'newdsp', 'DTE6', 1), ('FREZ', 'newdsp', 'DTE6', 2), ('FREZ', 'newdsp', 'DTE6', 3), ('FREZ', 'newdsp', 'DTE6', 4), ('FREZ', 'newdsp', 'DTE6', 5), ('FREZ', 'newdsp', 'DTE6', 6), ('FREZ', 'newdsp', 'DTE6', 7), ('FREZ', 'newdsp', 'DTE6', 8), ('FREZ', 'newdsp', 'DTE6', 9), ('FREZ', 'newdsp', 'DTE6', 10), ('FREZ', 'newdsp', 'DTE6', 11), ('FREZ', 'newdsp', 'DTE6', 12), ('FREZ', 'newdsp', 'DTE6', 13), ('FREZ', 'newdsp', 'DXT7', 1), ('FREZ', 'newdsp', 'DXT7', 2), ('FREZ', 'newdsp', 'DXT7', 3), ('FREZ', 'newdsp', 'DXT7', 4), ('FREZ', 'newdsp', 'DXT7', 5), ('FREZ', 'newdsp', 'DXT7', 6), ('FREZ', 'newdsp', 'DXT7', 7), ('FREZ', 'newdsp', 'DXT7', 8), ('FREZ', 'newdsp', 'DXT7', 9), ('FREZ', 'newdsp', 'DXT7', 10), ('FREZ', 'newdsp', 'DXT7', 11), ('FREZ', 'newdsp', 'DXT7', 12), ('FREZ', 'newdsp', 'DXT7', 13), ('CORP', 'popup', 'BFI5', 1), ('CORP', 'popup', 'BFI5', 2), ('CORP', 'popup', 'BFI5', 3), ('CORP', 'popup', 'BFI5', 4), ('CORP', 'popup', 'BFI5', 5), ('CORP', 'popup', 'BFI5', 6), ('CORP', 'popup', 'BFI5', 7), ('CORP', 'popup', 'BFI5', 8), ('CORP', 'popup', 'BFI5', 9), ('CORP', 'popup', 'BFI5', 10), ('CORP', 'popup', 'BFI5', 11), ('CORP', 'popup', 'BFI5', 12), ('CORP', 'popup', 'BFI5', 13), ('CORP', 'popup', 'DBU9', 1), ('CORP', 'popup', 'DBU9', 2), ('CORP', 'popup', 'DBU9', 3), ('CORP', 'popup', 'DBU9', 4), ('CORP', 'popup', 'DBU9', 5), ('CORP', 'popup', 'DBU9', 6), ('CORP', 'popup', 'DBU9', 7), ('CORP', 'popup', 'DBU9', 8), ('CORP', 'popup', 'DBU9', 9), ('CORP', 'popup', 'DBU9', 10), ('CORP', 'popup', 'DBU9', 11), ('CORP', 'popup', 'DBU9', 12), ('CORP', 'popup', 'DBU9', 13), ('CORP', 'popup', 'DEB8', 1), ('CORP', 'popup', 'DEB8', 2), ('CORP', 'popup', 'DEB8', 3), ('CORP', 'popup', 'DEB8', 4), ('CORP', 'popup', 'DEB8', 5), ('CORP', 'popup', 'DEB8', 6), ('CORP', 'popup', 'DEB8', 7), ('CORP', 'popup', 'DEB8', 8), ('CORP', 'popup', 'DEB8', 9), ('CORP', 'popup', 'DEB8', 10), ('CORP', 'popup', 'DEB8', 11), ('CORP', 'popup', 'DEB8', 12), ('CORP', 'popup', 'DEB8', 13), ('CORP', 'popup', 'DTE6', 1), ('CORP', 'popup', 'DTE6', 2), ('CORP', 'popup', 'DTE6', 3), ('CORP', 'popup', 'DTE6', 4), ('CORP', 'popup', 'DTE6', 5), ('CORP', 'popup', 'DTE6', 6), ('CORP', 'popup', 'DTE6', 7), ('CORP', 'popup', 'DTE6', 8), ('CORP', 'popup', 'DTE6', 9), ('CORP', 'popup', 'DTE6', 10), ('CORP', 'popup', 'DTE6', 11), ('CORP', 'popup', 'DTE6', 12), ('CORP', 'popup', 'DTE6', 13), ('CORP', 'popup', 'DXT7', 1), ('CORP', 'popup', 'DXT7', 2), ('CORP', 'popup', 'DXT7', 3), ('CORP', 'popup', 'DXT7', 4), ('CORP', 'popup', 'DXT7', 5), ('CORP', 'popup', 'DXT7', 6), ('CORP', 'popup', 'DXT7', 7), ('CORP', 'popup', 'DXT7', 8), ('CORP', 'popup', 'DXT7', 9), ('CORP', 'popup', 'DXT7', 10), ('CORP', 'popup', 'DXT7', 11), ('CORP', 'popup', 'DXT7', 12), ('CORP', 'popup', 'DXT7', 13), ('CORP', 'pinnacle', 'BFI5', 1), ('CORP', 'pinnacle', 'BFI5', 2), ('CORP', 'pinnacle', 'BFI5', 3), ('CORP', 'pinnacle', 'BFI5', 4), ('CORP', 'pinnacle', 'BFI5', 5), ('CORP', 'pinnacle', 'BFI5', 6), ('CORP', 'pinnacle', 'BFI5', 7), ('CORP', 'pinnacle', 'BFI5', 8), ('CORP', 'pinnacle', 'BFI5', 9), ('CORP', 'pinnacle', 'BFI5', 10), ('CORP', 'pinnacle', 'BFI5', 11), ('CORP', 'pinnacle', 'BFI5', 12), ('CORP', 'pinnacle', 'BFI5', 13), ('CORP', 'pinnacle', 'DBU9', 1), ('CORP', 'pinnacle', 'DBU9', 2), ('CORP', 'pinnacle', 'DBU9', 3), ('CORP', 'pinnacle', 'DBU9', 4), ('CORP', 'pinnacle', 'DBU9', 5), ('CORP', 'pinnacle', 'DBU9', 6), ('CORP', 'pinnacle', 'DBU9', 7), ('CORP', 'pinnacle', 'DBU9', 8), ('CORP', 'pinnacle', 'DBU9', 9), ('CORP', 'pinnacle', 'DBU9', 10), ('CORP', 'pinnacle', 'DBU9', 11), ('CORP', 'pinnacle', 'DBU9', 12), ('CORP', 'pinnacle', 'DBU9', 13), ('CORP', 'pinnacle', 'DEB8', 1), ('CORP', 'pinnacle', 'DEB8', 2), ('CORP', 'pinnacle', 'DEB8', 3), ('CORP', 'pinnacle', 'DEB8', 4), ('CORP', 'pinnacle', 'DEB8', 5), ('CORP', 'pinnacle', 'DEB8', 6), ('CORP', 'pinnacle', 'DEB8', 7), ('CORP', 'pinnacle', 'DEB8', 8), ('CORP', 'pinnacle', 'DEB8', 9), ('CORP', 'pinnacle', 'DEB8', 10), ('CORP', 'pinnacle', 'DEB8', 11), ('CORP', 'pinnacle', 'DEB8', 12), ('CORP', 'pinnacle', 'DEB8', 13), ('CORP', 'pinnacle', 'DTE6', 1), ('CORP', 'pinnacle', 'DTE6', 2), ('CORP', 'pinnacle', 'DTE6', 3), ('CORP', 'pinnacle', 'DTE6', 4), ('CORP', 'pinnacle', 'DTE6', 5), ('CORP', 'pinnacle', 'DTE6', 6), ('CORP', 'pinnacle', 'DTE6', 7), ('CORP', 'pinnacle', 'DTE6', 8), ('CORP', 'pinnacle', 'DTE6', 9), ('CORP', 'pinnacle', 'DTE6', 10), ('CORP', 'pinnacle', 'DTE6', 11), ('CORP', 'pinnacle', 'DTE6', 12), ('CORP', 'pinnacle', 'DTE6', 13), ('CORP', 'pinnacle', 'DXT7', 1), ('CORP', 'pinnacle', 'DXT7', 2), ('CORP', 'pinnacle', 'DXT7', 3), ('CORP', 'pinnacle', 'DXT7', 4), ('CORP', 'pinnacle', 'DXT7', 5), ('CORP', 'pinnacle', 'DXT7', 6), ('CORP', 'pinnacle', 'DXT7', 7), ('CORP', 'pinnacle', 'DXT7', 8), ('CORP', 'pinnacle', 'DXT7', 9), ('CORP', 'pinnacle', 'DXT7', 10), ('CORP', 'pinnacle', 'DXT7', 11), ('CORP', 'pinnacle', 'DXT7', 12), ('CORP', 'pinnacle', 'DXT7', 13), ('CORP', 'transfer', 'BFI5', 1), ('CORP', 'transfer', 'BFI5', 2), ('CORP', 'transfer', 'BFI5', 3), ('CORP', 'transfer', 'BFI5', 4), ('CORP', 'transfer', 'BFI5', 5), ('CORP', 'transfer', 'BFI5', 6), ('CORP', 'transfer', 'BFI5', 7), ('CORP', 'transfer', 'BFI5', 8), ('CORP', 'transfer', 'BFI5', 9), ('CORP', 'transfer', 'BFI5', 10), ('CORP', 'transfer', 'BFI5', 11), ('CORP', 'transfer', 'BFI5', 12), ('CORP', 'transfer', 'BFI5', 13), ('CORP', 'transfer', 'DBU9', 1), ('CORP', 'transfer', 'DBU9', 2), ('CORP', 'transfer', 'DBU9', 3), ('CORP', 'transfer', 'DBU9', 4), ('CORP', 'transfer', 'DBU9', 5), ('CORP', 'transfer', 'DBU9', 6), ('CORP', 'transfer', 'DBU9', 7), ('CORP', 'transfer', 'DBU9', 8), ('CORP', 'transfer', 'DBU9', 9), ('CORP', 'transfer', 'DBU9', 10), ('CORP', 'transfer', 'DBU9', 11), ('CORP', 'transfer', 'DBU9', 12), ('CORP', 'transfer', 'DBU9', 13), ('CORP', 'transfer', 'DEB8', 1), ('CORP', 'transfer', 'DEB8', 2), ('CORP', 'transfer', 'DEB8', 3), ('CORP', 'transfer', 'DEB8', 4), ('CORP', 'transfer', 'DEB8', 5), ('CORP', 'transfer', 'DEB8', 6), ('CORP', 'transfer', 'DEB8', 7), ('CORP', 'transfer', 'DEB8', 8), ('CORP', 'transfer', 'DEB8', 9), ('CORP', 'transfer', 'DEB8', 10), ('CORP', 'transfer', 'DEB8', 11), ('CORP', 'transfer', 'DEB8', 12), ('CORP', 'transfer', 'DEB8', 13), ('CORP', 'transfer', 'DTE6', 1), ('CORP', 'transfer', 'DTE6', 2), ('CORP', 'transfer', 'DTE6', 3), ('CORP', 'transfer', 'DTE6', 4), ('CORP', 'transfer', 'DTE6', 5), ('CORP', 'transfer', 'DTE6', 6), ('CORP', 'transfer', 'DTE6', 7), ('CORP', 'transfer', 'DTE6', 8), ('CORP', 'transfer', 'DTE6', 9), ('CORP', 'transfer', 'DTE6', 10), ('CORP', 'transfer', 'DTE6', 11), ('CORP', 'transfer', 'DTE6', 12), ('CORP', 'transfer', 'DTE6', 13), ('CORP', 'transfer', 'DXT7', 1), ('CORP', 'transfer', 'DXT7', 2), ('CORP', 'transfer', 'DXT7', 3), ('CORP', 'transfer', 'DXT7', 4), ('CORP', 'transfer', 'DXT7', 5), ('CORP', 'transfer', 'DXT7', 6), ('CORP', 'transfer', 'DXT7', 7), ('CORP', 'transfer', 'DXT7', 8), ('CORP', 'transfer', 'DXT7', 9), ('CORP', 'transfer', 'DXT7', 10), ('CORP', 'transfer', 'DXT7', 11), ('CORP', 'transfer', 'DXT7', 12), ('CORP', 'transfer', 'DXT7', 13), ('CORP', 'newdsp', 'BFI5', 1), ('CORP', 'newdsp', 'BFI5', 2), ('CORP', 'newdsp', 'BFI5', 3), ('CORP', 'newdsp', 'BFI5', 4), ('CORP', 'newdsp', 'BFI5', 5), ('CORP', 'newdsp', 'BFI5', 6), ('CORP', 'newdsp', 'BFI5', 7), ('CORP', 'newdsp', 'BFI5', 8), ('CORP', 'newdsp', 'BFI5', 9), ('CORP', 'newdsp', 'BFI5', 10), ('CORP', 'newdsp', 'BFI5', 11), ('CORP', 'newdsp', 'BFI5', 12), ('CORP', 'newdsp', 'BFI5', 13), ('CORP', 'newdsp', 'DBU9', 1), ('CORP', 'newdsp', 'DBU9', 2), ('CORP', 'newdsp', 'DBU9', 3), ('CORP', 'newdsp', 'DBU9', 4), ('CORP', 'newdsp', 'DBU9', 5), ('CORP', 'newdsp', 'DBU9', 6), ('CORP', 'newdsp', 'DBU9', 7), ('CORP', 'newdsp', 'DBU9', 8), ('CORP', 'newdsp', 'DBU9', 9), ('CORP', 'newdsp', 'DBU9', 10), ('CORP', 'newdsp', 'DBU9', 11), ('CORP', 'newdsp', 'DBU9', 12), ('CORP', 'newdsp', 'DBU9', 13), ('CORP', 'newdsp', 'DEB8', 1), ('CORP', 'newdsp', 'DEB8', 2), ('CORP', 'newdsp', 'DEB8', 3), ('CORP', 'newdsp', 'DEB8', 4), ('CORP', 'newdsp', 'DEB8', 5), ('CORP', 'newdsp', 'DEB8', 6), ('CORP', 'newdsp', 'DEB8', 7), ('CORP', 'newdsp', 'DEB8', 8), ('CORP', 'newdsp', 'DEB8', 9), ('CORP', 'newdsp', 'DEB8', 10), ('CORP', 'newdsp', 'DEB8', 11), ('CORP', 'newdsp', 'DEB8', 12), ('CORP', 'newdsp', 'DEB8', 13), ('CORP', 'newdsp', 'DTE6', 1), ('CORP', 'newdsp', 'DTE6', 2), ('CORP', 'newdsp', 'DTE6', 3), ('CORP', 'newdsp', 'DTE6', 4), ('CORP', 'newdsp', 'DTE6', 5), ('CORP', 'newdsp', 'DTE6', 6), ('CORP', 'newdsp', 'DTE6', 7), ('CORP', 'newdsp', 'DTE6', 8), ('CORP', 'newdsp', 'DTE6', 9), ('CORP', 'newdsp', 'DTE6', 10), ('CORP', 'newdsp', 'DTE6', 11), ('CORP', 'newdsp', 'DTE6', 12), ('CORP', 'newdsp', 'DTE6', 13), ('CORP', 'newdsp', 'DXT7', 1), ('CORP', 'newdsp', 'DXT7', 2), ('CORP', 'newdsp', 'DXT7', 3), ('CORP', 'newdsp', 'DXT7', 4), ('CORP', 'newdsp', 'DXT7', 5), ('CORP', 'newdsp', 'DXT7', 6), ('CORP', 'newdsp', 'DXT7', 7), ('CORP', 'newdsp', 'DXT7', 8), ('CORP', 'newdsp', 'DXT7', 9), ('CORP', 'newdsp', 'DXT7', 10), ('CORP', 'newdsp', 'DXT7', 11), ('CORP', 'newdsp', 'DXT7', 12), ('CORP', 'newdsp', 'DXT7', 13), ('GODL', 'popup', 'BFI5', 1), ('GODL', 'popup', 'BFI5', 2), ('GODL', 'popup', 'BFI5', 3), ('GODL', 'popup', 'BFI5', 4), ('GODL', 'popup', 'BFI5', 5), ('GODL', 'popup', 'BFI5', 6), ('GODL', 'popup', 'BFI5', 7), ('GODL', 'popup', 'BFI5', 8), ('GODL', 'popup', 'BFI5', 9), ('GODL', 'popup', 'BFI5', 10), ('GODL', 'popup', 'BFI5', 11), ('GODL', 'popup', 'BFI5', 12), ('GODL', 'popup', 'BFI5', 13), ('GODL', 'popup', 'DBU9', 1), ('GODL', 'popup', 'DBU9', 2), ('GODL', 'popup', 'DBU9', 3), ('GODL', 'popup', 'DBU9', 4), ('GODL', 'popup', 'DBU9', 5), ('GODL', 'popup', 'DBU9', 6), ('GODL', 'popup', 'DBU9', 7), ('GODL', 'popup', 'DBU9', 8), ('GODL', 'popup', 'DBU9', 9), ('GODL', 'popup', 'DBU9', 10), ('GODL', 'popup', 'DBU9', 11), ('GODL', 'popup', 'DBU9', 12), ('GODL', 'popup', 'DBU9', 13), ('GODL', 'popup', 'DEB8', 1), ('GODL', 'popup', 'DEB8', 2), ('GODL', 'popup', 'DEB8', 3), ('GODL', 'popup', 'DEB8', 4), ('GODL', 'popup', 'DEB8', 5), ('GODL', 'popup', 'DEB8', 6), ('GODL', 'popup', 'DEB8', 7), ('GODL', 'popup', 'DEB8', 8), ('GODL', 'popup', 'DEB8', 9), ('GODL', 'popup', 'DEB8', 10), ('GODL', 'popup', 'DEB8', 11), ('GODL', 'popup', 'DEB8', 12), ('GODL', 'popup', 'DEB8', 13), ('GODL', 'popup', 'DTE6', 1), ('GODL', 'popup', 'DTE6', 2), ('GODL', 'popup', 'DTE6', 3), ('GODL', 'popup', 'DTE6', 4), ('GODL', 'popup', 'DTE6', 5), ('GODL', 'popup', 'DTE6', 6), ('GODL', 'popup', 'DTE6', 7), ('GODL', 'popup', 'DTE6', 8), ('GODL', 'popup', 'DTE6', 9), ('GODL', 'popup', 'DTE6', 10), ('GODL', 'popup', 'DTE6', 11), ('GODL', 'popup', 'DTE6', 12), ('GODL', 'popup', 'DTE6', 13), ('GODL', 'popup', 'DXT7', 1), ('GODL', 'popup', 'DXT7', 2), ('GODL', 'popup', 'DXT7', 3), ('GODL', 'popup', 'DXT7', 4), ('GODL', 'popup', 'DXT7', 5), ('GODL', 'popup', 'DXT7', 6), ('GODL', 'popup', 'DXT7', 7), ('GODL', 'popup', 'DXT7', 8), ('GODL', 'popup', 'DXT7', 9), ('GODL', 'popup', 'DXT7', 10), ('GODL', 'popup', 'DXT7', 11), ('GODL', 'popup', 'DXT7', 12), ('GODL', 'popup', 'DXT7', 13), ('GODL', 'pinnacle', 'BFI5', 1), ('GODL', 'pinnacle', 'BFI5', 2), ('GODL', 'pinnacle', 'BFI5', 3), ('GODL', 'pinnacle', 'BFI5', 4), ('GODL', 'pinnacle', 'BFI5', 5), ('GODL', 'pinnacle', 'BFI5', 6), ('GODL', 'pinnacle', 'BFI5', 7), ('GODL', 'pinnacle', 'BFI5', 8), ('GODL', 'pinnacle', 'BFI5', 9), ('GODL', 'pinnacle', 'BFI5', 10), ('GODL', 'pinnacle', 'BFI5', 11), ('GODL', 'pinnacle', 'BFI5', 12), ('GODL', 'pinnacle', 'BFI5', 13), ('GODL', 'pinnacle', 'DBU9', 1), ('GODL', 'pinnacle', 'DBU9', 2), ('GODL', 'pinnacle', 'DBU9', 3), ('GODL', 'pinnacle', 'DBU9', 4), ('GODL', 'pinnacle', 'DBU9', 5), ('GODL', 'pinnacle', 'DBU9', 6), ('GODL', 'pinnacle', 'DBU9', 7), ('GODL', 'pinnacle', 'DBU9', 8), ('GODL', 'pinnacle', 'DBU9', 9), ('GODL', 'pinnacle', 'DBU9', 10), ('GODL', 'pinnacle', 'DBU9', 11), ('GODL', 'pinnacle', 'DBU9', 12), ('GODL', 'pinnacle', 'DBU9', 13), ('GODL', 'pinnacle', 'DEB8', 1), ('GODL', 'pinnacle', 'DEB8', 2), ('GODL', 'pinnacle', 'DEB8', 3), ('GODL', 'pinnacle', 'DEB8', 4), ('GODL', 'pinnacle', 'DEB8', 5), ('GODL', 'pinnacle', 'DEB8', 6), ('GODL', 'pinnacle', 'DEB8', 7), ('GODL', 'pinnacle', 'DEB8', 8), ('GODL', 'pinnacle', 'DEB8', 9), ('GODL', 'pinnacle', 'DEB8', 10), ('GODL', 'pinnacle', 'DEB8', 11), ('GODL', 'pinnacle', 'DEB8', 12), ('GODL', 'pinnacle', 'DEB8', 13), ('GODL', 'pinnacle', 'DTE6', 1), ('GODL', 'pinnacle', 'DTE6', 2), ('GODL', 'pinnacle', 'DTE6', 3), ('GODL', 'pinnacle', 'DTE6', 4), ('GODL', 'pinnacle', 'DTE6', 5), ('GODL', 'pinnacle', 'DTE6', 6), ('GODL', 'pinnacle', 'DTE6', 7), ('GODL', 'pinnacle', 'DTE6', 8), ('GODL', 'pinnacle', 'DTE6', 9), ('GODL', 'pinnacle', 'DTE6', 10), ('GODL', 'pinnacle', 'DTE6', 11), ('GODL', 'pinnacle', 'DTE6', 12), ('GODL', 'pinnacle', 'DTE6', 13), ('GODL', 'pinnacle', 'DXT7', 1), ('GODL', 'pinnacle', 'DXT7', 2), ('GODL', 'pinnacle', 'DXT7', 3), ('GODL', 'pinnacle', 'DXT7', 4), ('GODL', 'pinnacle', 'DXT7', 5), ('GODL', 'pinnacle', 'DXT7', 6), ('GODL', 'pinnacle', 'DXT7', 7), ('GODL', 'pinnacle', 'DXT7', 8), ('GODL', 'pinnacle', 'DXT7', 9), ('GODL', 'pinnacle', 'DXT7', 10), ('GODL', 'pinnacle', 'DXT7', 11), ('GODL', 'pinnacle', 'DXT7', 12), ('GODL', 'pinnacle', 'DXT7', 13), ('GODL', 'transfer', 'BFI5', 1), ('GODL', 'transfer', 'BFI5', 2), ('GODL', 'transfer', 'BFI5', 3), ('GODL', 'transfer', 'BFI5', 4), ('GODL', 'transfer', 'BFI5', 5), ('GODL', 'transfer', 'BFI5', 6), ('GODL', 'transfer', 'BFI5', 7), ('GODL', 'transfer', 'BFI5', 8), ('GODL', 'transfer', 'BFI5', 9), ('GODL', 'transfer', 'BFI5', 10), ('GODL', 'transfer', 'BFI5', 11), ('GODL', 'transfer', 'BFI5', 12), ('GODL', 'transfer', 'BFI5', 13), ('GODL', 'transfer', 'DBU9', 1), ('GODL', 'transfer', 'DBU9', 2), ('GODL', 'transfer', 'DBU9', 3), ('GODL', 'transfer', 'DBU9', 4), ('GODL', 'transfer', 'DBU9', 5), ('GODL', 'transfer', 'DBU9', 6), ('GODL', 'transfer', 'DBU9', 7), ('GODL', 'transfer', 'DBU9', 8), ('GODL', 'transfer', 'DBU9', 9), ('GODL', 'transfer', 'DBU9', 10), ('GODL', 'transfer', 'DBU9', 11), ('GODL', 'transfer', 'DBU9', 12), ('GODL', 'transfer', 'DBU9', 13), ('GODL', 'transfer', 'DEB8', 1), ('GODL', 'transfer', 'DEB8', 2), ('GODL', 'transfer', 'DEB8', 3), ('GODL', 'transfer', 'DEB8', 4), ('GODL', 'transfer', 'DEB8', 5), ('GODL', 'transfer', 'DEB8', 6), ('GODL', 'transfer', 'DEB8', 7), ('GODL', 'transfer', 'DEB8', 8), ('GODL', 'transfer', 'DEB8', 9), ('GODL', 'transfer', 'DEB8', 10), ('GODL', 'transfer', 'DEB8', 11), ('GODL', 'transfer', 'DEB8', 12), ('GODL', 'transfer', 'DEB8', 13), ('GODL', 'transfer', 'DTE6', 1), ('GODL', 'transfer', 'DTE6', 2), ('GODL', 'transfer', 'DTE6', 3), ('GODL', 'transfer', 'DTE6', 4), ('GODL', 'transfer', 'DTE6', 5), ('GODL', 'transfer', 'DTE6', 6), ('GODL', 'transfer', 'DTE6', 7), ('GODL', 'transfer', 'DTE6', 8), ('GODL', 'transfer', 'DTE6', 9), ('GODL', 'transfer', 'DTE6', 10), ('GODL', 'transfer', 'DTE6', 11), ('GODL', 'transfer', 'DTE6', 12), ('GODL', 'transfer', 'DTE6', 13), ('GODL', 'transfer', 'DXT7', 1), ('GODL', 'transfer', 'DXT7', 2), ('GODL', 'transfer', 'DXT7', 3), ('GODL', 'transfer', 'DXT7', 4), ('GODL', 'transfer', 'DXT7', 5), ('GODL', 'transfer', 'DXT7', 6), ('GODL', 'transfer', 'DXT7', 7), ('GODL', 'transfer', 'DXT7', 8), ('GODL', 'transfer', 'DXT7', 9), ('GODL', 'transfer', 'DXT7', 10), ('GODL', 'transfer', 'DXT7', 11), ('GODL', 'transfer', 'DXT7', 12), ('GODL', 'transfer', 'DXT7', 13), ('GODL', 'newdsp', 'BFI5', 1), ('GODL', 'newdsp', 'BFI5', 2), ('GODL', 'newdsp', 'BFI5', 3), ('GODL', 'newdsp', 'BFI5', 4), ('GODL', 'newdsp', 'BFI5', 5), ('GODL', 'newdsp', 'BFI5', 6), ('GODL', 'newdsp', 'BFI5', 7), ('GODL', 'newdsp', 'BFI5', 8), ('GODL', 'newdsp', 'BFI5', 9), ('GODL', 'newdsp', 'BFI5', 10), ('GODL', 'newdsp', 'BFI5', 11), ('GODL', 'newdsp', 'BFI5', 12), ('GODL', 'newdsp', 'BFI5', 13), ('GODL', 'newdsp', 'DBU9', 1), ('GODL', 'newdsp', 'DBU9', 2), ('GODL', 'newdsp', 'DBU9', 3), ('GODL', 'newdsp', 'DBU9', 4), ('GODL', 'newdsp', 'DBU9', 5), ('GODL', 'newdsp', 'DBU9', 6), ('GODL', 'newdsp', 'DBU9', 7), ('GODL', 'newdsp', 'DBU9', 8), ('GODL', 'newdsp', 'DBU9', 9), ('GODL', 'newdsp', 'DBU9', 10), ('GODL', 'newdsp', 'DBU9', 11), ('GODL', 'newdsp', 'DBU9', 12), ('GODL', 'newdsp', 'DBU9', 13), ('GODL', 'newdsp', 'DEB8', 1), ('GODL', 'newdsp', 'DEB8', 2), ('GODL', 'newdsp', 'DEB8', 3), ('GODL', 'newdsp', 'DEB8', 4), ('GODL', 'newdsp', 'DEB8', 5), ('GODL', 'newdsp', 'DEB8', 6), ('GODL', 'newdsp', 'DEB8', 7), ('GODL', 'newdsp', 'DEB8', 8), ('GODL', 'newdsp', 'DEB8', 9), ('GODL', 'newdsp', 'DEB8', 10), ('GODL', 'newdsp', 'DEB8', 11), ('GODL', 'newdsp', 'DEB8', 12), ('GODL', 'newdsp', 'DEB8', 13), ('GODL', 'newdsp', 'DTE6', 1), ('GODL', 'newdsp', 'DTE6', 2), ('GODL', 'newdsp', 'DTE6', 3), ('GODL', 'newdsp', 'DTE6', 4), ('GODL', 'newdsp', 'DTE6', 5), ('GODL', 'newdsp', 'DTE6', 6), ('GODL', 'newdsp', 'DTE6', 7), ('GODL', 'newdsp', 'DTE6', 8), ('GODL', 'newdsp', 'DTE6', 9), ('GODL', 'newdsp', 'DTE6', 10), ('GODL', 'newdsp', 'DTE6', 11), ('GODL', 'newdsp', 'DTE6', 12), ('GODL', 'newdsp', 'DTE6', 13), ('GODL', 'newdsp', 'DXT7', 1), ('GODL', 'newdsp', 'DXT7', 2), ('GODL', 'newdsp', 'DXT7', 3), ('GODL', 'newdsp', 'DXT7', 4), ('GODL', 'newdsp', 'DXT7', 5), ('GODL', 'newdsp', 'DXT7', 6), ('GODL', 'newdsp', 'DXT7', 7), ('GODL', 'newdsp', 'DXT7', 8), ('GODL', 'newdsp', 'DXT7', 9), ('GODL', 'newdsp', 'DXT7', 10), ('GODL', 'newdsp', 'DXT7', 11), ('GODL', 'newdsp', 'DXT7', 12), ('GODL', 'newdsp', 'DXT7', 13)])"
      ]
     },
     "execution_count": 12,
     "metadata": {},
     "output_type": "execute_result"
    }
   ],
   "source": [
    "x.sum"
   ]
  },
  {
   "cell_type": "code",
   "execution_count": 18,
   "metadata": {},
   "outputs": [
    {
     "data": {
      "text/plain": [
       "<xpress.problem at 0x105b24c30>"
      ]
     },
     "execution_count": 18,
     "metadata": {},
     "output_type": "execute_result"
    }
   ],
   "source": []
  },
  {
   "cell_type": "code",
   "execution_count": null,
   "metadata": {},
   "outputs": [],
   "source": [
    "for v in m.getVars():\n",
    "    if v.x > 0.0:\n",
    "        print(v.varName, v.x)"
   ]
  },
  {
   "cell_type": "code",
   "execution_count": null,
   "metadata": {},
   "outputs": [],
   "source": [
    "x.prod(capacity_projection).getValue(), x.prod(deployment_fixed_cost).getValue()"
   ]
  },
  {
   "cell_type": "code",
   "execution_count": null,
   "metadata": {},
   "outputs": [],
   "source": [
    "package_cost = np.sum(\n",
    "    np.abs(\n",
    "        station_dsp.cap_gap_station\n",
    "        * station_dsp.spr_forecast\n",
    "        * station_dsp.is_under_solved\n",
    "    )\n",
    "    / 2\n",
    ")\n",
    "excess_capacity_cost = 0.1 * np.sum(\n",
    "    (\n",
    "        station_dsp[station_dsp.is_under_solved == 0][\"cap_gap_station\"]\n",
    "        * station_dsp.spr_forecast\n",
    "    )\n",
    "    / 2\n",
    ")\n",
    "print(f\"current cost of system = {package_cost} + {excess_capacity_cost}\")"
   ]
  },
  {
   "cell_type": "code",
   "execution_count": null,
   "metadata": {},
   "outputs": [],
   "source": [
    "elligible_dsps = station_dsp[station_dsp.is_elligible_target == 1].dsp.unique()\n",
    "print(elligible_dsps)\n",
    "\n",
    "popups_forecast = dict(\n",
    "    zip(\n",
    "        elligible_dsps,\n",
    "        np.random.normal(loc=15, scale=10.0, size=len(elligible_dsps)).clip(5.0, 30.0),\n",
    "    )\n",
    ")\n",
    "\n",
    "pinnacle_forecast = dict(\n",
    "    zip(\n",
    "        elligible_dsps,\n",
    "        np.random.normal(loc=20, scale=10.0, size=len(elligible_dsps)).clip(5.0, 30.0),\n",
    "    )\n",
    ")\n",
    "\n",
    "transfer_forecast = dict(\n",
    "    zip(\n",
    "        elligible_dsps,\n",
    "        np.random.normal(loc=30, scale=10.0, size=len(elligible_dsps)).clip(15.0, 50.0),\n",
    "    )\n",
    ")\n",
    "\n",
    "new_forecast = dict(\n",
    "    zip(\n",
    "        elligible_dsps,\n",
    "        np.random.normal(loc=10, scale=10.0, size=len(elligible_dsps)).clip(0.0, 20.0),\n",
    "    )\n",
    ")\n",
    "\n",
    "data = {\"dsp\": elligible_dsps}\n",
    "capacity_add = pd.DataFrame(data)\n",
    "\n",
    "capacity_add[\"popup\"] = capacity_add[\"dsp\"].map(popups_forecast)\n",
    "capacity_add[\"pinnacle\"] = capacity_add[\"dsp\"].map(pinnacle_forecast)\n",
    "capacity_add[\"transfer\"] = capacity_add[\"dsp\"].map(transfer_forecast)\n",
    "capacity_add[\"new\"] = capacity_add[\"dsp\"].map(new_forecast)\n",
    "capacity_add"
   ]
  },
  {
   "cell_type": "code",
   "execution_count": null,
   "metadata": {},
   "outputs": [],
   "source": [
    "n_elligible_dsps = station_dsp[station_dsp.is_elligible_target == 0].dsp.unique()\n",
    "print(n_elligible_dsps)\n",
    "\n",
    "popups_forecast = dict(\n",
    "    zip(\n",
    "        elligible_dsps,\n",
    "        np.random.normal(loc=3.0, scale=1.0, size=len(n_elligible_dsps)).clip(0.0, 5.0),\n",
    "    )\n",
    ")\n",
    "\n",
    "pinnacle_forecast = dict(\n",
    "    zip(\n",
    "        elligible_dsps,\n",
    "        np.random.normal(loc=3.0, scale=1.0, size=len(elligible_dsps)).clip(0.0, 5.0),\n",
    "    )\n",
    ")\n",
    "\n",
    "data = {\"dsp\": elligible_dsps}\n",
    "capacity_sub = pd.DataFrame(data)\n",
    "\n",
    "capacity_sub[\"popup\"] = capacity_sub[\"dsp\"].map(popups_forecast)\n",
    "capacity_sub[\"pinnacle\"] = capacity_sub[\"dsp\"].map(pinnacle_forecast)\n",
    "capacity_sub[\"transfer\"] = capacity_sub[\"dsp\"].map(transfer_forecast)\n",
    "capacity_sub[\"new\"] = 0\n",
    "capacity_sub"
   ]
  },
  {
   "cell_type": "code",
   "execution_count": null,
   "metadata": {},
   "outputs": [],
   "source": [
    "scenario = np.array(capacity_add[[\"popup\", \"pinnacle\", \"transfer\", \"new\"]]).flatten()\n",
    "oversolved = pd.DataFrame({\"station\": oversolved_stations})"
   ]
  },
  {
   "cell_type": "code",
   "execution_count": null,
   "metadata": {},
   "outputs": [],
   "source": [
    "x = np.array(np.repeat([1, 0, 0, 0], 5)).reshape(1, 20)\n",
    "x"
   ]
  },
  {
   "cell_type": "code",
   "execution_count": null,
   "metadata": {},
   "outputs": [],
   "source": [
    "A_ub = np.sum(x, axis=1).reshape(5, 1)\n",
    "A_ub"
   ]
  },
  {
   "cell_type": "code",
   "execution_count": null,
   "metadata": {},
   "outputs": [],
   "source": [
    "A = np.repeat(1, 5).reshape(5, 1)\n",
    "A"
   ]
  },
  {
   "cell_type": "code",
   "execution_count": null,
   "metadata": {},
   "outputs": [],
   "source": [
    "map_x = np.repeat(x.flatten().reshape(1, 20), 2).reshape(len(undersolved_stations), 20)\n",
    "map_x"
   ]
  },
  {
   "cell_type": "code",
   "execution_count": null,
   "metadata": {},
   "outputs": [],
   "source": [
    "b_ub = np.sum(map_x, axis=0)\n",
    "b_ub"
   ]
  },
  {
   "cell_type": "code",
   "execution_count": null,
   "metadata": {},
   "outputs": [],
   "source": [
    "B = np.repeat(1, 20).reshape(1, 20)\n",
    "B"
   ]
  },
  {
   "cell_type": "code",
   "execution_count": null,
   "metadata": {},
   "outputs": [],
   "source": [
    "bounds = list(zip(np.repeat(0, 20), np.repeat(1, 20)))\n",
    "bounds"
   ]
  },
  {
   "cell_type": "code",
   "execution_count": null,
   "metadata": {},
   "outputs": [],
   "source": [
    "# c = -np.array(list(price.values()))\n",
    "# c"
   ]
  },
  {
   "cell_type": "code",
   "execution_count": null,
   "metadata": {},
   "outputs": [],
   "source": [
    "# A_ub = np.array([np.array(list(w.values())), np.array(list(v.values()))])\n",
    "\n",
    "# A_ub"
   ]
  },
  {
   "cell_type": "code",
   "execution_count": null,
   "metadata": {},
   "outputs": [],
   "source": [
    "b_ub = np.array([kw, kv])\n",
    "b_ub"
   ]
  },
  {
   "cell_type": "code",
   "execution_count": null,
   "metadata": {},
   "outputs": [],
   "source": [
    "bounds = [\n",
    "    (0, 1),\n",
    "] * 10\n",
    "bounds"
   ]
  },
  {
   "cell_type": "code",
   "execution_count": null,
   "metadata": {},
   "outputs": [],
   "source": [
    "from scipy.optimize import linprog\n",
    "\n",
    "# Obtain solution\n",
    "sol = linprog(c, A_ub=A_ub, b_ub=b_ub, bounds=bounds)\n",
    "\n",
    "print(sol)"
   ]
  },
  {
   "cell_type": "code",
   "execution_count": null,
   "metadata": {},
   "outputs": [],
   "source": [
    "integrality_vector = np.full(c.shape[0], 1)\n",
    "print(integrality_vector)\n",
    "sol_int = linprog(\n",
    "    c, A_ub=A_ub, b_ub=b_ub, bounds=bounds, integrality=integrality_vector\n",
    ")\n",
    "print(sol_int)"
   ]
  },
  {
   "cell_type": "code",
   "execution_count": null,
   "metadata": {},
   "outputs": [],
   "source": []
  }
 ],
 "metadata": {
  "kernelspec": {
   "display_name": "ml39",
   "language": "python",
   "name": "python3"
  },
  "language_info": {
   "codemirror_mode": {
    "name": "ipython",
    "version": 3
   },
   "file_extension": ".py",
   "mimetype": "text/x-python",
   "name": "python",
   "nbconvert_exporter": "python",
   "pygments_lexer": "ipython3",
   "version": "3.9.16"
  },
  "orig_nbformat": 4
 },
 "nbformat": 4,
 "nbformat_minor": 2
}
