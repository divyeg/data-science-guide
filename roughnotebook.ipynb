{
 "cells": [
  {
   "cell_type": "code",
   "execution_count": 2,
   "metadata": {},
   "outputs": [],
   "source": [
    "import numpy as np\n",
    "import pandas as pd\n",
    "\n",
    "np.random.seed(12)"
   ]
  },
  {
   "cell_type": "code",
   "execution_count": 22,
   "metadata": {},
   "outputs": [
    {
     "data": {
      "text/plain": [
       "1"
      ]
     },
     "execution_count": 22,
     "metadata": {},
     "output_type": "execute_result"
    }
   ],
   "source": [
    "np.random.randint(0, 5)"
   ]
  },
  {
   "cell_type": "code",
   "execution_count": 12,
   "metadata": {},
   "outputs": [
    {
     "name": "stdout",
     "output_type": "stream",
     "text": [
      "[1, 2, 3, 4, 5]\n",
      "[11, 12, 13, 14, 15, 16, 17, 18, 19, 20]\n"
     ]
    }
   ],
   "source": [
    "# Let's say we have 5 stations and each station has 2 DSPs\n",
    "stations = list(range(1, 6))\n",
    "print(stations)\n",
    "dsp = list(range(11, 21))\n",
    "print(dsp)"
   ]
  },
  {
   "cell_type": "code",
   "execution_count": 3,
   "metadata": {},
   "outputs": [
    {
     "data": {
      "text/html": [
       "<div>\n",
       "<style scoped>\n",
       "    .dataframe tbody tr th:only-of-type {\n",
       "        vertical-align: middle;\n",
       "    }\n",
       "\n",
       "    .dataframe tbody tr th {\n",
       "        vertical-align: top;\n",
       "    }\n",
       "\n",
       "    .dataframe thead th {\n",
       "        text-align: right;\n",
       "    }\n",
       "</style>\n",
       "<table border=\"1\" class=\"dataframe\">\n",
       "  <thead>\n",
       "    <tr style=\"text-align: right;\">\n",
       "      <th></th>\n",
       "      <th>week</th>\n",
       "      <th>stations</th>\n",
       "      <th>dsp</th>\n",
       "      <th>volume_forecast</th>\n",
       "      <th>spr_forecast</th>\n",
       "      <th>routes_demand</th>\n",
       "      <th>dsp_capacity</th>\n",
       "      <th>volume_share</th>\n",
       "      <th>dsp_routes_demand</th>\n",
       "      <th>is_elligible_target</th>\n",
       "      <th>station_capacity</th>\n",
       "      <th>cap_gap_station</th>\n",
       "      <th>is_under_solved</th>\n",
       "    </tr>\n",
       "  </thead>\n",
       "  <tbody>\n",
       "    <tr>\n",
       "      <th>0</th>\n",
       "      <td>50</td>\n",
       "      <td>1</td>\n",
       "      <td>11</td>\n",
       "      <td>1023</td>\n",
       "      <td>15</td>\n",
       "      <td>68</td>\n",
       "      <td>18</td>\n",
       "      <td>0.3</td>\n",
       "      <td>20.4</td>\n",
       "      <td>0</td>\n",
       "      <td>45</td>\n",
       "      <td>-23</td>\n",
       "      <td>1</td>\n",
       "    </tr>\n",
       "    <tr>\n",
       "      <th>1</th>\n",
       "      <td>50</td>\n",
       "      <td>1</td>\n",
       "      <td>16</td>\n",
       "      <td>1023</td>\n",
       "      <td>15</td>\n",
       "      <td>68</td>\n",
       "      <td>27</td>\n",
       "      <td>0.7</td>\n",
       "      <td>47.6</td>\n",
       "      <td>0</td>\n",
       "      <td>45</td>\n",
       "      <td>-23</td>\n",
       "      <td>1</td>\n",
       "    </tr>\n",
       "    <tr>\n",
       "      <th>2</th>\n",
       "      <td>50</td>\n",
       "      <td>2</td>\n",
       "      <td>12</td>\n",
       "      <td>965</td>\n",
       "      <td>25</td>\n",
       "      <td>38</td>\n",
       "      <td>39</td>\n",
       "      <td>0.6</td>\n",
       "      <td>22.8</td>\n",
       "      <td>1</td>\n",
       "      <td>89</td>\n",
       "      <td>51</td>\n",
       "      <td>0</td>\n",
       "    </tr>\n",
       "    <tr>\n",
       "      <th>3</th>\n",
       "      <td>50</td>\n",
       "      <td>2</td>\n",
       "      <td>17</td>\n",
       "      <td>965</td>\n",
       "      <td>25</td>\n",
       "      <td>38</td>\n",
       "      <td>50</td>\n",
       "      <td>0.4</td>\n",
       "      <td>15.2</td>\n",
       "      <td>1</td>\n",
       "      <td>89</td>\n",
       "      <td>51</td>\n",
       "      <td>0</td>\n",
       "    </tr>\n",
       "    <tr>\n",
       "      <th>4</th>\n",
       "      <td>50</td>\n",
       "      <td>3</td>\n",
       "      <td>13</td>\n",
       "      <td>1012</td>\n",
       "      <td>23</td>\n",
       "      <td>44</td>\n",
       "      <td>51</td>\n",
       "      <td>0.5</td>\n",
       "      <td>22.0</td>\n",
       "      <td>1</td>\n",
       "      <td>62</td>\n",
       "      <td>18</td>\n",
       "      <td>0</td>\n",
       "    </tr>\n",
       "    <tr>\n",
       "      <th>5</th>\n",
       "      <td>50</td>\n",
       "      <td>3</td>\n",
       "      <td>18</td>\n",
       "      <td>1012</td>\n",
       "      <td>23</td>\n",
       "      <td>44</td>\n",
       "      <td>11</td>\n",
       "      <td>0.5</td>\n",
       "      <td>22.0</td>\n",
       "      <td>0</td>\n",
       "      <td>62</td>\n",
       "      <td>18</td>\n",
       "      <td>0</td>\n",
       "    </tr>\n",
       "    <tr>\n",
       "      <th>6</th>\n",
       "      <td>50</td>\n",
       "      <td>4</td>\n",
       "      <td>14</td>\n",
       "      <td>914</td>\n",
       "      <td>16</td>\n",
       "      <td>57</td>\n",
       "      <td>10</td>\n",
       "      <td>0.6</td>\n",
       "      <td>34.2</td>\n",
       "      <td>0</td>\n",
       "      <td>20</td>\n",
       "      <td>-37</td>\n",
       "      <td>1</td>\n",
       "    </tr>\n",
       "    <tr>\n",
       "      <th>7</th>\n",
       "      <td>50</td>\n",
       "      <td>4</td>\n",
       "      <td>19</td>\n",
       "      <td>914</td>\n",
       "      <td>16</td>\n",
       "      <td>57</td>\n",
       "      <td>10</td>\n",
       "      <td>0.4</td>\n",
       "      <td>22.8</td>\n",
       "      <td>0</td>\n",
       "      <td>20</td>\n",
       "      <td>-37</td>\n",
       "      <td>1</td>\n",
       "    </tr>\n",
       "    <tr>\n",
       "      <th>8</th>\n",
       "      <td>50</td>\n",
       "      <td>5</td>\n",
       "      <td>15</td>\n",
       "      <td>1037</td>\n",
       "      <td>50</td>\n",
       "      <td>20</td>\n",
       "      <td>56</td>\n",
       "      <td>0.8</td>\n",
       "      <td>16.0</td>\n",
       "      <td>1</td>\n",
       "      <td>110</td>\n",
       "      <td>90</td>\n",
       "      <td>0</td>\n",
       "    </tr>\n",
       "    <tr>\n",
       "      <th>9</th>\n",
       "      <td>50</td>\n",
       "      <td>5</td>\n",
       "      <td>20</td>\n",
       "      <td>1037</td>\n",
       "      <td>50</td>\n",
       "      <td>20</td>\n",
       "      <td>54</td>\n",
       "      <td>0.2</td>\n",
       "      <td>4.0</td>\n",
       "      <td>1</td>\n",
       "      <td>110</td>\n",
       "      <td>90</td>\n",
       "      <td>0</td>\n",
       "    </tr>\n",
       "  </tbody>\n",
       "</table>\n",
       "</div>"
      ],
      "text/plain": [
       "   week  stations  dsp  volume_forecast  spr_forecast  routes_demand  \\\n",
       "0    50         1   11             1023            15             68   \n",
       "1    50         1   16             1023            15             68   \n",
       "2    50         2   12              965            25             38   \n",
       "3    50         2   17              965            25             38   \n",
       "4    50         3   13             1012            23             44   \n",
       "5    50         3   18             1012            23             44   \n",
       "6    50         4   14              914            16             57   \n",
       "7    50         4   19              914            16             57   \n",
       "8    50         5   15             1037            50             20   \n",
       "9    50         5   20             1037            50             20   \n",
       "\n",
       "   dsp_capacity  volume_share  dsp_routes_demand  is_elligible_target  \\\n",
       "0            18           0.3               20.4                    0   \n",
       "1            27           0.7               47.6                    0   \n",
       "2            39           0.6               22.8                    1   \n",
       "3            50           0.4               15.2                    1   \n",
       "4            51           0.5               22.0                    1   \n",
       "5            11           0.5               22.0                    0   \n",
       "6            10           0.6               34.2                    0   \n",
       "7            10           0.4               22.8                    0   \n",
       "8            56           0.8               16.0                    1   \n",
       "9            54           0.2                4.0                    1   \n",
       "\n",
       "   station_capacity  cap_gap_station  is_under_solved  \n",
       "0                45              -23                1  \n",
       "1                45              -23                1  \n",
       "2                89               51                0  \n",
       "3                89               51                0  \n",
       "4                62               18                0  \n",
       "5                62               18                0  \n",
       "6                20              -37                1  \n",
       "7                20              -37                1  \n",
       "8               110               90                0  \n",
       "9               110               90                0  "
      ]
     },
     "execution_count": 3,
     "metadata": {},
     "output_type": "execute_result"
    }
   ],
   "source": [
    "volume_forecast = dict(\n",
    "    zip(stations, np.random.normal(loc=1000, scale=50, size=5).clip(800.0, 1200.0))\n",
    ")\n",
    "\n",
    "spr_forecast = dict(\n",
    "    zip(stations, np.random.normal(loc=25.0, scale=10.0, size=5).clip(15.0, 50.0))\n",
    ")\n",
    "routes_forecast = dict(\n",
    "    zip(dsp, np.random.normal(loc=30.0, scale=20.0, size=10).clip(10.0, 70.0))\n",
    ")\n",
    "\n",
    "data = {\"week\": np.repeat(50, 10), \"stations\": stations + stations, \"dsp\": dsp}\n",
    "station_dsp = pd.DataFrame(data=data)\n",
    "station_dsp = station_dsp.sort_values(by=[\"stations\", \"dsp\"]).reset_index(drop=True)\n",
    "station_dsp[\"volume_forecast\"] = (\n",
    "    station_dsp[\"stations\"].map(volume_forecast).astype(\"int32\")\n",
    ")\n",
    "station_dsp[\"spr_forecast\"] = station_dsp[\"stations\"].map(spr_forecast).astype(\"int32\")\n",
    "station_dsp[\"routes_demand\"] = (\n",
    "    station_dsp.volume_forecast / station_dsp.spr_forecast\n",
    ").astype(\"int32\")\n",
    "station_dsp[\"dsp_capacity\"] = station_dsp[\"dsp\"].map(routes_forecast).astype(\"int32\")\n",
    "station_dsp[\"volume_share\"] = [0.3, 0.7, 0.6, 0.4, 0.5, 0.5, 0.6, 0.4, 0.8, 0.2]\n",
    "station_dsp[\"dsp_routes_demand\"] = station_dsp.routes_demand * station_dsp.volume_share\n",
    "station_dsp[\"is_elligible_target\"] = np.where(\n",
    "    station_dsp.dsp_routes_demand < station_dsp.dsp_capacity, 1, 0\n",
    ")\n",
    "station_cap = (\n",
    "    station_dsp.groupby([\"stations\"])[\"dsp_capacity\"]\n",
    "    .sum()\n",
    "    .astype(\"int32\")\n",
    "    .reset_index()\n",
    ")\n",
    "station_cap.rename(columns={\"dsp_capacity\": \"station_capacity\"}, inplace=True)\n",
    "station_dsp = station_dsp.merge(station_cap, on=\"stations\", how=\"left\")\n",
    "station_dsp[\"cap_gap_station\"] = (\n",
    "    station_dsp[\"station_capacity\"] - station_dsp[\"routes_demand\"]\n",
    ")\n",
    "station_dsp[\"is_under_solved\"] = np.where(station_dsp.cap_gap_station < 0, 1, 0)\n",
    "station_dsp[\"is_elligible_target\"] = (\n",
    "    station_dsp.is_elligible_target - station_dsp.is_under_solved\n",
    ") * station_dsp.is_elligible_target\n",
    "station_dsp"
   ]
  },
  {
   "cell_type": "code",
   "execution_count": 4,
   "metadata": {},
   "outputs": [
    {
     "name": "stdout",
     "output_type": "stream",
     "text": [
      "current cost of system = 937.0 + 618.9000000000001\n"
     ]
    }
   ],
   "source": [
    "package_cost = np.sum(\n",
    "    np.abs(\n",
    "        station_dsp.cap_gap_station\n",
    "        * station_dsp.spr_forecast\n",
    "        * station_dsp.is_under_solved\n",
    "    )\n",
    "    / 2\n",
    ")\n",
    "excess_capacity_cost = 0.1 * np.sum(\n",
    "    (\n",
    "        station_dsp[station_dsp.is_under_solved == 0][\"cap_gap_station\"]\n",
    "        * station_dsp.spr_forecast\n",
    "    )\n",
    "    / 2\n",
    ")\n",
    "print(f\"current cost of system = {package_cost} + {excess_capacity_cost}\")"
   ]
  },
  {
   "cell_type": "code",
   "execution_count": 6,
   "metadata": {},
   "outputs": [
    {
     "name": "stdout",
     "output_type": "stream",
     "text": [
      "[2 3 5] [1 4]\n"
     ]
    }
   ],
   "source": [
    "oversolved_stations = station_dsp[station_dsp.is_under_solved == 0].stations.unique()\n",
    "undersolved_stations = station_dsp[station_dsp.is_under_solved == 1].stations.unique()\n",
    "print(oversolved_stations, undersolved_stations)"
   ]
  },
  {
   "cell_type": "code",
   "execution_count": 11,
   "metadata": {},
   "outputs": [
    {
     "name": "stdout",
     "output_type": "stream",
     "text": [
      "[12 17 13 15 20]\n"
     ]
    },
    {
     "data": {
      "text/html": [
       "<div>\n",
       "<style scoped>\n",
       "    .dataframe tbody tr th:only-of-type {\n",
       "        vertical-align: middle;\n",
       "    }\n",
       "\n",
       "    .dataframe tbody tr th {\n",
       "        vertical-align: top;\n",
       "    }\n",
       "\n",
       "    .dataframe thead th {\n",
       "        text-align: right;\n",
       "    }\n",
       "</style>\n",
       "<table border=\"1\" class=\"dataframe\">\n",
       "  <thead>\n",
       "    <tr style=\"text-align: right;\">\n",
       "      <th></th>\n",
       "      <th>dsp</th>\n",
       "      <th>popup</th>\n",
       "      <th>pinnacle</th>\n",
       "      <th>transfer</th>\n",
       "      <th>new</th>\n",
       "    </tr>\n",
       "  </thead>\n",
       "  <tbody>\n",
       "    <tr>\n",
       "      <th>0</th>\n",
       "      <td>12</td>\n",
       "      <td>14.485850</td>\n",
       "      <td>29.435754</td>\n",
       "      <td>32.227195</td>\n",
       "      <td>8.947320</td>\n",
       "    </tr>\n",
       "    <tr>\n",
       "      <th>1</th>\n",
       "      <td>17</td>\n",
       "      <td>16.597877</td>\n",
       "      <td>23.576442</td>\n",
       "      <td>15.000000</td>\n",
       "      <td>15.120222</td>\n",
       "    </tr>\n",
       "    <tr>\n",
       "      <th>2</th>\n",
       "      <td>13</td>\n",
       "      <td>7.837364</td>\n",
       "      <td>19.165508</td>\n",
       "      <td>40.292112</td>\n",
       "      <td>20.000000</td>\n",
       "    </tr>\n",
       "    <tr>\n",
       "      <th>3</th>\n",
       "      <td>15</td>\n",
       "      <td>15.505228</td>\n",
       "      <td>26.778061</td>\n",
       "      <td>18.337412</td>\n",
       "      <td>0.000000</td>\n",
       "    </tr>\n",
       "    <tr>\n",
       "      <th>4</th>\n",
       "      <td>20</td>\n",
       "      <td>13.566626</td>\n",
       "      <td>25.560604</td>\n",
       "      <td>19.904383</td>\n",
       "      <td>20.000000</td>\n",
       "    </tr>\n",
       "  </tbody>\n",
       "</table>\n",
       "</div>"
      ],
      "text/plain": [
       "   dsp      popup   pinnacle   transfer        new\n",
       "0   12  14.485850  29.435754  32.227195   8.947320\n",
       "1   17  16.597877  23.576442  15.000000  15.120222\n",
       "2   13   7.837364  19.165508  40.292112  20.000000\n",
       "3   15  15.505228  26.778061  18.337412   0.000000\n",
       "4   20  13.566626  25.560604  19.904383  20.000000"
      ]
     },
     "execution_count": 11,
     "metadata": {},
     "output_type": "execute_result"
    }
   ],
   "source": [
    "elligible_dsps = station_dsp[station_dsp.is_elligible_target == 1].dsp.unique()\n",
    "print(elligible_dsps)\n",
    "\n",
    "popups_forecast = dict(\n",
    "    zip(\n",
    "        elligible_dsps,\n",
    "        np.random.normal(loc=15, scale=10.0, size=len(elligible_dsps)).clip(5.0, 30.0),\n",
    "    )\n",
    ")\n",
    "\n",
    "pinnacle_forecast = dict(\n",
    "    zip(\n",
    "        elligible_dsps,\n",
    "        np.random.normal(loc=20, scale=10.0, size=len(elligible_dsps)).clip(5.0, 30.0),\n",
    "    )\n",
    ")\n",
    "\n",
    "transfer_forecast = dict(\n",
    "    zip(\n",
    "        elligible_dsps,\n",
    "        np.random.normal(loc=30, scale=10.0, size=len(elligible_dsps)).clip(15.0, 50.0),\n",
    "    )\n",
    ")\n",
    "\n",
    "new_forecast = dict(\n",
    "    zip(\n",
    "        elligible_dsps,\n",
    "        np.random.normal(loc=10, scale=10.0, size=len(elligible_dsps)).clip(0.0, 20.0),\n",
    "    )\n",
    ")\n",
    "\n",
    "data = {\"dsp\": elligible_dsps}\n",
    "capacity_add = pd.DataFrame(data)\n",
    "\n",
    "capacity_add[\"popup\"] = capacity_add[\"dsp\"].map(popups_forecast)\n",
    "capacity_add[\"pinnacle\"] = capacity_add[\"dsp\"].map(pinnacle_forecast)\n",
    "capacity_add[\"transfer\"] = capacity_add[\"dsp\"].map(transfer_forecast)\n",
    "capacity_add[\"new\"] = capacity_add[\"dsp\"].map(new_forecast)\n",
    "capacity_add"
   ]
  },
  {
   "cell_type": "code",
   "execution_count": 16,
   "metadata": {},
   "outputs": [
    {
     "name": "stdout",
     "output_type": "stream",
     "text": [
      "[11 16 18 14 19]\n"
     ]
    },
    {
     "data": {
      "text/html": [
       "<div>\n",
       "<style scoped>\n",
       "    .dataframe tbody tr th:only-of-type {\n",
       "        vertical-align: middle;\n",
       "    }\n",
       "\n",
       "    .dataframe tbody tr th {\n",
       "        vertical-align: top;\n",
       "    }\n",
       "\n",
       "    .dataframe thead th {\n",
       "        text-align: right;\n",
       "    }\n",
       "</style>\n",
       "<table border=\"1\" class=\"dataframe\">\n",
       "  <thead>\n",
       "    <tr style=\"text-align: right;\">\n",
       "      <th></th>\n",
       "      <th>dsp</th>\n",
       "      <th>popup</th>\n",
       "      <th>pinnacle</th>\n",
       "      <th>transfer</th>\n",
       "      <th>new</th>\n",
       "    </tr>\n",
       "  </thead>\n",
       "  <tbody>\n",
       "    <tr>\n",
       "      <th>0</th>\n",
       "      <td>12</td>\n",
       "      <td>4.636463</td>\n",
       "      <td>1.660611</td>\n",
       "      <td>32.227195</td>\n",
       "      <td>0</td>\n",
       "    </tr>\n",
       "    <tr>\n",
       "      <th>1</th>\n",
       "      <td>17</td>\n",
       "      <td>2.538605</td>\n",
       "      <td>1.310347</td>\n",
       "      <td>15.000000</td>\n",
       "      <td>0</td>\n",
       "    </tr>\n",
       "    <tr>\n",
       "      <th>2</th>\n",
       "      <td>13</td>\n",
       "      <td>2.798638</td>\n",
       "      <td>2.800673</td>\n",
       "      <td>40.292112</td>\n",
       "      <td>0</td>\n",
       "    </tr>\n",
       "    <tr>\n",
       "      <th>3</th>\n",
       "      <td>15</td>\n",
       "      <td>2.428183</td>\n",
       "      <td>3.257773</td>\n",
       "      <td>18.337412</td>\n",
       "      <td>0</td>\n",
       "    </tr>\n",
       "    <tr>\n",
       "      <th>4</th>\n",
       "      <td>20</td>\n",
       "      <td>2.396701</td>\n",
       "      <td>4.828821</td>\n",
       "      <td>19.904383</td>\n",
       "      <td>0</td>\n",
       "    </tr>\n",
       "  </tbody>\n",
       "</table>\n",
       "</div>"
      ],
      "text/plain": [
       "   dsp     popup  pinnacle   transfer  new\n",
       "0   12  4.636463  1.660611  32.227195    0\n",
       "1   17  2.538605  1.310347  15.000000    0\n",
       "2   13  2.798638  2.800673  40.292112    0\n",
       "3   15  2.428183  3.257773  18.337412    0\n",
       "4   20  2.396701  4.828821  19.904383    0"
      ]
     },
     "execution_count": 16,
     "metadata": {},
     "output_type": "execute_result"
    }
   ],
   "source": [
    "n_elligible_dsps = station_dsp[station_dsp.is_elligible_target == 0].dsp.unique()\n",
    "print(n_elligible_dsps)\n",
    "\n",
    "popups_forecast = dict(\n",
    "    zip(\n",
    "        elligible_dsps,\n",
    "        np.random.normal(loc=3.0, scale=1.0, size=len(n_elligible_dsps)).clip(0.0, 5.0),\n",
    "    )\n",
    ")\n",
    "\n",
    "pinnacle_forecast = dict(\n",
    "    zip(\n",
    "        elligible_dsps,\n",
    "        np.random.normal(loc=3.0, scale=1.0, size=len(elligible_dsps)).clip(0.0, 5.0),\n",
    "    )\n",
    ")\n",
    "\n",
    "data = {\"dsp\": elligible_dsps}\n",
    "capacity_sub = pd.DataFrame(data)\n",
    "\n",
    "capacity_sub[\"popup\"] = capacity_sub[\"dsp\"].map(popups_forecast)\n",
    "capacity_sub[\"pinnacle\"] = capacity_sub[\"dsp\"].map(pinnacle_forecast)\n",
    "capacity_sub[\"transfer\"] = capacity_sub[\"dsp\"].map(transfer_forecast)\n",
    "capacity_sub[\"new\"] = 0\n",
    "capacity_sub"
   ]
  },
  {
   "cell_type": "code",
   "execution_count": 15,
   "metadata": {},
   "outputs": [
    {
     "data": {
      "text/plain": [
       "(20,)"
      ]
     },
     "execution_count": 15,
     "metadata": {},
     "output_type": "execute_result"
    }
   ],
   "source": [
    "scenario = np.array(capacity_add[[\"popup\", \"pinnacle\", \"transfer\", \"new\"]]).flatten()\n",
    "oversolved = pd.DataFrame({\"station\": oversolved_stations})"
   ]
  },
  {
   "cell_type": "code",
   "execution_count": 50,
   "metadata": {},
   "outputs": [
    {
     "data": {
      "text/plain": [
       "array([[0, 0, 0, 0, 0, 1, 1, 1, 1, 1, 0, 0, 0, 0, 0, 0, 0, 0, 0, 0]])"
      ]
     },
     "execution_count": 50,
     "metadata": {},
     "output_type": "execute_result"
    }
   ],
   "source": [
    "x = np.array(np.repeat([1, 0, 0, 0], 5)).reshape(1, 20)\n",
    "x"
   ]
  },
  {
   "cell_type": "code",
   "execution_count": 28,
   "metadata": {},
   "outputs": [
    {
     "data": {
      "text/plain": [
       "array([[0],\n",
       "       [0],\n",
       "       [0],\n",
       "       [0],\n",
       "       [0]])"
      ]
     },
     "execution_count": 28,
     "metadata": {},
     "output_type": "execute_result"
    }
   ],
   "source": [
    "A_ub = np.sum(x, axis=1).reshape(5, 1)\n",
    "A_ub"
   ]
  },
  {
   "cell_type": "code",
   "execution_count": 25,
   "metadata": {},
   "outputs": [
    {
     "data": {
      "text/plain": [
       "array([[1],\n",
       "       [1],\n",
       "       [1],\n",
       "       [1],\n",
       "       [1]])"
      ]
     },
     "execution_count": 25,
     "metadata": {},
     "output_type": "execute_result"
    }
   ],
   "source": [
    "A = np.repeat(1, 5).reshape(5, 1)\n",
    "A"
   ]
  },
  {
   "cell_type": "code",
   "execution_count": 34,
   "metadata": {},
   "outputs": [
    {
     "data": {
      "text/plain": [
       "array([[0, 0, 0, 0, 0, 0, 0, 0, 0, 0, 0, 0, 0, 0, 0, 0, 0, 0, 0, 0],\n",
       "       [0, 0, 0, 0, 0, 0, 0, 0, 0, 0, 0, 0, 0, 0, 0, 0, 0, 0, 0, 0]])"
      ]
     },
     "execution_count": 34,
     "metadata": {},
     "output_type": "execute_result"
    }
   ],
   "source": [
    "map_x = np.repeat(x.flatten().reshape(1, 20), 2).reshape(len(undersolved_stations), 20)\n",
    "map_x"
   ]
  },
  {
   "cell_type": "code",
   "execution_count": 38,
   "metadata": {},
   "outputs": [
    {
     "data": {
      "text/plain": [
       "array([0, 0, 0, 0, 0, 0, 0, 0, 0, 0, 0, 0, 0, 0, 0, 0, 0, 0, 0, 0])"
      ]
     },
     "execution_count": 38,
     "metadata": {},
     "output_type": "execute_result"
    }
   ],
   "source": [
    "b_ub = np.sum(map_x, axis=0)\n",
    "b_ub"
   ]
  },
  {
   "cell_type": "code",
   "execution_count": 40,
   "metadata": {},
   "outputs": [
    {
     "data": {
      "text/plain": [
       "array([[1, 1, 1, 1, 1, 1, 1, 1, 1, 1, 1, 1, 1, 1, 1, 1, 1, 1, 1, 1]])"
      ]
     },
     "execution_count": 40,
     "metadata": {},
     "output_type": "execute_result"
    }
   ],
   "source": [
    "B = np.repeat(1, 20).reshape(1, 20)\n",
    "B"
   ]
  },
  {
   "cell_type": "code",
   "execution_count": 47,
   "metadata": {},
   "outputs": [
    {
     "data": {
      "text/plain": [
       "[(0, 1),\n",
       " (0, 1),\n",
       " (0, 1),\n",
       " (0, 1),\n",
       " (0, 1),\n",
       " (0, 1),\n",
       " (0, 1),\n",
       " (0, 1),\n",
       " (0, 1),\n",
       " (0, 1),\n",
       " (0, 1),\n",
       " (0, 1),\n",
       " (0, 1),\n",
       " (0, 1),\n",
       " (0, 1),\n",
       " (0, 1),\n",
       " (0, 1),\n",
       " (0, 1),\n",
       " (0, 1),\n",
       " (0, 1)]"
      ]
     },
     "execution_count": 47,
     "metadata": {},
     "output_type": "execute_result"
    }
   ],
   "source": [
    "bounds = list(zip(np.repeat(0, 20), np.repeat(1, 20)))\n",
    "bounds"
   ]
  },
  {
   "cell_type": "code",
   "execution_count": 19,
   "metadata": {},
   "outputs": [],
   "source": [
    "# c = -np.array(list(price.values()))\n",
    "# c"
   ]
  },
  {
   "cell_type": "code",
   "execution_count": 20,
   "metadata": {},
   "outputs": [],
   "source": [
    "# A_ub = np.array([np.array(list(w.values())), np.array(list(v.values()))])\n",
    "\n",
    "# A_ub"
   ]
  },
  {
   "cell_type": "code",
   "execution_count": null,
   "metadata": {},
   "outputs": [],
   "source": [
    "b_ub = np.array([kw, kv])\n",
    "b_ub"
   ]
  },
  {
   "cell_type": "code",
   "execution_count": null,
   "metadata": {},
   "outputs": [],
   "source": [
    "bounds = [\n",
    "    (0, 1),\n",
    "] * 10\n",
    "bounds"
   ]
  },
  {
   "cell_type": "code",
   "execution_count": null,
   "metadata": {},
   "outputs": [],
   "source": [
    "from scipy.optimize import linprog\n",
    "\n",
    "# Obtain solution\n",
    "sol = linprog(c, A_ub=A_ub, b_ub=b_ub, bounds=bounds)\n",
    "\n",
    "print(sol)"
   ]
  },
  {
   "cell_type": "code",
   "execution_count": null,
   "metadata": {},
   "outputs": [],
   "source": [
    "integrality_vector = np.full(c.shape[0], 1)\n",
    "print(integrality_vector)\n",
    "sol_int = linprog(\n",
    "    c, A_ub=A_ub, b_ub=b_ub, bounds=bounds, integrality=integrality_vector\n",
    ")\n",
    "print(sol_int)"
   ]
  },
  {
   "cell_type": "code",
   "execution_count": null,
   "metadata": {},
   "outputs": [],
   "source": []
  }
 ],
 "metadata": {
  "kernelspec": {
   "display_name": "ml39",
   "language": "python",
   "name": "python3"
  },
  "language_info": {
   "codemirror_mode": {
    "name": "ipython",
    "version": 3
   },
   "file_extension": ".py",
   "mimetype": "text/x-python",
   "name": "python",
   "nbconvert_exporter": "python",
   "pygments_lexer": "ipython3",
   "version": "3.9.16"
  },
  "orig_nbformat": 4
 },
 "nbformat": 4,
 "nbformat_minor": 2
}
