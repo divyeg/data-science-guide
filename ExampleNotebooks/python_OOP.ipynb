{
 "cells": [
  {
   "cell_type": "markdown",
   "id": "246efedf",
   "metadata": {},
   "source": [
    "## Classes in python by example\n",
    "\n",
    "Turtle: A moving reptile holding a pen and taking commands\n",
    "\n",
    "Attributes: Position, Angel, Pen\n",
    "Methods: Forward(distance), back(distance), left(angle), right(angle), penup(), pendown()\n",
    "\n",
    "Terrarium: The figure drawn by turtles\n",
    "\n",
    "Attributes: An attribute is variables that are stored within the class representative of properties of the object\n",
    "Methods: A method is the function that can be called to modify the attributes of the class"
   ]
  },
  {
   "cell_type": "code",
   "execution_count": 1,
   "id": "a97fd9aa",
   "metadata": {},
   "outputs": [],
   "source": [
    "import math\n",
    "\n",
    "import matplotlib.pyplot as plt"
   ]
  },
  {
   "cell_type": "code",
   "execution_count": 2,
   "id": "b3f14ce2",
   "metadata": {},
   "outputs": [
    {
     "data": {
      "image/png": "[encoded data removed]",
      "text/plain": [
       "<Figure size 216x216 with 1 Axes>"
      ]
     },
     "metadata": {},
     "output_type": "display_data"
    }
   ],
   "source": [
    "## this code fragment helps us learn how to draw a 2D line using matplotlib\n",
    "\n",
    "fig = plt.figure(figsize=(3,3))\n",
    "axes = plt.axes()\n",
    "\n",
    "line = plt.Line2D((0,1), (0.5, 0.25))\n",
    "axes.add_line(line)\n",
    "\n",
    "# set x and y labels\n",
    "axes.set_xticks([])\n",
    "axes.set_yticks([])\n",
    "\n",
    "#change color of the box\n",
    "for spine in ['top', 'bottom', 'left', 'right']:\n",
    "    axes.spines[spine].set_color('0.9')\n",
    "\n",
    "#rescale axis to fit drawing\n",
    "axes.axis('scaled')\n",
    "\n",
    "#add a small border\n",
    "xmin, xmax, ymin, ymax = axes.axis()\n",
    "dx = (xmax - xmin) / 50\n",
    "axes.axis([xmin-dx, xmax+dx, ymin-dx, ymax+dx]); #semicolon avoid printing out object"
   ]
  },
  {
   "cell_type": "code",
   "execution_count": 3,
   "id": "c222b4d6",
   "metadata": {},
   "outputs": [],
   "source": [
    "class Terrarium:\n",
    "    def __init__(self):\n",
    "        self.fig = plt.figure(figsize=(3,3))\n",
    "        self.axes = plt.axes()\n",
    "        \n",
    "        self.axes.set_xticks([])\n",
    "        self.axes.set_yticks([])\n",
    "        \n",
    "        for spine in ['top', 'bottom', 'left', 'right']:\n",
    "            self.axes.spines[spine].set_color('0.9')\n",
    "        \n",
    "    def rescale(self):\n",
    "        self.axes.axis('scaled')\n",
    "        \n",
    "        xmin, xmax, ymin, ymax = self.axes.axis()\n",
    "        dx = (xmax - xmin) / 50\n",
    "        self.axes.axis([xmin-dx, xmax+dx, ymin-dx, ymax+dx])"
   ]
  },
  {
   "cell_type": "code",
   "execution_count": 4,
   "id": "0b6606a6",
   "metadata": {},
   "outputs": [],
   "source": [
    "class Turtle:\n",
    "    def __init__(self, terrarium):\n",
    "        self.pos = (0, 0)\n",
    "        self.angle = 0\n",
    "        self.pen = True\n",
    "        \n",
    "        self.axes = terrarium.axes\n",
    "        \n",
    "    deg = math.pi / 180.0\n",
    "    \n",
    "    def forward(self, distance):\n",
    "        newpos = (self.pos[0] + distance * math.cos(self.angle * self.deg),\n",
    "                  self.pos[1] + distance * math.sin(self.angle * self.deg))\n",
    "        \n",
    "        if self.pen:\n",
    "            line = plt.Line2D((self.pos[0], newpos[0]), (self.pos[1], newpos[1]))\n",
    "            self.axes.add_line(line)\n",
    "        \n",
    "        self.pos = newpos\n",
    "        \n",
    "    def backward(self, distance):\n",
    "        self.forward(-distance)\n",
    "        \n",
    "    def left_angle(self, angle):\n",
    "        self.angle = (self.angle + angle) % 360\n",
    "        \n",
    "    def right_angle(self, angle):\n",
    "        self.angle = (self.angle - angle) % 360\n",
    "        \n",
    "    def penup(self):\n",
    "        self.pen = False\n",
    "        \n",
    "    def penup(self):\n",
    "        self.pen = True"
   ]
  },
  {
   "cell_type": "code",
   "execution_count": 5,
   "id": "fbfac3ec",
   "metadata": {},
   "outputs": [
    {
     "data": {
      "image/png": "[encoded data removed]",
      "text/plain": [
       "<Figure size 216x216 with 1 Axes>"
      ]
     },
     "metadata": {},
     "output_type": "display_data"
    }
   ],
   "source": [
    "t = Terrarium()"
   ]
  },
  {
   "cell_type": "code",
   "execution_count": 6,
   "id": "19a8d028",
   "metadata": {},
   "outputs": [
    {
     "data": {
      "image/png": "[encoded data removed]",
      "text/plain": [
       "<Figure size 216x216 with 1 Axes>"
      ]
     },
     "metadata": {},
     "output_type": "display_data"
    }
   ],
   "source": [
    "t = Terrarium()\n",
    "t1 = Turtle(t)\n",
    "\n",
    "t1.forward(100)\n",
    "t1.left_angle(90)\n",
    "t1.forward(150)\n",
    "t1.right_angle(45)\n",
    "t1.backward(100)\n",
    "\n",
    "t.rescale()"
   ]
  },
  {
   "cell_type": "code",
   "execution_count": null,
   "id": "1e431ab0",
   "metadata": {},
   "outputs": [],
   "source": []
  }
 ],
 "metadata": {
  "kernelspec": {
   "display_name": "Python 3 (ipykernel)",
   "language": "python",
   "name": "python3"
  },
  "language_info": {
   "codemirror_mode": {
    "name": "ipython",
    "version": 3
   },
   "file_extension": ".py",
   "mimetype": "text/x-python",
   "name": "python",
   "nbconvert_exporter": "python",
   "pygments_lexer": "ipython3",
   "version": "3.9.12"
  }
 },
 "nbformat": 4,
 "nbformat_minor": 5
}
